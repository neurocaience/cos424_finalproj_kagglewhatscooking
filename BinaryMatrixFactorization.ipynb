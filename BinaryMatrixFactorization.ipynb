{
 "cells": [
  {
   "cell_type": "markdown",
   "metadata": {},
   "source": [
    "### Overview\n",
    "\n",
    "This notebook uses **binary matrix factorization (BMF)** to identify latent recipes in the dataset.\n",
    "\n",
    "The analyses are based on a binary matrix (X), with rows representing the recipes (size $n$), columns representing all the ingredients (size $p$); each entry is a boolean value indicating whether the corresponding ingredient is in that certain recipe. Note that we do not have access to cuisine labels in these analyses (thus unsupervised).\n",
    "\n",
    "#### A brief intro to BMF\n",
    "\n",
    "BMF is a special case of non-negative matrix factorization (a type of unsupervised learning methods). It tries to factorize binary matrix X into two matrices H and W :\n",
    "$$\n",
    "X \\approx HW,\n",
    "$$\n",
    "\n",
    "where $X \\in \\mathbb{R}^{n \\times p}$, $H \\in \\mathbb{R}^{n \\times r}$ and $W \\in \\mathbb{R}^{r \\times p}$.\n",
    "\n",
    "In the case of this dataset, this can be seen as finding $r$ latent recipes, with basis matrix $W$ describing their tendency to have each ingredient, and mixture matrix $H$ quantifying how each recipe can be seen as a weighted combination of the latent recipes.\n",
    "\n",
    "A more detailed description of BMF (and its comparison with other unsupervised learning methods) can be found in [Zhang et al. (2007)](https://ieeexplore.ieee.org/abstract/document/4470263).\n",
    "\n",
    "#### Prerequisite\n",
    "\n",
    "We use python package [Nimfa](http://nimfa.biolab.si/) to implement the BMF method. To run this notebook, you need to first install Nimfa via `pip install nimfa`.\n",
    "\n",
    "#### Relationship with other jupyter notebooks and other files in the repository\n",
    "\n",
    "Later when examining the analysis results, it will be helpful to have the notebook `DataExploration.ipynb` (specifically the secion \"The most common ingredients in each cuisine\") open to compare the ingredients in latent recipes to the common ingredients in each cuisine .\n",
    "\n",
    "Folder `BMFresults/` have all the results of running the BMF models with different numbers of latent recipes (only the W matrices for now; will add the H matrices if we end up analyzing them). Fitting all these models will take forever locally... I ran them on the cluster and saved the results, so we can just load in the results."
   ]
  },
  {
   "cell_type": "code",
   "execution_count": 29,
   "metadata": {},
   "outputs": [],
   "source": [
    "import numpy as np\n",
    "import pandas as pd\n",
    "import matplotlib.pyplot as plt\n",
    "import seaborn as sns\n",
    "import nimfa\n",
    "from collections import Counter"
   ]
  },
  {
   "cell_type": "markdown",
   "metadata": {},
   "source": [
    "### Load the data"
   ]
  },
  {
   "cell_type": "code",
   "execution_count": 22,
   "metadata": {},
   "outputs": [
    {
     "data": {
      "text/html": [
       "<div>\n",
       "<style scoped>\n",
       "    .dataframe tbody tr th:only-of-type {\n",
       "        vertical-align: middle;\n",
       "    }\n",
       "\n",
       "    .dataframe tbody tr th {\n",
       "        vertical-align: top;\n",
       "    }\n",
       "\n",
       "    .dataframe thead th {\n",
       "        text-align: right;\n",
       "    }\n",
       "</style>\n",
       "<table border=\"1\" class=\"dataframe\">\n",
       "  <thead>\n",
       "    <tr style=\"text-align: right;\">\n",
       "      <th></th>\n",
       "      <th>cuisine</th>\n",
       "      <th>id</th>\n",
       "      <th>ingredients</th>\n",
       "    </tr>\n",
       "  </thead>\n",
       "  <tbody>\n",
       "    <tr>\n",
       "      <th>0</th>\n",
       "      <td>greek</td>\n",
       "      <td>10259</td>\n",
       "      <td>[romaine lettuce, black olives, grape tomatoes...</td>\n",
       "    </tr>\n",
       "    <tr>\n",
       "      <th>1</th>\n",
       "      <td>southern_us</td>\n",
       "      <td>25693</td>\n",
       "      <td>[plain flour, ground pepper, salt, tomatoes, g...</td>\n",
       "    </tr>\n",
       "    <tr>\n",
       "      <th>2</th>\n",
       "      <td>filipino</td>\n",
       "      <td>20130</td>\n",
       "      <td>[eggs, pepper, salt, mayonaise, cooking oil, g...</td>\n",
       "    </tr>\n",
       "    <tr>\n",
       "      <th>3</th>\n",
       "      <td>indian</td>\n",
       "      <td>22213</td>\n",
       "      <td>[water, vegetable oil, wheat, salt]</td>\n",
       "    </tr>\n",
       "    <tr>\n",
       "      <th>4</th>\n",
       "      <td>indian</td>\n",
       "      <td>13162</td>\n",
       "      <td>[black pepper, shallots, cornflour, cayenne pe...</td>\n",
       "    </tr>\n",
       "  </tbody>\n",
       "</table>\n",
       "</div>"
      ],
      "text/plain": [
       "       cuisine     id                                        ingredients\n",
       "0        greek  10259  [romaine lettuce, black olives, grape tomatoes...\n",
       "1  southern_us  25693  [plain flour, ground pepper, salt, tomatoes, g...\n",
       "2     filipino  20130  [eggs, pepper, salt, mayonaise, cooking oil, g...\n",
       "3       indian  22213                [water, vegetable oil, wheat, salt]\n",
       "4       indian  13162  [black pepper, shallots, cornflour, cayenne pe..."
      ]
     },
     "execution_count": 22,
     "metadata": {},
     "output_type": "execute_result"
    }
   ],
   "source": [
    "data = pd.read_json('train.json')\n",
    "data.head()"
   ]
  },
  {
   "cell_type": "markdown",
   "metadata": {},
   "source": [
    "### Create a binary matrix indicating whether or not an ingredient is in a recipe"
   ]
  },
  {
   "cell_type": "code",
   "execution_count": 23,
   "metadata": {},
   "outputs": [
    {
     "data": {
      "text/html": [
       "<div>\n",
       "<style scoped>\n",
       "    .dataframe tbody tr th:only-of-type {\n",
       "        vertical-align: middle;\n",
       "    }\n",
       "\n",
       "    .dataframe tbody tr th {\n",
       "        vertical-align: top;\n",
       "    }\n",
       "\n",
       "    .dataframe thead th {\n",
       "        text-align: right;\n",
       "    }\n",
       "</style>\n",
       "<table border=\"1\" class=\"dataframe\">\n",
       "  <thead>\n",
       "    <tr style=\"text-align: right;\">\n",
       "      <th></th>\n",
       "      <th>(    oz.) tomato sauce</th>\n",
       "      <th>(   oz.) tomato paste</th>\n",
       "      <th>(10 oz.) frozen chopped spinach</th>\n",
       "      <th>(10 oz.) frozen chopped spinach, thawed and squeezed dry</th>\n",
       "      <th>(14 oz.) sweetened condensed milk</th>\n",
       "      <th>(14.5 oz.) diced tomatoes</th>\n",
       "      <th>(15 oz.) refried beans</th>\n",
       "      <th>1% low-fat buttermilk</th>\n",
       "      <th>1% low-fat chocolate milk</th>\n",
       "      <th>1% low-fat cottage cheese</th>\n",
       "      <th>...</th>\n",
       "      <th>yukon gold potatoes</th>\n",
       "      <th>yuzu</th>\n",
       "      <th>yuzu juice</th>\n",
       "      <th>za'atar</th>\n",
       "      <th>zest</th>\n",
       "      <th>zesty italian dressing</th>\n",
       "      <th>zinfandel</th>\n",
       "      <th>ziti</th>\n",
       "      <th>zucchini</th>\n",
       "      <th>zucchini blossoms</th>\n",
       "    </tr>\n",
       "  </thead>\n",
       "  <tbody>\n",
       "    <tr>\n",
       "      <th>0</th>\n",
       "      <td>0.0</td>\n",
       "      <td>0.0</td>\n",
       "      <td>0.0</td>\n",
       "      <td>0.0</td>\n",
       "      <td>0.0</td>\n",
       "      <td>0.0</td>\n",
       "      <td>0.0</td>\n",
       "      <td>0.0</td>\n",
       "      <td>0.0</td>\n",
       "      <td>0.0</td>\n",
       "      <td>...</td>\n",
       "      <td>0.0</td>\n",
       "      <td>0.0</td>\n",
       "      <td>0.0</td>\n",
       "      <td>0.0</td>\n",
       "      <td>0.0</td>\n",
       "      <td>0.0</td>\n",
       "      <td>0.0</td>\n",
       "      <td>0.0</td>\n",
       "      <td>0.0</td>\n",
       "      <td>0.0</td>\n",
       "    </tr>\n",
       "    <tr>\n",
       "      <th>1</th>\n",
       "      <td>0.0</td>\n",
       "      <td>0.0</td>\n",
       "      <td>0.0</td>\n",
       "      <td>0.0</td>\n",
       "      <td>0.0</td>\n",
       "      <td>0.0</td>\n",
       "      <td>0.0</td>\n",
       "      <td>0.0</td>\n",
       "      <td>0.0</td>\n",
       "      <td>0.0</td>\n",
       "      <td>...</td>\n",
       "      <td>0.0</td>\n",
       "      <td>0.0</td>\n",
       "      <td>0.0</td>\n",
       "      <td>0.0</td>\n",
       "      <td>0.0</td>\n",
       "      <td>0.0</td>\n",
       "      <td>0.0</td>\n",
       "      <td>0.0</td>\n",
       "      <td>0.0</td>\n",
       "      <td>0.0</td>\n",
       "    </tr>\n",
       "    <tr>\n",
       "      <th>2</th>\n",
       "      <td>0.0</td>\n",
       "      <td>0.0</td>\n",
       "      <td>0.0</td>\n",
       "      <td>0.0</td>\n",
       "      <td>0.0</td>\n",
       "      <td>0.0</td>\n",
       "      <td>0.0</td>\n",
       "      <td>0.0</td>\n",
       "      <td>0.0</td>\n",
       "      <td>0.0</td>\n",
       "      <td>...</td>\n",
       "      <td>0.0</td>\n",
       "      <td>0.0</td>\n",
       "      <td>0.0</td>\n",
       "      <td>0.0</td>\n",
       "      <td>0.0</td>\n",
       "      <td>0.0</td>\n",
       "      <td>0.0</td>\n",
       "      <td>0.0</td>\n",
       "      <td>0.0</td>\n",
       "      <td>0.0</td>\n",
       "    </tr>\n",
       "    <tr>\n",
       "      <th>3</th>\n",
       "      <td>0.0</td>\n",
       "      <td>0.0</td>\n",
       "      <td>0.0</td>\n",
       "      <td>0.0</td>\n",
       "      <td>0.0</td>\n",
       "      <td>0.0</td>\n",
       "      <td>0.0</td>\n",
       "      <td>0.0</td>\n",
       "      <td>0.0</td>\n",
       "      <td>0.0</td>\n",
       "      <td>...</td>\n",
       "      <td>0.0</td>\n",
       "      <td>0.0</td>\n",
       "      <td>0.0</td>\n",
       "      <td>0.0</td>\n",
       "      <td>0.0</td>\n",
       "      <td>0.0</td>\n",
       "      <td>0.0</td>\n",
       "      <td>0.0</td>\n",
       "      <td>0.0</td>\n",
       "      <td>0.0</td>\n",
       "    </tr>\n",
       "    <tr>\n",
       "      <th>4</th>\n",
       "      <td>0.0</td>\n",
       "      <td>0.0</td>\n",
       "      <td>0.0</td>\n",
       "      <td>0.0</td>\n",
       "      <td>0.0</td>\n",
       "      <td>0.0</td>\n",
       "      <td>0.0</td>\n",
       "      <td>0.0</td>\n",
       "      <td>0.0</td>\n",
       "      <td>0.0</td>\n",
       "      <td>...</td>\n",
       "      <td>0.0</td>\n",
       "      <td>0.0</td>\n",
       "      <td>0.0</td>\n",
       "      <td>0.0</td>\n",
       "      <td>0.0</td>\n",
       "      <td>0.0</td>\n",
       "      <td>0.0</td>\n",
       "      <td>0.0</td>\n",
       "      <td>0.0</td>\n",
       "      <td>0.0</td>\n",
       "    </tr>\n",
       "  </tbody>\n",
       "</table>\n",
       "<p>5 rows × 6714 columns</p>\n",
       "</div>"
      ],
      "text/plain": [
       "   (    oz.) tomato sauce  (   oz.) tomato paste  \\\n",
       "0                     0.0                    0.0   \n",
       "1                     0.0                    0.0   \n",
       "2                     0.0                    0.0   \n",
       "3                     0.0                    0.0   \n",
       "4                     0.0                    0.0   \n",
       "\n",
       "   (10 oz.) frozen chopped spinach  \\\n",
       "0                              0.0   \n",
       "1                              0.0   \n",
       "2                              0.0   \n",
       "3                              0.0   \n",
       "4                              0.0   \n",
       "\n",
       "   (10 oz.) frozen chopped spinach, thawed and squeezed dry  \\\n",
       "0                                                0.0          \n",
       "1                                                0.0          \n",
       "2                                                0.0          \n",
       "3                                                0.0          \n",
       "4                                                0.0          \n",
       "\n",
       "   (14 oz.) sweetened condensed milk  (14.5 oz.) diced tomatoes  \\\n",
       "0                                0.0                        0.0   \n",
       "1                                0.0                        0.0   \n",
       "2                                0.0                        0.0   \n",
       "3                                0.0                        0.0   \n",
       "4                                0.0                        0.0   \n",
       "\n",
       "   (15 oz.) refried beans  1% low-fat buttermilk  1% low-fat chocolate milk  \\\n",
       "0                     0.0                    0.0                        0.0   \n",
       "1                     0.0                    0.0                        0.0   \n",
       "2                     0.0                    0.0                        0.0   \n",
       "3                     0.0                    0.0                        0.0   \n",
       "4                     0.0                    0.0                        0.0   \n",
       "\n",
       "   1% low-fat cottage cheese  ...  yukon gold potatoes  yuzu  yuzu juice  \\\n",
       "0                        0.0  ...                  0.0   0.0         0.0   \n",
       "1                        0.0  ...                  0.0   0.0         0.0   \n",
       "2                        0.0  ...                  0.0   0.0         0.0   \n",
       "3                        0.0  ...                  0.0   0.0         0.0   \n",
       "4                        0.0  ...                  0.0   0.0         0.0   \n",
       "\n",
       "   za'atar  zest  zesty italian dressing  zinfandel  ziti  zucchini  \\\n",
       "0      0.0   0.0                     0.0        0.0   0.0       0.0   \n",
       "1      0.0   0.0                     0.0        0.0   0.0       0.0   \n",
       "2      0.0   0.0                     0.0        0.0   0.0       0.0   \n",
       "3      0.0   0.0                     0.0        0.0   0.0       0.0   \n",
       "4      0.0   0.0                     0.0        0.0   0.0       0.0   \n",
       "\n",
       "   zucchini blossoms  \n",
       "0                0.0  \n",
       "1                0.0  \n",
       "2                0.0  \n",
       "3                0.0  \n",
       "4                0.0  \n",
       "\n",
       "[5 rows x 6714 columns]"
      ]
     },
     "execution_count": 23,
     "metadata": {},
     "output_type": "execute_result"
    }
   ],
   "source": [
    "# get the list of ingredients\n",
    "ingredientList = sorted(list(set([ingredient for i in range(data.shape[0]) for ingredient in data.loc[i,'ingredients']])))\n",
    "# the mapping between ingredient and its index\n",
    "ingredient2index = dict(zip(ingredientList, range(len(ingredientList))))\n",
    "# create a binary matrix indicating whether or not an ingredient is in a recipe\n",
    "binaryIngredientsMat = np.zeros((data.shape[0], len(ingredientList)))\n",
    "for iRecipe in range(data.shape[0]):\n",
    "    binaryIngredientsMat[iRecipe, [ingredient2index[ingredient] for ingredient in data.loc[iRecipe, 'ingredients']]] = 1\n",
    "dataBinaryIngredients = pd.DataFrame(binaryIngredientsMat, columns=ingredientList)\n",
    "dataBinaryIngredients.head()"
   ]
  },
  {
   "cell_type": "markdown",
   "metadata": {},
   "source": [
    "### Binary matrix facterization (using package nimfa)"
   ]
  },
  {
   "cell_type": "markdown",
   "metadata": {},
   "source": [
    "#### Try 6 latent components (\"latent\" recipes)"
   ]
  },
  {
   "cell_type": "code",
   "execution_count": 4,
   "metadata": {},
   "outputs": [
    {
     "name": "stderr",
     "output_type": "stream",
     "text": [
      "/Users/mingyusong/anaconda3/envs/cos424/lib/python3.7/site-packages/nimfa/examples/cbcl_images.py:98: UserWarning: PIL must be installed to run CBCL images example.\n",
      "  warn(\"PIL must be installed to run CBCL images example.\")\n",
      "/Users/mingyusong/anaconda3/envs/cos424/lib/python3.7/site-packages/nimfa/examples/orl_images.py:110: UserWarning: PIL must be installed to run ORL images example.\n",
      "  warn(\"PIL must be installed to run ORL images example.\")\n"
     ]
    },
    {
     "name": "stdout",
     "output_type": "stream",
     "text": [
      "CPU times: user 16min 1s, sys: 2min 41s, total: 18min 42s\n",
      "Wall time: 10min 38s\n"
     ]
    }
   ],
   "source": [
    "%%time\n",
    "\n",
    "NComponents = 6\n",
    "X = dataBinaryIngredients.values\n",
    "\n",
    "# use default values for lambda_w and lambda_h, increase max_iter to 100 to make sure fitting converges\n",
    "bmf = nimfa.Bmf(X, seed=\"nndsvd\", rank=NComponents, max_iter=100, lambda_w=1.1, lambda_h=1.1)\n",
    "bmf_fit = bmf()"
   ]
  },
  {
   "cell_type": "code",
   "execution_count": 6,
   "metadata": {},
   "outputs": [],
   "source": [
    "# get the two matrices\n",
    "W = np.array(bmf_fit.coef())\n",
    "H = np.array(bmf_fit.basis())"
   ]
  },
  {
   "cell_type": "code",
   "execution_count": 19,
   "metadata": {},
   "outputs": [
    {
     "data": {
      "image/png": "[encoded data removed]",
      "text/plain": [
       "<Figure size 432x288 with 1 Axes>"
      ]
     },
     "metadata": {
      "needs_background": "light"
     },
     "output_type": "display_data"
    }
   ],
   "source": [
    "# most feature weights are very close to 0, i.e. weight matrix W is very sparse\n",
    "for i in range(NComponents):\n",
    "    sns.distplot(W[i,:], bins=np.linspace(0,1,101), label=i, kde=False)"
   ]
  },
  {
   "cell_type": "code",
   "execution_count": 9,
   "metadata": {},
   "outputs": [
    {
     "name": "stdout",
     "output_type": "stream",
     "text": [
      "Top ingredients for each \"latent recipe\":\n",
      "Latent recipe 1 : ['sugar' 'all-purpose flour' 'large eggs' 'unsalted butter' 'butter'\n",
      " 'baking powder' 'milk'] [0.80031423 0.77347722 0.42743228 0.37916551 0.37514472 0.33897218\n",
      " 0.25870744]\n",
      "Latent recipe 2 : ['onions' 'garlic' 'tomatoes' 'ground cumin' 'chili powder' 'carrots'\n",
      " 'vegetable oil'] [0.97898678 0.6086343  0.18198474 0.17025485 0.14434273 0.13881632\n",
      " 0.12238046]\n",
      "Latent recipe 3 : ['olive oil' 'garlic cloves' 'ground black pepper' 'kosher salt'\n",
      " 'extra-virgin olive oil' 'grated parmesan cheese' 'purple onion'] [0.93341646 0.59477419 0.32937025 0.13827699 0.13744918 0.12089553\n",
      " 0.11997928]\n",
      "Latent recipe 4 : ['salt' 'pepper' 'butter' 'eggs' 'black pepper' 'oil' 'flour'] [1.05014124 0.2701847  0.11458608 0.08254085 0.06046895 0.05168506\n",
      " 0.05016358]\n",
      "Latent recipe 5 : ['water' 'garlic cloves' 'carrots' 'salt' 'vegetable oil' 'oil'\n",
      " 'chopped onion'] [1.00357722 0.05137566 0.03993033 0.0377805  0.03681479 0.03420766\n",
      " 0.02965419]\n",
      "Latent recipe 6 : ['soy sauce' 'sesame oil' 'green onions' 'garlic' 'sugar' 'vegetable oil'\n",
      " 'scallions'] [0.82262161 0.46335181 0.45840144 0.41960505 0.34087356 0.30482495\n",
      " 0.29936564]\n"
     ]
    }
   ],
   "source": [
    "# top (0.1%) ingredients for each \"latent recipe\"\n",
    "print('Top ingredients for each \"latent recipe\":')\n",
    "Ntop = 10\n",
    "for i in range(NComponents):\n",
    "    topIndices = np.where(W[i,:] > np.percentile(W[i,:], 99.9))[0]\n",
    "    topIndices = topIndices[np.argsort(-W[i, topIndices])]\n",
    "    # print the ingredients and their weights\n",
    "    print('Latent recipe', i+1, ':', dataBinaryIngredients.columns.values[topIndices], W[i, topIndices])"
   ]
  },
  {
   "cell_type": "markdown",
   "metadata": {},
   "source": [
    "\n",
    "**Some observations from NComponents = 6:**\n",
    "- It picks out the some cuisines!! Just eyeballing the top ingredients, there seems to be the following mappings: latent recipe 1: southern-us; 2: mexican; 3: italian; 6: chinese. Interestingly (and also probably as expected?), these cuisines are the ones with the most recipes.\n",
    "- Other latent recipes (4 and 5) don't seem to map to any specific cuisine, but are a collection of commonly used ingredients. Note that latent recipe 5 might seem an odd combination of ingredients, but if we look at the weights, it's only 'water' that has a very high weight, so we can probably think of this latent recipe just representing the common ingredient 'water'."
   ]
  },
  {
   "cell_type": "markdown",
   "metadata": {},
   "source": [
    "#### What about other values of NComponents?\n",
    "\n",
    "(The complete results of NComponents = 2 to 20 can be found <a href='#moreNComponent'>here</a>.)\n",
    "\n",
    "1. In general, if `NComponents` is too small, the latent recipes just pick out some common ingredients, which isn't super interesting.\n",
    "\n",
    "Here is an example of NComponents = 2:"
   ]
  },
  {
   "cell_type": "code",
   "execution_count": 17,
   "metadata": {},
   "outputs": [
    {
     "name": "stdout",
     "output_type": "stream",
     "text": [
      "Top ingredients for each \"latent recipe\":\n",
      "Latent recipe 1 : ['salt' 'sugar' 'all-purpose flour' 'butter' 'large eggs' 'eggs'\n",
      " 'unsalted butter'] [0.80848312 0.71335787 0.66128501 0.45523304 0.35484499 0.30094422\n",
      " 0.30065275]\n",
      "Latent recipe 2 : ['salt' 'onions' 'olive oil' 'garlic' 'garlic cloves' 'water' 'pepper'] [0.73250573 0.49962053 0.45732962 0.4340472  0.32212044 0.30930382\n",
      " 0.26627989]\n"
     ]
    }
   ],
   "source": [
    "NComponents = 2\n",
    "\n",
    "# load in BMF results\n",
    "W = pd.read_csv('BMFresults/NComponents'+str(NComponents)+'_W.csv', header=None, index_col=False).values\n",
    "\n",
    "# top ingredients for each \"latent recipe\" and their weights\n",
    "print('Top ingredients for each \"latent recipe\":')\n",
    "for i in range(NComponents):\n",
    "    topIndices = np.where(W[i,:] > np.percentile(W[i,:], 99.9))[0]\n",
    "    topIndices = topIndices[np.argsort(-W[i, topIndices])]\n",
    "    print('Latent recipe', i+1, ':', dataBinaryIngredients.columns.values[topIndices], W[i, topIndices])"
   ]
  },
  {
   "cell_type": "markdown",
   "metadata": {},
   "source": [
    "2. With larger `NComponents` values, the model doesn't continue to pick out more cuisines as we increase `NComponents`; still only the major cuisines get picked out (e.g. italian, southern-us, mexican and chinese). The other latent recipes are usually very sparse with only one or a couple ingredient having weights close to 1, and others having very small weights; these 'stand-out' ingredients are usually the common ingredients.\n",
    "\n",
    "Here is an example of NComponents = 15 (top 0.1% ingredients are shown, with an additional cutoff criterion of weight>0.1 to make the results more clear):"
   ]
  },
  {
   "cell_type": "code",
   "execution_count": 18,
   "metadata": {},
   "outputs": [
    {
     "name": "stdout",
     "output_type": "stream",
     "text": [
      "Top ingredients for each \"latent recipe\":\n",
      "Latent recipe 1 : ['sugar'] [1.0001615]\n",
      "Latent recipe 2 : ['garlic' 'onions'] [1.04728348 0.43421348]\n",
      "Latent recipe 3 : ['olive oil'] [1.00010914]\n",
      "Latent recipe 4 : ['butter' 'milk'] [1.00917809 0.13550916]\n",
      "Latent recipe 5 : ['water'] [0.99720205]\n",
      "Latent recipe 6 : ['soy sauce' 'sesame oil' 'green onions' 'corn starch' 'scallions'\n",
      " 'rice vinegar' 'ginger'] [0.98835219 0.55217838 0.48252297 0.30626869 0.30043369 0.29290696\n",
      " 0.24322356]\n",
      "Latent recipe 7 : ['vegetable oil'] [1.00002379]\n",
      "Latent recipe 8 : ['garlic cloves' 'onions'] [1.006723   0.25183557]\n",
      "Latent recipe 9 : ['ground cumin' 'chili powder' 'tomatoes' 'jalapeno chilies'\n",
      " 'chopped cilantro fresh' 'sour cream' 'avocado'] [0.7469894  0.51436138 0.32002288 0.29969831 0.27608738 0.26425783\n",
      " 0.25773901]\n",
      "Latent recipe 10 : ['salt'] [0.91667854]\n",
      "Latent recipe 11 : ['pepper'] [0.99974241]\n",
      "Latent recipe 12 : ['onions' 'eggs' 'oil' 'milk' 'salt' 'flour'] [0.41685365 0.39307138 0.19238655 0.12330204 0.11501736 0.11304385]\n",
      "Latent recipe 13 : ['black pepper'] [1.0026216]\n",
      "Latent recipe 14 : ['ground black pepper' 'kosher salt' 'extra-virgin olive oil'] [1.00500829 0.27770719 0.18918458]\n",
      "Latent recipe 15 : ['all-purpose flour' 'large eggs' 'unsalted butter' 'baking powder'\n",
      " 'baking soda' 'buttermilk' 'vanilla extract'] [1.0556846  0.4750709  0.44368786 0.34859657 0.18759998 0.1570008\n",
      " 0.15050496]\n"
     ]
    }
   ],
   "source": [
    "NComponents = 15\n",
    "\n",
    "# load in BMF results\n",
    "W = pd.read_csv('BMFresults/NComponents'+str(NComponents)+'_W.csv', header=None, index_col=False).values\n",
    "\n",
    "# top ingredients for each \"latent recipe\" and their weights\n",
    "print('Top ingredients for each \"latent recipe\":')\n",
    "for i in range(NComponents):\n",
    "    topIndices = np.where((W[i,:] > np.percentile(W[i,:], 99.9))&(W[i,:] > 0.1))[0]\n",
    "    topIndices = topIndices[np.argsort(-W[i, topIndices])]\n",
    "    print('Latent recipe', i+1, ':', dataBinaryIngredients.columns.values[topIndices], W[i, topIndices])"
   ]
  },
  {
   "cell_type": "markdown",
   "metadata": {},
   "source": [
    "\n",
    "**Summary for NComponents = 15:**\n",
    "- Most latent recipes are very sparse (with only one ingredient having feature weight > 0.1)\n",
    "- (Following the first point) common ingredients are picked out by these sparse latent recipes: e.g. sugar, salt, pepper, water, etc\n",
    "- Major cuisines are picked out! latent recipe 6: chinese, 9: mexican, 14: italian, 15: southern-us."
   ]
  },
  {
   "cell_type": "markdown",
   "metadata": {},
   "source": [
    "### TODOs:\n",
    "\n",
    "So far we've only looked at the weight matrix W. It might also be interesting to look at matrix H (the extend to which each recipe is \"made up of\" by the latent recipes)."
   ]
  },
  {
   "cell_type": "markdown",
   "metadata": {},
   "source": [
    "### Similarity matrix between latent recipes and cuisines"
   ]
  },
  {
   "cell_type": "code",
   "execution_count": 35,
   "metadata": {},
   "outputs": [],
   "source": [
    "cuisineList = data['cuisine'].unique()\n",
    "ingredientBag = [ingredient for i in range(data.shape[0]) for ingredient in data.loc[i,'ingredients']]\n",
    "\n",
    "# ingredient count (in total and in each cuisine)\n",
    "count = []\n",
    "count.append(dict(Counter(ingredientBag)))\n",
    "for cuisine in cuisineList:\n",
    "    dataCuisine = data[data['cuisine']==cuisine].copy().reset_index()\n",
    "    count.append(dict(Counter([ingredient for i in range(dataCuisine.shape[0]) for ingredient in dataCuisine.loc[i,'ingredients']])))\n",
    "ingredientCount = pd.DataFrame(count).T\n",
    "ingredientCount.columns = ['total'] + [cuisine for cuisine in cuisineList]\n",
    "ingredientCount = ingredientCount.fillna(0)\n",
    "\n",
    "# the frequency of an ingredient in each cuisine (proportion of recipes with this ingredient for a cuisine)\n",
    "ingredientFrequency = ingredientCount[[cuisine for cuisine in cuisineList]].div(data['cuisine'].value_counts()[cuisine], axis=1)\n",
    "\n",
    "# transpose to be consistent with W\n",
    "cuisineIngredientFrequency = ingredientFrequency.T[ingredientList]"
   ]
  },
  {
   "cell_type": "code",
   "execution_count": 53,
   "metadata": {},
   "outputs": [
    {
     "data": {
      "image/png": "[encoded data removed]",
      "text/plain": [
       "<Figure size 288x72 with 1 Axes>"
      ]
     },
     "metadata": {
      "needs_background": "light"
     },
     "output_type": "display_data"
    },
    {
     "data": {
      "image/png": "[encoded data removed]",
      "text/plain": [
       "<Figure size 288x108 with 1 Axes>"
      ]
     },
     "metadata": {
      "needs_background": "light"
     },
     "output_type": "display_data"
    },
    {
     "data": {
      "image/png": "[encoded data removed]",
      "text/plain": [
       "<Figure size 288x144 with 1 Axes>"
      ]
     },
     "metadata": {
      "needs_background": "light"
     },
     "output_type": "display_data"
    },
    {
     "data": {
      "image/png": "[encoded data removed]",
      "text/plain": [
       "<Figure size 288x180 with 1 Axes>"
      ]
     },
     "metadata": {
      "needs_background": "light"
     },
     "output_type": "display_data"
    },
    {
     "data": {
      "image/png": "[encoded data removed]",
      "text/plain": [
       "<Figure size 288x216 with 1 Axes>"
      ]
     },
     "metadata": {
      "needs_background": "light"
     },
     "output_type": "display_data"
    },
    {
     "data": {
      "image/png": "[encoded data removed]",
      "text/plain": [
       "<Figure size 288x252 with 1 Axes>"
      ]
     },
     "metadata": {
      "needs_background": "light"
     },
     "output_type": "display_data"
    },
    {
     "data": {
      "image/png": "[encoded data removed]",
      "text/plain": [
       "<Figure size 288x288 with 1 Axes>"
      ]
     },
     "metadata": {
      "needs_background": "light"
     },
     "output_type": "display_data"
    },
    {
     "data": {
      "image/png": "[encoded data removed]",
      "text/plain": [
       "<Figure size 288x324 with 1 Axes>"
      ]
     },
     "metadata": {
      "needs_background": "light"
     },
     "output_type": "display_data"
    },
    {
     "data": {
      "image/png": "[encoded data removed]",
      "text/plain": [
       "<Figure size 288x360 with 1 Axes>"
      ]
     },
     "metadata": {
      "needs_background": "light"
     },
     "output_type": "display_data"
    },
    {
     "data": {
      "image/png": "[encoded data removed]",
      "text/plain": [
       "<Figure size 288x396 with 1 Axes>"
      ]
     },
     "metadata": {
      "needs_background": "light"
     },
     "output_type": "display_data"
    },
    {
     "data": {
      "image/png": "[encoded data removed]",
      "text/plain": [
       "<Figure size 288x432 with 1 Axes>"
      ]
     },
     "metadata": {
      "needs_background": "light"
     },
     "output_type": "display_data"
    },
    {
     "data": {
      "image/png": "[encoded data removed]",
      "text/plain": [
       "<Figure size 288x468 with 1 Axes>"
      ]
     },
     "metadata": {
      "needs_background": "light"
     },
     "output_type": "display_data"
    },
    {
     "data": {
      "image/png": "[encoded data removed]",
      "text/plain": [
       "<Figure size 288x504 with 1 Axes>"
      ]
     },
     "metadata": {
      "needs_background": "light"
     },
     "output_type": "display_data"
    },
    {
     "data": {
      "image/png": "[encoded data removed]",
      "text/plain": [
       "<Figure size 288x540 with 1 Axes>"
      ]
     },
     "metadata": {
      "needs_background": "light"
     },
     "output_type": "display_data"
    },
    {
     "data": {
      "image/png": "[encoded data removed]",
      "text/plain": [
       "<Figure size 288x576 with 1 Axes>"
      ]
     },
     "metadata": {
      "needs_background": "light"
     },
     "output_type": "display_data"
    },
    {
     "data": {
      "image/png": "[encoded data removed]",
      "text/plain": [
       "<Figure size 288x612 with 1 Axes>"
      ]
     },
     "metadata": {
      "needs_background": "light"
     },
     "output_type": "display_data"
    },
    {
     "data": {
      "image/png": "[encoded data removed]",
      "text/plain": [
       "<Figure size 288x648 with 1 Axes>"
      ]
     },
     "metadata": {
      "needs_background": "light"
     },
     "output_type": "display_data"
    },
    {
     "data": {
      "image/png": "[encoded data removed]",
      "text/plain": [
       "<Figure size 288x684 with 1 Axes>"
      ]
     },
     "metadata": {
      "needs_background": "light"
     },
     "output_type": "display_data"
    },
    {
     "data": {
      "image/png": "[encoded data removed]",
      "text/plain": [
       "<Figure size 288x720 with 1 Axes>"
      ]
     },
     "metadata": {
      "needs_background": "light"
     },
     "output_type": "display_data"
    }
   ],
   "source": [
    "NComponentsMax = 20\n",
    "corrmatList = []\n",
    "\n",
    "for NComponents in np.arange(1,NComponentsMax)+1:\n",
    "\n",
    "    # load in BMF results\n",
    "    W = pd.read_csv('BMFresults/NComponents'+str(NComponents)+'_W.csv', header=None, index_col=False).values\n",
    "    \n",
    "    # calculate correlations between cuisines and latent recipes\n",
    "    NCuisine = len(cuisineList)\n",
    "    corrmatList.append(np.zeros((NComponents, NCuisine)))\n",
    "    for iLatentRecipe in range(NComponents):\n",
    "        for iCuisine in range(NCuisine):\n",
    "            corrmatList[-1][iLatentRecipe, iCuisine] = np.corrcoef(cuisineIngredientFrequency.values[iCuisine,:],W[iLatentRecipe,:])[0,1]\n",
    "    \n",
    "    # plot the correlations\n",
    "    fig, ax = plt.subplots(figsize=(4,NComponents/2))\n",
    "    p = ax.matshow(corrmatList[-1], vmin=0, vmax=1)\n",
    "    ax.set(xticks=range(NCuisine), yticks=range(NComponents), xticklabels=[], yticklabels=[])\n",
    "\n",
    "ax.set_xticks(range(NCuisine))\n",
    "ax.set_xticklabels(labels=cuisineList, rotation=90, fontsize=14)\n",
    "ax.xaxis.tick_bottom()\n",
    "plt.show()"
   ]
  },
  {
   "cell_type": "code",
   "execution_count": 54,
   "metadata": {},
   "outputs": [
    {
     "data": {
      "image/png": "[encoded data removed]",
      "text/plain": [
       "<Figure size 36x36 with 1 Axes>"
      ]
     },
     "metadata": {
      "needs_background": "light"
     },
     "output_type": "display_data"
    },
    {
     "data": {
      "image/png": "[encoded data removed]",
      "text/plain": [
       "<Figure size 54x54 with 1 Axes>"
      ]
     },
     "metadata": {
      "needs_background": "light"
     },
     "output_type": "display_data"
    },
    {
     "data": {
      "image/png": "[encoded data removed]",
      "text/plain": [
       "<Figure size 72x72 with 1 Axes>"
      ]
     },
     "metadata": {
      "needs_background": "light"
     },
     "output_type": "display_data"
    },
    {
     "data": {
      "image/png": "[encoded data removed]",
      "text/plain": [
       "<Figure size 90x90 with 1 Axes>"
      ]
     },
     "metadata": {
      "needs_background": "light"
     },
     "output_type": "display_data"
    },
    {
     "data": {
      "image/png": "[encoded data removed]",
      "text/plain": [
       "<Figure size 108x108 with 1 Axes>"
      ]
     },
     "metadata": {
      "needs_background": "light"
     },
     "output_type": "display_data"
    },
    {
     "data": {
      "image/png": "[encoded data removed]",
      "text/plain": [
       "<Figure size 126x126 with 1 Axes>"
      ]
     },
     "metadata": {
      "needs_background": "light"
     },
     "output_type": "display_data"
    },
    {
     "data": {
      "image/png": "[encoded data removed]",
      "text/plain": [
       "<Figure size 144x144 with 1 Axes>"
      ]
     },
     "metadata": {
      "needs_background": "light"
     },
     "output_type": "display_data"
    },
    {
     "data": {
      "image/png": "[encoded data removed]",
      "text/plain": [
       "<Figure size 162x162 with 1 Axes>"
      ]
     },
     "metadata": {
      "needs_background": "light"
     },
     "output_type": "display_data"
    },
    {
     "data": {
      "image/png": "[encoded data removed]",
      "text/plain": [
       "<Figure size 180x180 with 1 Axes>"
      ]
     },
     "metadata": {
      "needs_background": "light"
     },
     "output_type": "display_data"
    },
    {
     "data": {
      "image/png": "[encoded data removed]",
      "text/plain": [
       "<Figure size 198x198 with 1 Axes>"
      ]
     },
     "metadata": {
      "needs_background": "light"
     },
     "output_type": "display_data"
    },
    {
     "data": {
      "image/png": "[encoded data removed]",
      "text/plain": [
       "<Figure size 216x216 with 1 Axes>"
      ]
     },
     "metadata": {
      "needs_background": "light"
     },
     "output_type": "display_data"
    },
    {
     "data": {
      "image/png": "[encoded data removed]",
      "text/plain": [
       "<Figure size 234x234 with 1 Axes>"
      ]
     },
     "metadata": {
      "needs_background": "light"
     },
     "output_type": "display_data"
    },
    {
     "data": {
      "image/png": "[encoded data removed]",
      "text/plain": [
       "<Figure size 252x252 with 1 Axes>"
      ]
     },
     "metadata": {
      "needs_background": "light"
     },
     "output_type": "display_data"
    },
    {
     "data": {
      "image/png": "[encoded data removed]",
      "text/plain": [
       "<Figure size 270x270 with 1 Axes>"
      ]
     },
     "metadata": {
      "needs_background": "light"
     },
     "output_type": "display_data"
    },
    {
     "data": {
      "image/png": "[encoded data removed]",
      "text/plain": [
       "<Figure size 288x288 with 1 Axes>"
      ]
     },
     "metadata": {
      "needs_background": "light"
     },
     "output_type": "display_data"
    },
    {
     "data": {
      "image/png": "[encoded data removed]",
      "text/plain": [
       "<Figure size 306x306 with 1 Axes>"
      ]
     },
     "metadata": {
      "needs_background": "light"
     },
     "output_type": "display_data"
    },
    {
     "data": {
      "image/png": "[encoded data removed]",
      "text/plain": [
       "<Figure size 324x324 with 1 Axes>"
      ]
     },
     "metadata": {
      "needs_background": "light"
     },
     "output_type": "display_data"
    },
    {
     "data": {
      "image/png": "[encoded data removed]",
      "text/plain": [
       "<Figure size 342x342 with 1 Axes>"
      ]
     },
     "metadata": {
      "needs_background": "light"
     },
     "output_type": "display_data"
    },
    {
     "data": {
      "image/png": "[encoded data removed]",
      "text/plain": [
       "<Figure size 360x360 with 1 Axes>"
      ]
     },
     "metadata": {
      "needs_background": "light"
     },
     "output_type": "display_data"
    }
   ],
   "source": [
    "# similarity between latent recipes\n",
    "NComponentsMax = 20\n",
    "corrmatList = []\n",
    "\n",
    "for NComponents in np.arange(1,NComponentsMax)+1:\n",
    "\n",
    "    # load in BMF results\n",
    "    W = pd.read_csv('BMFresults/NComponents'+str(NComponents)+'_W.csv', header=None, index_col=False).values\n",
    "    \n",
    "    # plot the correlations\n",
    "    fig, ax = plt.subplots(figsize=(NComponents/4,NComponents/4))\n",
    "    p = ax.matshow(np.corrcoef(W), vmin=0, vmax=1)\n",
    "    ax.set(xticks=range(NComponents), yticks=range(NComponents), xticklabels=[], yticklabels=[])\n",
    "\n",
    "plt.show()"
   ]
  },
  {
   "cell_type": "markdown",
   "metadata": {},
   "source": [
    "### Mixture matrix H"
   ]
  },
  {
   "cell_type": "markdown",
   "metadata": {},
   "source": [
    "#### Look at NComponents = 6 for an example"
   ]
  },
  {
   "cell_type": "code",
   "execution_count": 2,
   "metadata": {},
   "outputs": [],
   "source": [
    "NComponents = 6\n",
    "W = pd.read_csv('BMFresults/NComponents'+str(NComponents)+'_W.csv', header=None, index_col=False).values\n",
    "H = pd.read_csv('BMFresults/NComponents'+str(NComponents)+'_H.csv', header=None, index_col=False).values"
   ]
  },
  {
   "cell_type": "code",
   "execution_count": 14,
   "metadata": {},
   "outputs": [
    {
     "data": {
      "text/plain": [
       "(39774, 6)"
      ]
     },
     "execution_count": 14,
     "metadata": {},
     "output_type": "execute_result"
    }
   ],
   "source": [
    "H.shape"
   ]
  },
  {
   "cell_type": "code",
   "execution_count": 9,
   "metadata": {},
   "outputs": [
    {
     "data": {
      "image/png": "[encoded data removed]",
      "text/plain": [
       "<Figure size 1440x216 with 6 Axes>"
      ]
     },
     "metadata": {
      "needs_background": "light"
     },
     "output_type": "display_data"
    }
   ],
   "source": [
    "fig, axes = plt.subplots(1, NComponents, figsize=(20,3), sharey=True)\n",
    "for i in range(NComponents):\n",
    "    ax = axes[i]\n",
    "    ax.hist(H[:, i], alpha=0.3, range=(0,1), bins=20)\n",
    "    ax.set_xlabel('Latent Recipe '+str(i+1))\n",
    "    ax.set_ylabel('Count')\n",
    "fig.suptitle('Recipe Proportion (unnormalized) from Each Latent Recipe')\n",
    "plt.show()"
   ]
  },
  {
   "cell_type": "code",
   "execution_count": 19,
   "metadata": {},
   "outputs": [],
   "source": [
    "recipeSimilarity = np.corrcoef(H)"
   ]
  },
  {
   "cell_type": "markdown",
   "metadata": {},
   "source": [
    "### ========== The end of main results ========== "
   ]
  },
  {
   "cell_type": "markdown",
   "metadata": {},
   "source": [
    "<a id='moreNComponent'></a>\n",
    "### Supplementary: BMF with various number of \"latent recipes\"\n",
    "\n",
    "You can change the criteria for selecting what ingredients to show for each latent recipe: now I'm showing only top 0.1% AND weight>0.1."
   ]
  },
  {
   "cell_type": "code",
   "execution_count": 27,
   "metadata": {},
   "outputs": [
    {
     "name": "stdout",
     "output_type": "stream",
     "text": [
      "N component = 2\n"
     ]
    },
    {
     "data": {
      "image/png": "[encoded data removed]",
      "text/plain": [
       "<Figure size 432x288 with 1 Axes>"
      ]
     },
     "metadata": {
      "needs_background": "light"
     },
     "output_type": "display_data"
    },
    {
     "name": "stdout",
     "output_type": "stream",
     "text": [
      "Top ingredients for each \"latent recipe\":\n",
      "Latent recipe 1 : ['salt' 'sugar' 'all-purpose flour' 'butter' 'large eggs' 'eggs'\n",
      " 'unsalted butter'] [0.08053401 0.07105847 0.06587143 0.04534633 0.03534655 0.02997743\n",
      " 0.0299484 ]\n",
      "Latent recipe 2 : ['salt' 'onions' 'olive oil' 'garlic' 'garlic cloves' 'water' 'pepper'] [0.04663837 0.03181066 0.02911801 0.02763563 0.02050929 0.01969326\n",
      " 0.01695394]\n",
      "\n",
      "N component = 3\n"
     ]
    },
    {
     "data": {
      "image/png": "[encoded data removed]",
      "text/plain": [
       "<Figure size 432x288 with 1 Axes>"
      ]
     },
     "metadata": {
      "needs_background": "light"
     },
     "output_type": "display_data"
    },
    {
     "name": "stdout",
     "output_type": "stream",
     "text": [
      "Top ingredients for each \"latent recipe\":\n",
      "Latent recipe 1 : ['sugar' 'water' 'all-purpose flour' 'soy sauce' 'vegetable oil'\n",
      " 'large eggs' 'unsalted butter'] [0.08152508 0.04542749 0.03254451 0.02863343 0.02278834 0.02171314\n",
      " 0.01861884]\n",
      "Latent recipe 2 : ['onions' 'olive oil' 'garlic' 'garlic cloves' 'water'\n",
      " 'ground black pepper' 'tomatoes'] [0.04717799 0.0408669  0.03975541 0.0249375  0.01752798 0.01745979\n",
      " 0.01325862]\n",
      "Latent recipe 3 : ['salt' 'pepper' 'butter' 'all-purpose flour' 'eggs' 'black pepper'\n",
      " 'ground black pepper'] [0.18580028 0.04075796 0.03018181 0.02164009 0.01491962 0.01336006\n",
      " 0.01259521]\n",
      "\n",
      "N component = 4\n"
     ]
    },
    {
     "data": {
      "image/png": "[encoded data removed]",
      "text/plain": [
       "<Figure size 432x288 with 1 Axes>"
      ]
     },
     "metadata": {
      "needs_background": "light"
     },
     "output_type": "display_data"
    },
    {
     "name": "stdout",
     "output_type": "stream",
     "text": [
      "Top ingredients for each \"latent recipe\":\n",
      "Latent recipe 1 : ['sugar' 'all-purpose flour' 'water' 'large eggs' 'soy sauce'\n",
      " 'unsalted butter' 'baking powder'] [0.08530815 0.04474366 0.03625259 0.02660716 0.02301283 0.022427\n",
      " 0.02140956]\n",
      "Latent recipe 2 : ['onions' 'garlic' 'water' 'carrots' 'vegetable oil' 'tomatoes'\n",
      " 'ground cumin'] [0.06922375 0.06519734 0.02168521 0.01592996 0.01463782 0.0134585\n",
      " 0.01271876]\n",
      "Latent recipe 3 : ['olive oil' 'garlic cloves' 'ground black pepper'\n",
      " 'extra-virgin olive oil' 'kosher salt' 'grated parmesan cheese'\n",
      " 'fresh parsley'] [0.08719936 0.06507639 0.03449286 0.01522644 0.01497404 0.01341294\n",
      " 0.01206551]\n",
      "Latent recipe 4 : ['salt' 'pepper' 'butter' 'water' 'eggs' 'black pepper' 'milk'] [0.22699315 0.05591348 0.02530892 0.01835267 0.01762245 0.01439121\n",
      " 0.01152694]\n",
      "\n",
      "N component = 5\n"
     ]
    },
    {
     "data": {
      "image/png": "[encoded data removed]",
      "text/plain": [
       "<Figure size 432x288 with 1 Axes>"
      ]
     },
     "metadata": {
      "needs_background": "light"
     },
     "output_type": "display_data"
    },
    {
     "name": "stdout",
     "output_type": "stream",
     "text": [
      "Top ingredients for each \"latent recipe\":\n",
      "Latent recipe 1 : ['sugar' 'all-purpose flour' 'large eggs' 'unsalted butter'\n",
      " 'baking powder' 'butter' 'eggs'] [0.09797124 0.05935305 0.03405259 0.02904887 0.02629019 0.02348358\n",
      " 0.02087816]\n",
      "Latent recipe 2 : ['onions' 'garlic' 'carrots' 'vegetable oil' 'soy sauce' 'tomatoes'\n",
      " 'ground cumin'] [0.0721575  0.07069793 0.01575457 0.01551235 0.01389716 0.01370033\n",
      " 0.01329141]\n",
      "Latent recipe 3 : ['olive oil' 'garlic cloves' 'ground black pepper' 'salt'\n",
      " 'extra-virgin olive oil' 'kosher salt' 'grated parmesan cheese'] [0.09024544 0.06258808 0.03444308 0.0169055  0.01493147 0.01342175\n",
      " 0.01264604]\n",
      "Latent recipe 4 : ['salt' 'pepper' 'butter' 'eggs' 'oil' 'black pepper' 'milk'] [0.22834952 0.06126335 0.03013455 0.0197424  0.01276126 0.01250109\n",
      " 0.01199479]\n",
      "Latent recipe 5 : ['water' 'garlic cloves' 'soy sauce' 'vegetable oil' 'carrots'\n",
      " 'corn starch' 'green onions'] [0.23154857 0.01813455 0.0152558  0.01457648 0.01398785 0.01324271\n",
      " 0.01209419]\n",
      "\n",
      "N component = 6\n"
     ]
    },
    {
     "data": {
      "image/png": "[encoded data removed]",
      "text/plain": [
       "<Figure size 432x288 with 1 Axes>"
      ]
     },
     "metadata": {
      "needs_background": "light"
     },
     "output_type": "display_data"
    },
    {
     "name": "stdout",
     "output_type": "stream",
     "text": [
      "Top ingredients for each \"latent recipe\":\n",
      "Latent recipe 1 : ['sugar' 'all-purpose flour' 'large eggs' 'unsalted butter' 'butter'\n",
      " 'baking powder' 'milk'] [0.0850695  0.08221686 0.04543397 0.04030344 0.03987605 0.03603109\n",
      " 0.02749934]\n",
      "Latent recipe 2 : ['onions' 'garlic' 'tomatoes' 'ground cumin' 'chili powder' 'carrots'\n",
      " 'vegetable oil'] [0.10280971 0.06391661 0.01911139 0.01787956 0.01515836 0.014578\n",
      " 0.01285196]\n",
      "Latent recipe 3 : ['olive oil' 'garlic cloves' 'ground black pepper' 'kosher salt'\n",
      " 'extra-virgin olive oil' 'grated parmesan cheese' 'purple onion'] [0.09750937 0.0621331  0.03440767 0.01444511 0.01435863 0.01262935\n",
      " 0.01253364]\n",
      "Latent recipe 4 : ['salt' 'pepper' 'butter' 'eggs' 'black pepper' 'oil' 'flour'] [0.2557784  0.06580773 0.02790924 0.02010412 0.01472816 0.01258871\n",
      " 0.01221813]\n",
      "Latent recipe 5 : ['water' 'garlic cloves' 'carrots' 'salt' 'vegetable oil' 'oil'\n",
      " 'chopped onion'] [0.29996419 0.01535593 0.01193497 0.0112924  0.01100375 0.0102245\n",
      " 0.00886349]\n",
      "Latent recipe 6 : ['soy sauce' 'sesame oil' 'green onions' 'garlic' 'sugar' 'vegetable oil'\n",
      " 'scallions'] [0.06444713 0.03630065 0.03591282 0.03287337 0.02670526 0.02388108\n",
      " 0.02345338]\n",
      "\n",
      "N component = 7\n"
     ]
    },
    {
     "data": {
      "image/png": "[encoded data removed]",
      "text/plain": [
       "<Figure size 432x288 with 1 Axes>"
      ]
     },
     "metadata": {
      "needs_background": "light"
     },
     "output_type": "display_data"
    },
    {
     "name": "stdout",
     "output_type": "stream",
     "text": [
      "Top ingredients for each \"latent recipe\":\n",
      "Latent recipe 1 : ['sugar' 'all-purpose flour' 'large eggs' 'butter' 'unsalted butter'\n",
      " 'baking powder' 'milk'] [0.08959247 0.08199799 0.04500103 0.04372876 0.04122415 0.03677618\n",
      " 0.02871603]\n",
      "Latent recipe 2 : ['onions' 'garlic' 'tomatoes' 'ground cumin' 'carrots' 'chili powder'\n",
      " 'diced tomatoes'] [0.11048598 0.06916169 0.02047397 0.01679522 0.01587301 0.0153971\n",
      " 0.01069644]\n",
      "Latent recipe 3 : ['olive oil' 'garlic cloves' 'ground black pepper' 'kosher salt'\n",
      " 'extra-virgin olive oil' 'grated parmesan cheese' 'purple onion'] [0.10272537 0.05920664 0.03342241 0.0145566  0.01345426 0.01297075\n",
      " 0.01246311]\n",
      "Latent recipe 4 : ['salt' 'pepper' 'butter' 'eggs' 'black pepper' 'oil' 'flour'] [0.27250858 0.06852576 0.02764912 0.01938508 0.01606934 0.0123917\n",
      " 0.01234727]\n",
      "Latent recipe 5 : ['water' 'garlic cloves' 'carrots' 'oil' 'salt' 'chopped onion'\n",
      " 'corn starch'] [0.31773702 0.01407756 0.01272022 0.01037919 0.01005622 0.00845267\n",
      " 0.00785723]\n",
      "Latent recipe 6 : ['soy sauce' 'sesame oil' 'green onions' 'garlic' 'sugar' 'scallions'\n",
      " 'corn starch'] [0.07135177 0.04060397 0.03880777 0.03687321 0.02922386 0.0242645\n",
      " 0.02424378]\n",
      "Latent recipe 7 : ['vegetable oil' 'garlic cloves' 'ground black pepper' 'kosher salt'\n",
      " 'ground cumin' 'chopped cilantro fresh' 'all-purpose flour'] [0.18455466 0.03028754 0.02329923 0.01764477 0.01565976 0.01489127\n",
      " 0.01242064]\n",
      "\n",
      "N component = 8\n"
     ]
    },
    {
     "data": {
      "image/png": "[encoded data removed]",
      "text/plain": [
       "<Figure size 432x288 with 1 Axes>"
      ]
     },
     "metadata": {
      "needs_background": "light"
     },
     "output_type": "display_data"
    },
    {
     "name": "stdout",
     "output_type": "stream",
     "text": [
      "Top ingredients for each \"latent recipe\":\n",
      "Latent recipe 1 : ['sugar' 'all-purpose flour' 'large eggs' 'unsalted butter'\n",
      " 'baking powder' 'vanilla extract' 'milk'] [0.12715388 0.07137542 0.05102286 0.04863881 0.03352854 0.02629393\n",
      " 0.01950308]\n",
      "Latent recipe 2 : ['onions' 'garlic' 'tomatoes' 'ground cumin' 'chili powder' 'carrots'\n",
      " 'diced tomatoes'] [0.10845717 0.07113735 0.02060414 0.01690269 0.01597978 0.01446988\n",
      " 0.01060166]\n",
      "Latent recipe 3 : ['olive oil' 'garlic cloves' 'ground black pepper' 'salt' 'kosher salt'\n",
      " 'grated parmesan cheese' 'extra-virgin olive oil'] [0.10405193 0.05977071 0.03104824 0.0144034  0.01421695 0.01261673\n",
      " 0.01261064]\n",
      "Latent recipe 4 : ['salt' 'butter' 'eggs' 'all-purpose flour' 'milk' 'black pepper'\n",
      " 'ground black pepper'] [0.19962478 0.05659067 0.02809421 0.02375829 0.01959007 0.01893119\n",
      " 0.01269261]\n",
      "Latent recipe 5 : ['water' 'salt' 'carrots' 'garlic cloves' 'oil' 'chopped onion'\n",
      " 'corn starch'] [0.330348   0.01533425 0.01243219 0.01226254 0.0100418  0.00842409\n",
      " 0.00835355]\n",
      "Latent recipe 6 : ['soy sauce' 'sesame oil' 'green onions' 'garlic' 'scallions'\n",
      " 'corn starch' 'rice vinegar'] [0.07563641 0.04284581 0.03901945 0.03473817 0.02493044 0.02473087\n",
      " 0.02360802]\n",
      "Latent recipe 7 : ['vegetable oil' 'garlic cloves' 'ground black pepper' 'kosher salt'\n",
      " 'chopped cilantro fresh' 'ground cumin' 'all-purpose flour'] [0.19753166 0.03171657 0.01725159 0.01582271 0.01485891 0.01278289\n",
      " 0.01150685]\n",
      "Latent recipe 8 : ['pepper' 'salt' 'onions' 'carrots' 'chicken broth' 'garlic powder'\n",
      " 'flour'] [0.23933597 0.18412511 0.01980188 0.01496684 0.01060873 0.01002896\n",
      " 0.00944036]\n",
      "\n",
      "N component = 9\n"
     ]
    },
    {
     "data": {
      "image/png": "[encoded data removed]",
      "text/plain": [
       "<Figure size 432x288 with 1 Axes>"
      ]
     },
     "metadata": {
      "needs_background": "light"
     },
     "output_type": "display_data"
    },
    {
     "name": "stdout",
     "output_type": "stream",
     "text": [
      "Top ingredients for each \"latent recipe\":\n",
      "Latent recipe 1 : ['sugar' 'all-purpose flour' 'large eggs' 'unsalted butter'\n",
      " 'baking powder' 'vanilla extract' 'baking soda'] [0.1529303  0.06388287 0.05133177 0.05052246 0.03247223 0.02392199\n",
      " 0.01879103]\n",
      "Latent recipe 2 : ['onions' 'garlic' 'tomatoes' 'ground cumin' 'chili powder' 'carrots'\n",
      " 'diced tomatoes'] [0.10590541 0.07510316 0.02049894 0.01913069 0.01598574 0.0149724\n",
      " 0.01062033]\n",
      "Latent recipe 3 : ['olive oil' 'garlic cloves' 'ground black pepper' 'kosher salt'\n",
      " 'grated parmesan cheese' 'fresh parsley' 'fresh basil'] [0.11816138 0.06682458 0.02545911 0.0144842  0.01422522 0.01253685\n",
      " 0.01209237]\n",
      "Latent recipe 4 : ['butter' 'eggs' 'all-purpose flour' 'milk' 'baking powder' 'flour' 'salt'] [0.16800882 0.06402697 0.0504027  0.04860682 0.02069763 0.01929339\n",
      " 0.01799398]\n",
      "Latent recipe 5 : ['water' 'garlic cloves' 'carrots' 'oil' 'corn starch' 'chopped onion'\n",
      " 'cinnamon sticks'] [0.33828081 0.01486802 0.01423312 0.01134813 0.00835206 0.00760773\n",
      " 0.00677755]\n",
      "Latent recipe 6 : ['soy sauce' 'sesame oil' 'green onions' 'garlic' 'scallions'\n",
      " 'corn starch' 'rice vinegar'] [0.07563285 0.04301169 0.04144798 0.03232392 0.02505424 0.02474515\n",
      " 0.02372259]\n",
      "Latent recipe 7 : ['vegetable oil' 'garlic cloves' 'all-purpose flour' 'kosher salt'\n",
      " 'chopped cilantro fresh' 'eggs' 'corn tortillas'] [0.21137462 0.0351446  0.02162441 0.01504385 0.01335005 0.01126107\n",
      " 0.0101274 ]\n",
      "Latent recipe 8 : ['pepper' 'salt' 'onions' 'garlic powder' 'flour' 'carrots'\n",
      " 'chicken broth'] [0.26700939 0.16363725 0.01634703 0.01189336 0.01144903 0.01099696\n",
      " 0.01089926]\n",
      "Latent recipe 9 : ['salt' 'ground black pepper' 'black pepper' 'ground cumin'\n",
      " 'extra-virgin olive oil' 'chili powder' 'cooking spray'] [0.25447226 0.03230023 0.02520713 0.01562984 0.01448632 0.01207121\n",
      " 0.01174771]\n",
      "\n",
      "N component = 10\n"
     ]
    },
    {
     "data": {
      "image/png": "[encoded data removed]",
      "text/plain": [
       "<Figure size 432x288 with 1 Axes>"
      ]
     },
     "metadata": {
      "needs_background": "light"
     },
     "output_type": "display_data"
    },
    {
     "name": "stdout",
     "output_type": "stream",
     "text": [
      "Top ingredients for each \"latent recipe\":\n",
      "Latent recipe 1 : ['sugar' 'all-purpose flour' 'unsalted butter' 'large eggs'\n",
      " 'baking powder' 'vanilla extract' 'baking soda'] [0.16016061 0.05395467 0.04818874 0.04763236 0.02924733 0.02286785\n",
      " 0.01744289]\n",
      "Latent recipe 2 : ['onions' 'garlic' 'carrots' 'ground black pepper' 'tomatoes'\n",
      " 'green bell pepper' 'celery'] [0.14727199 0.10254768 0.02249482 0.01673723 0.01542279 0.01296349\n",
      " 0.01218772]\n",
      "Latent recipe 3 : ['olive oil' 'garlic cloves' 'ground black pepper' 'kosher salt'\n",
      " 'grated parmesan cheese' 'fresh parsley' 'fresh basil'] [0.12501878 0.0691945  0.02932129 0.01643636 0.01462582 0.01281462\n",
      " 0.01253242]\n",
      "Latent recipe 4 : ['butter' 'eggs' 'all-purpose flour' 'milk' 'baking powder' 'white sugar'\n",
      " 'flour'] [0.16310888 0.06064411 0.05551569 0.04825488 0.02219271 0.01737064\n",
      " 0.01725976]\n",
      "Latent recipe 5 : ['water' 'garlic cloves' 'carrots' 'oil' 'corn starch' 'chopped onion'\n",
      " 'cinnamon sticks'] [0.33853324 0.01556573 0.01266706 0.01198254 0.00831211 0.00795569\n",
      " 0.00717621]\n",
      "Latent recipe 6 : ['soy sauce' 'sesame oil' 'green onions' 'garlic' 'scallions'\n",
      " 'corn starch' 'rice vinegar'] [0.07581472 0.04310861 0.04121148 0.03026693 0.02509192 0.02468983\n",
      " 0.0237471 ]\n",
      "Latent recipe 7 : ['vegetable oil' 'garlic cloves' 'all-purpose flour' 'kosher salt'\n",
      " 'ground black pepper' 'large eggs' 'eggs'] [0.23516195 0.03740238 0.0290073  0.01884191 0.01413984 0.01315202\n",
      " 0.01182107]\n",
      "Latent recipe 8 : ['pepper' 'salt' 'chicken broth' 'garlic powder' 'eggs' 'flour' 'onions'] [0.32511295 0.03628876 0.0135578  0.01324427 0.01214764 0.01152793\n",
      " 0.01146931]\n",
      "Latent recipe 9 : ['ground cumin' 'chili powder' 'tomatoes' 'jalapeno chilies'\n",
      " 'chopped cilantro fresh' 'sour cream' 'avocado'] [0.05985823 0.04237992 0.02601061 0.02451703 0.02147022 0.02098396\n",
      " 0.02050117]\n",
      "Latent recipe 10 : ['salt' 'ground black pepper' 'black pepper' 'extra-virgin olive oil'\n",
      " 'oil' 'cooking spray' 'large eggs'] [0.40143743 0.02977634 0.02380835 0.01826922 0.0136086  0.01194934\n",
      " 0.0114594 ]\n",
      "\n",
      "N component = 11\n"
     ]
    },
    {
     "data": {
      "image/png": "[encoded data removed]",
      "text/plain": [
       "<Figure size 432x288 with 1 Axes>"
      ]
     },
     "metadata": {
      "needs_background": "light"
     },
     "output_type": "display_data"
    },
    {
     "name": "stdout",
     "output_type": "stream",
     "text": [
      "Top ingredients for each \"latent recipe\":\n",
      "Latent recipe 1 : ['sugar' 'all-purpose flour' 'unsalted butter' 'large eggs'\n",
      " 'baking powder' 'vanilla extract' 'baking soda'] [0.17018968 0.04899534 0.04556804 0.04499597 0.02727651 0.0222875\n",
      " 0.01647109]\n",
      "Latent recipe 2 : ['garlic' 'ground black pepper' 'onions' 'kosher salt' 'ginger'\n",
      " 'olive oil' 'celery'] [0.22745117 0.02764576 0.01725705 0.0164012  0.01445698 0.01195566\n",
      " 0.01069105]\n",
      "Latent recipe 3 : ['olive oil' 'garlic cloves' 'ground black pepper' 'kosher salt'\n",
      " 'grated parmesan cheese' 'fresh parsley' 'dry white wine'] [0.13029436 0.06161466 0.02963408 0.0154716  0.01454637 0.01311861\n",
      " 0.01276877]\n",
      "Latent recipe 4 : ['butter' 'all-purpose flour' 'eggs' 'milk' 'baking powder'\n",
      " 'vanilla extract' 'white sugar'] [0.16067288 0.06064125 0.05745051 0.04740065 0.02392466 0.01803623\n",
      " 0.01689169]\n",
      "Latent recipe 5 : ['water' 'carrots' 'oil' 'garlic cloves' 'corn starch' 'chopped onion'\n",
      " 'bay leaves'] [0.34216232 0.01315542 0.0107346  0.00860819 0.0085299  0.00795421\n",
      " 0.00704452]\n",
      "Latent recipe 6 : ['soy sauce' 'sesame oil' 'green onions' 'corn starch' 'scallions'\n",
      " 'rice vinegar' 'ginger'] [0.08250866 0.04665063 0.0429983  0.02646478 0.02618612 0.02558074\n",
      " 0.02166413]\n",
      "Latent recipe 7 : ['vegetable oil' 'all-purpose flour' 'garlic cloves' 'kosher salt'\n",
      " 'ground black pepper' 'large eggs' 'eggs'] [0.23628505 0.03088234 0.027799   0.01863998 0.01611605 0.01443498\n",
      " 0.01132599]\n",
      "Latent recipe 8 : ['onions' 'carrots' 'tomatoes' 'garlic cloves' 'green bell pepper'\n",
      " 'potatoes' 'oil'] [0.25990924 0.02961896 0.02641844 0.02379267 0.01715476 0.01535366\n",
      " 0.01488965]\n",
      "Latent recipe 9 : ['ground cumin' 'chili powder' 'tomatoes' 'jalapeno chilies'\n",
      " 'chopped cilantro fresh' 'sour cream' 'avocado'] [0.06044991 0.0423585  0.02467515 0.02445143 0.02199355 0.02119025\n",
      " 0.02057905]\n",
      "Latent recipe 10 : ['salt' 'ground black pepper' 'black pepper' 'extra-virgin olive oil'\n",
      " 'oil' 'large eggs' 'cooking spray'] [0.39973033 0.03071665 0.02274333 0.01989613 0.01384091 0.01368105\n",
      " 0.01276847]\n",
      "Latent recipe 11 : ['pepper' 'salt' 'garlic powder' 'chicken broth' 'carrots' 'fresh parsley'\n",
      " 'cumin'] [0.3131805  0.04025572 0.01691622 0.0135693  0.01127924 0.01028937\n",
      " 0.00993854]\n",
      "\n",
      "N component = 12\n"
     ]
    },
    {
     "data": {
      "image/png": "[encoded data removed]",
      "text/plain": [
       "<Figure size 432x288 with 1 Axes>"
      ]
     },
     "metadata": {
      "needs_background": "light"
     },
     "output_type": "display_data"
    },
    {
     "name": "stdout",
     "output_type": "stream",
     "text": [
      "Top ingredients for each \"latent recipe\":\n",
      "Latent recipe 1 : ['sugar' 'all-purpose flour' 'unsalted butter' 'large eggs'\n",
      " 'baking powder' 'vanilla extract' 'baking soda'] [0.17381057 0.04874663 0.04559471 0.04482349 0.02687823 0.02240665\n",
      " 0.01649782]\n",
      "Latent recipe 2 : ['garlic' 'onions' 'carrots' 'ground black pepper' 'tomatoes' 'celery'\n",
      " 'green bell pepper'] [0.14254265 0.12088353 0.01954442 0.01950342 0.01351662 0.01223433\n",
      " 0.01147446]\n",
      "Latent recipe 3 : ['olive oil' 'ground black pepper' 'grated parmesan cheese' 'kosher salt'\n",
      " 'dried oregano' 'fresh parsley' 'dry white wine'] [0.17815567 0.03175382 0.01825321 0.01566681 0.01390016 0.01326596\n",
      " 0.01275181]\n",
      "Latent recipe 4 : ['butter' 'all-purpose flour' 'milk' 'grated parmesan cheese'\n",
      " 'vanilla extract' 'baking powder' 'flour'] [0.21504542 0.05504815 0.03074937 0.01604639 0.01587264 0.01581028\n",
      " 0.01167838]\n",
      "Latent recipe 5 : ['water' 'carrots' 'oil' 'chopped onion' 'corn starch' 'cinnamon sticks'\n",
      " 'ground turmeric'] [0.34664848 0.01260094 0.01252957 0.00872977 0.00867283 0.00730597\n",
      " 0.0070091 ]\n",
      "Latent recipe 6 : ['soy sauce' 'sesame oil' 'green onions' 'corn starch' 'scallions'\n",
      " 'rice vinegar' 'ginger'] [0.08524155 0.04817438 0.04410476 0.02723817 0.02717103 0.02611891\n",
      " 0.02264982]\n",
      "Latent recipe 7 : ['vegetable oil' 'all-purpose flour' 'kosher salt' 'ground black pepper'\n",
      " 'large eggs' 'shallots' 'scallions'] [0.24909045 0.03771558 0.021488   0.02001852 0.01796602 0.00931845\n",
      " 0.00922015]\n",
      "Latent recipe 8 : ['garlic cloves' 'onions' 'extra-virgin olive oil' 'carrots' 'tomatoes'\n",
      " 'fresh basil' 'crushed red pepper'] [0.2368495  0.06226495 0.03224455 0.01587714 0.01524355 0.01038162\n",
      " 0.01012896]\n",
      "Latent recipe 9 : ['ground cumin' 'chili powder' 'tomatoes' 'jalapeno chilies'\n",
      " 'chopped cilantro fresh' 'sour cream' 'avocado'] [0.05861189 0.04133714 0.02636288 0.02397671 0.02188692 0.02059546\n",
      " 0.02010837]\n",
      "Latent recipe 10 : ['salt' 'ground black pepper' 'black pepper' 'extra-virgin olive oil'\n",
      " 'cooking spray' 'oil' 'large eggs'] [0.39672542 0.03201503 0.02610344 0.01590151 0.01411594 0.01294498\n",
      " 0.0126391 ]\n",
      "Latent recipe 11 : ['pepper' 'salt' 'garlic powder' 'chicken broth' 'flour' 'cumin'\n",
      " 'grated parmesan cheese'] [0.33675149 0.03653928 0.01509601 0.01403918 0.01138408 0.01047873\n",
      " 0.00989777]\n",
      "Latent recipe 12 : ['eggs' 'milk' 'all-purpose flour' 'baking powder' 'flour' 'white sugar'\n",
      " 'vanilla extract'] [0.22341752 0.06027705 0.03128785 0.03096972 0.0289259  0.02773291\n",
      " 0.01543826]\n",
      "\n",
      "N component = 13\n"
     ]
    },
    {
     "data": {
      "image/png": "[encoded data removed]",
      "text/plain": [
       "<Figure size 432x288 with 1 Axes>"
      ]
     },
     "metadata": {
      "needs_background": "light"
     },
     "output_type": "display_data"
    },
    {
     "name": "stdout",
     "output_type": "stream",
     "text": [
      "Top ingredients for each \"latent recipe\":\n",
      "Latent recipe 1 : ['sugar' 'all-purpose flour' 'unsalted butter' 'large eggs'\n",
      " 'baking powder' 'vanilla extract' 'baking soda'] [0.16662876 0.05360621 0.04691207 0.04630027 0.0286318  0.02283857\n",
      " 0.01724693]\n",
      "Latent recipe 2 : ['garlic' 'onions' 'carrots' 'ground black pepper' 'tomatoes' 'celery'\n",
      " 'green bell pepper'] [0.13836483 0.12692506 0.02014849 0.01738417 0.01405722 0.01202323\n",
      " 0.011756  ]\n",
      "Latent recipe 3 : ['olive oil' 'ground black pepper' 'grated parmesan cheese' 'kosher salt'\n",
      " 'dried oregano' 'fresh parsley' 'dry white wine'] [0.18845691 0.03526156 0.01947542 0.01702071 0.01358416 0.01344872\n",
      " 0.01296506]\n",
      "Latent recipe 4 : ['butter' 'all-purpose flour' 'milk' 'grated parmesan cheese'\n",
      " 'baking powder' 'vanilla extract' 'flour'] [0.21560759 0.05773502 0.03277419 0.01720433 0.01694259 0.01636344\n",
      " 0.011974  ]\n",
      "Latent recipe 5 : ['water' 'oil' 'carrots' 'corn starch' 'chopped onion' 'cinnamon sticks'\n",
      " 'ground turmeric'] [0.35514374 0.01335601 0.01242191 0.00891885 0.00788383 0.00748705\n",
      " 0.00714311]\n",
      "Latent recipe 6 : ['soy sauce' 'sesame oil' 'green onions' 'corn starch' 'scallions'\n",
      " 'rice vinegar' 'ginger'] [0.08562517 0.04837068 0.04408538 0.0274549  0.02735803 0.02627537\n",
      " 0.02276579]\n",
      "Latent recipe 7 : ['vegetable oil' 'all-purpose flour' 'kosher salt' 'ground black pepper'\n",
      " 'large eggs' 'scallions' 'shallots'] [0.25433868 0.0364965  0.02274111 0.02265048 0.01647209 0.00943229\n",
      " 0.00935835]\n",
      "Latent recipe 8 : ['garlic cloves' 'onions' 'extra-virgin olive oil' 'carrots' 'tomatoes'\n",
      " 'cooking spray' 'fresh basil'] [0.22985986 0.05134278 0.03180194 0.01441644 0.01290218 0.01076414\n",
      " 0.01015068]\n",
      "Latent recipe 9 : ['ground cumin' 'chili powder' 'tomatoes' 'jalapeno chilies'\n",
      " 'chopped cilantro fresh' 'sour cream' 'avocado'] [0.06021616 0.04241057 0.02769735 0.02491927 0.02272718 0.02143575\n",
      " 0.02092183]\n",
      "Latent recipe 10 : ['salt' 'ground black pepper' 'extra-virgin olive oil' 'large eggs' 'oil'\n",
      " 'cooking spray' 'unsalted butter'] [0.45177527 0.03613811 0.01667284 0.01385875 0.01133262 0.01118311\n",
      " 0.01037181]\n",
      "Latent recipe 11 : ['pepper' 'salt' 'garlic powder' 'chicken broth' 'grated parmesan cheese'\n",
      " 'cumin' 'flour'] [0.33424303 0.03048611 0.01558885 0.01412276 0.01045356 0.01038208\n",
      " 0.01004223]\n",
      "Latent recipe 12 : ['eggs' 'milk' 'flour' 'baking powder' 'white sugar' 'all-purpose flour'\n",
      " 'salt'] [0.23956408 0.05938183 0.03297915 0.02847287 0.02763307 0.01787709\n",
      " 0.01635797]\n",
      "Latent recipe 13 : ['black pepper' 'garlic powder' 'paprika' 'cooking spray' 'dried thyme'\n",
      " 'dried oregano' 'cayenne pepper'] [0.23956242 0.02184613 0.02179891 0.02136206 0.01539119 0.0147392\n",
      " 0.01447142]\n",
      "\n",
      "N component = 14\n"
     ]
    },
    {
     "data": {
      "image/png": "[encoded data removed]",
      "text/plain": [
       "<Figure size 432x288 with 1 Axes>"
      ]
     },
     "metadata": {
      "needs_background": "light"
     },
     "output_type": "display_data"
    },
    {
     "name": "stdout",
     "output_type": "stream",
     "text": [
      "Top ingredients for each \"latent recipe\":\n",
      "Latent recipe 1 : ['sugar' 'all-purpose flour' 'unsalted butter' 'large eggs'\n",
      " 'baking powder' 'vanilla extract' 'baking soda'] [0.18235388 0.04439172 0.04267848 0.04150788 0.02581737 0.02328551\n",
      " 0.01586633]\n",
      "Latent recipe 2 : ['garlic' 'onions' 'ginger' 'carrots' 'tomatoes' 'celery' 'chicken broth'] [0.2171345  0.08261639 0.01527003 0.01259567 0.01118215 0.01065421\n",
      " 0.0101483 ]\n",
      "Latent recipe 3 : ['olive oil' 'grated parmesan cheese' 'fresh parsley' 'dry white wine'\n",
      " 'dried oregano' 'fresh basil' 'red bell pepper'] [0.22480482 0.0198713  0.01359537 0.01326603 0.01310747 0.01253156\n",
      " 0.01085159]\n",
      "Latent recipe 4 : ['butter' 'all-purpose flour' 'milk' 'baking powder' 'vanilla extract'\n",
      " 'grated parmesan cheese' 'ground cinnamon'] [0.21045527 0.06325572 0.03449498 0.01988817 0.01946209 0.01644108\n",
      " 0.01114048]\n",
      "Latent recipe 5 : ['water' 'oil' 'carrots' 'corn starch' 'chopped onion' 'cinnamon sticks'\n",
      " 'ground turmeric'] [0.36217737 0.01233554 0.01216325 0.0090966  0.00816455 0.00749861\n",
      " 0.00696873]\n",
      "Latent recipe 6 : ['soy sauce' 'sesame oil' 'green onions' 'corn starch' 'scallions'\n",
      " 'rice vinegar' 'ginger'] [0.08850403 0.0500061  0.04580972 0.02823138 0.0280515  0.02709732\n",
      " 0.02257561]\n",
      "Latent recipe 7 : ['vegetable oil' 'all-purpose flour' 'large eggs' 'kosher salt'\n",
      " 'baking powder' 'scallions' 'shallots'] [0.25715221 0.05719468 0.02465629 0.01399557 0.01231032 0.0087881\n",
      " 0.00773431]\n",
      "Latent recipe 8 : ['garlic cloves' 'onions' 'carrots' 'tomatoes' 'green bell pepper'\n",
      " 'celery ribs' 'bay leaves'] [0.17721468 0.13369843 0.02353423 0.01984987 0.01264023 0.01169699\n",
      " 0.01034385]\n",
      "Latent recipe 9 : ['ground cumin' 'chili powder' 'tomatoes' 'jalapeno chilies'\n",
      " 'chopped cilantro fresh' 'sour cream' 'avocado'] [0.06097868 0.04303871 0.02761885 0.02535194 0.02352828 0.02184952\n",
      " 0.02126399]\n",
      "Latent recipe 10 : ['salt' 'large eggs' 'cooking spray' 'freshly ground pepper'\n",
      " 'unsalted butter' 'extra-virgin olive oil' 'all-purpose flour'] [0.56051409 0.01914646 0.01310904 0.01192276 0.01136507 0.01099392\n",
      " 0.01006608]\n",
      "Latent recipe 11 : ['pepper' 'salt' 'garlic powder' 'chicken broth' 'grated parmesan cheese'\n",
      " 'fresh parsley' 'cumin'] [0.3169342  0.0248113  0.01573466 0.01335835 0.01104388 0.0099415\n",
      " 0.00983764]\n",
      "Latent recipe 12 : ['eggs' 'milk' 'flour' 'oil' 'baking powder' 'salt' 'white sugar'] [0.22173191 0.05523718 0.03950645 0.03867476 0.02454924 0.02435149\n",
      " 0.02378275]\n",
      "Latent recipe 13 : ['black pepper' 'cooking spray' 'paprika' 'garlic powder'\n",
      " 'extra-virgin olive oil' 'dried thyme' 'dried oregano'] [0.22812789 0.0226522  0.02054827 0.01922965 0.01904789 0.01463636\n",
      " 0.0144705 ]\n",
      "Latent recipe 14 : ['ground black pepper' 'kosher salt' 'extra-virgin olive oil'\n",
      " 'fresh lemon juice' 'flat leaf parsley' 'unsalted butter' 'dried oregano'] [0.17782532 0.05239759 0.04235885 0.01366231 0.01249195 0.01168726\n",
      " 0.01075694]\n",
      "\n",
      "N component = 15\n"
     ]
    },
    {
     "data": {
      "image/png": "[encoded data removed]",
      "text/plain": [
       "<Figure size 432x288 with 1 Axes>"
      ]
     },
     "metadata": {
      "needs_background": "light"
     },
     "output_type": "display_data"
    },
    {
     "name": "stdout",
     "output_type": "stream",
     "text": [
      "Top ingredients for each \"latent recipe\":\n",
      "Latent recipe 1 : ['sugar' 'vanilla extract' 'large eggs' 'corn starch' 'kosher salt'\n",
      " 'unsalted butter' 'fish sauce'] [0.26640586 0.01797999 0.01273312 0.01126082 0.00992892 0.00981912\n",
      " 0.00970471]\n",
      "Latent recipe 2 : ['garlic' 'onions' 'carrots' 'tomatoes' 'ginger' 'celery' 'chicken broth'] [0.20637189 0.08556371 0.0149406  0.01458909 0.01448164 0.01101638\n",
      " 0.01087498]\n",
      "Latent recipe 3 : ['olive oil' 'grated parmesan cheese' 'dry white wine' 'fresh parsley'\n",
      " 'dried oregano' 'fresh basil' 'red bell pepper'] [0.2388632  0.01973997 0.01354916 0.01350145 0.01283751 0.01207521\n",
      " 0.01102987]\n",
      "Latent recipe 4 : ['butter' 'milk' 'grated parmesan cheese' 'eggs' 'flour' 'vanilla extract'\n",
      " 'fresh parsley'] [0.25327662 0.03400916 0.01904642 0.01854209 0.01577192 0.01531991\n",
      " 0.01151428]\n",
      "Latent recipe 5 : ['water' 'carrots' 'corn starch' 'chopped onion' 'cinnamon sticks'\n",
      " 'bay leaves' 'tomato paste'] [0.38269874 0.01313492 0.00991082 0.00759979 0.00712214 0.00592411\n",
      " 0.00539474]\n",
      "Latent recipe 6 : ['soy sauce' 'sesame oil' 'green onions' 'corn starch' 'scallions'\n",
      " 'rice vinegar' 'ginger'] [0.0936784  0.05233679 0.04573469 0.02902888 0.02847583 0.02776243\n",
      " 0.02305331]\n",
      "Latent recipe 7 : ['vegetable oil' 'kosher salt' 'scallions' 'shallots'\n",
      " 'large garlic cloves' 'corn tortillas' 'fresh ginger'] [0.30502976 0.01466689 0.01052545 0.01020704 0.00843255 0.00842459\n",
      " 0.00839233]\n",
      "Latent recipe 8 : ['garlic cloves' 'onions' 'extra-virgin olive oil' 'carrots' 'tomatoes'\n",
      " 'cooking spray' 'crushed red pepper'] [0.21845849 0.05464822 0.02048332 0.01406535 0.01345648 0.01127382\n",
      " 0.00966296]\n",
      "Latent recipe 9 : ['ground cumin' 'chili powder' 'tomatoes' 'jalapeno chilies'\n",
      " 'chopped cilantro fresh' 'sour cream' 'avocado'] [0.06467007 0.04453047 0.02770575 0.02594617 0.02390207 0.02287793\n",
      " 0.02231357]\n",
      "Latent recipe 10 : ['salt' 'freshly ground pepper' 'cooking spray' 'extra-virgin olive oil'\n",
      " 'fresh lemon juice' 'cucumber' 'large egg whites'] [0.68234662 0.01353427 0.01111403 0.009967   0.00675134 0.00658658\n",
      " 0.00524586]\n",
      "Latent recipe 11 : ['pepper' 'salt' 'garlic powder' 'chicken broth' 'grated parmesan cheese'\n",
      " 'fresh parsley' 'cumin'] [0.31324864 0.01986493 0.0136634  0.01326702 0.01162771 0.0105442\n",
      " 0.00980214]\n",
      "Latent recipe 12 : ['onions' 'eggs' 'oil' 'milk' 'salt' 'flour' 'potatoes'] [0.1074084  0.10128055 0.04957119 0.03177056 0.02963589 0.02912739\n",
      " 0.0174731 ]\n",
      "Latent recipe 13 : ['black pepper' 'paprika' 'garlic powder' 'cooking spray'\n",
      " 'extra-virgin olive oil' 'dried oregano' 'kosher salt'] [0.22980959 0.01867922 0.01810505 0.01792004 0.0178336  0.01458214\n",
      " 0.01401741]\n",
      "Latent recipe 14 : ['ground black pepper' 'kosher salt' 'extra-virgin olive oil'\n",
      " 'fresh lemon juice' 'flat leaf parsley' 'dried oregano'\n",
      " 'grated parmesan cheese'] [0.19368938 0.05352089 0.03646044 0.01218461 0.0115085  0.01105133\n",
      " 0.00984807]\n",
      "Latent recipe 15 : ['all-purpose flour' 'large eggs' 'unsalted butter' 'baking powder'\n",
      " 'baking soda' 'buttermilk' 'vanilla extract'] [0.16263314 0.07318689 0.06835219 0.05370293 0.02890065 0.02418671\n",
      " 0.02318599]\n",
      "\n",
      "N component = 16\n"
     ]
    },
    {
     "data": {
      "image/png": "[encoded data removed]",
      "text/plain": [
       "<Figure size 432x288 with 1 Axes>"
      ]
     },
     "metadata": {
      "needs_background": "light"
     },
     "output_type": "display_data"
    },
    {
     "name": "stdout",
     "output_type": "stream",
     "text": [
      "Top ingredients for each \"latent recipe\":\n",
      "Latent recipe 1 : ['sugar' 'vanilla extract' 'corn starch' 'kosher salt' 'large egg yolks'\n",
      " 'fish sauce' 'large eggs'] [0.27008925 0.01831112 0.0114891  0.01032458 0.00964614 0.00961438\n",
      " 0.00917705]\n",
      "Latent recipe 2 : ['garlic' 'onions' 'carrots' 'tomatoes' 'green bell pepper' 'ginger'\n",
      " 'celery'] [0.15044793 0.13843981 0.0205912  0.0160934  0.0134254  0.01292883\n",
      " 0.01269443]\n",
      "Latent recipe 3 : ['olive oil' 'grated parmesan cheese' 'fresh parsley' 'dry white wine'\n",
      " 'dried oregano' 'fresh basil' 'red bell pepper'] [0.24048122 0.02049014 0.01385947 0.01383378 0.01319621 0.01257815\n",
      " 0.01095419]\n",
      "Latent recipe 4 : ['butter' 'milk' 'grated parmesan cheese' 'flour' 'vanilla extract'\n",
      " 'all-purpose flour' 'fresh parsley'] [0.25973167 0.03462627 0.01936635 0.01645826 0.01575185 0.01425453\n",
      " 0.01167008]\n",
      "Latent recipe 5 : ['water' 'carrots' 'oil' 'corn starch' 'cinnamon sticks' 'potatoes'\n",
      " 'cumin seed'] [0.37539504 0.01246652 0.01096267 0.00952643 0.00753676 0.00665735\n",
      " 0.00648141]\n",
      "Latent recipe 6 : ['soy sauce' 'sesame oil' 'green onions' 'corn starch' 'scallions'\n",
      " 'rice vinegar' 'ginger'] [0.08967613 0.0504445  0.04515201 0.02821025 0.02800396 0.02694748\n",
      " 0.02340122]\n",
      "Latent recipe 7 : ['vegetable oil' 'kosher salt' 'scallions' 'shallots'\n",
      " 'large garlic cloves' 'corn tortillas' 'fresh ginger'] [0.30855832 0.01439844 0.01021481 0.00973995 0.00859307 0.00838138\n",
      " 0.00816219]\n",
      "Latent recipe 8 : ['garlic cloves' 'onions' 'extra-virgin olive oil' 'cooking spray'\n",
      " 'carrots' 'tomatoes' 'chopped onion'] [0.22911636 0.04513951 0.0206814  0.01259691 0.01236799 0.01119234\n",
      " 0.01064088]\n",
      "Latent recipe 9 : ['ground cumin' 'chili powder' 'tomatoes' 'jalapeno chilies'\n",
      " 'chopped cilantro fresh' 'sour cream' 'avocado'] [0.06344126 0.04403818 0.02586335 0.02531737 0.02337155 0.02265343\n",
      " 0.02196273]\n",
      "Latent recipe 10 : ['salt' 'lemon juice' 'freshly ground pepper' 'extra-virgin olive oil'\n",
      " 'cooking oil' 'cucumber' 'fresh lemon juice'] [0.577077   0.01607574 0.01520792 0.01307842 0.00718443 0.0067871\n",
      " 0.00597574]\n",
      "Latent recipe 11 : ['pepper' 'salt' 'garlic powder' 'chicken broth' 'grated parmesan cheese'\n",
      " 'cumin' 'potatoes'] [0.32649304 0.01634195 0.01620537 0.0125241  0.01201376 0.00982282\n",
      " 0.00941984]\n",
      "Latent recipe 12 : ['eggs' 'oil' 'milk' 'flour' 'onions' 'white sugar' 'salt'] [0.21115442 0.05386765 0.04997457 0.03551275 0.02818852 0.02155223\n",
      " 0.01660244]\n",
      "Latent recipe 13 : ['black pepper' 'paprika' 'garlic powder' 'cooking spray'\n",
      " 'extra-virgin olive oil' 'cayenne pepper' 'dried thyme'] [0.25159845 0.02142834 0.01986323 0.01905998 0.01773266 0.01411557\n",
      " 0.01355014]\n",
      "Latent recipe 14 : ['ground black pepper' 'kosher salt' 'extra-virgin olive oil'\n",
      " 'fresh lemon juice' 'flat leaf parsley' 'dried oregano'\n",
      " 'grated parmesan cheese'] [0.19005992 0.05837702 0.0391482  0.01238102 0.01193018 0.01015478\n",
      " 0.00980732]\n",
      "Latent recipe 15 : ['all-purpose flour' 'large eggs' 'unsalted butter' 'baking powder'\n",
      " 'baking soda' 'buttermilk' 'vanilla extract'] [0.16092215 0.07972032 0.07314911 0.05330736 0.02936853 0.02454686\n",
      " 0.02355948]\n",
      "Latent recipe 16 : ['salt' 'cooking spray' 'tomatoes' 'ground red pepper' 'jalapeno chilies'\n",
      " 'chopped onion' 'dried oregano'] [0.49634926 0.02318275 0.01874402 0.01308019 0.01226715 0.01060844\n",
      " 0.00908488]\n",
      "\n",
      "N component = 17\n"
     ]
    },
    {
     "data": {
      "image/png": "[encoded data removed]",
      "text/plain": [
       "<Figure size 432x288 with 1 Axes>"
      ]
     },
     "metadata": {
      "needs_background": "light"
     },
     "output_type": "display_data"
    },
    {
     "name": "stdout",
     "output_type": "stream",
     "text": [
      "Top ingredients for each \"latent recipe\":\n",
      "Latent recipe 1 : ['sugar' 'vanilla extract' 'baking powder' 'corn starch' 'kosher salt'\n",
      " 'fish sauce' 'large egg yolks'] [0.27805536 0.0182936  0.01327535 0.01190765 0.01024609 0.00998835\n",
      " 0.00961988]\n",
      "Latent recipe 2 : ['garlic' 'onions' 'carrots' 'tomatoes' 'green bell pepper' 'celery'\n",
      " 'ginger'] [0.15338024 0.13607899 0.02111937 0.01756635 0.01413946 0.01322473\n",
      " 0.01279706]\n",
      "Latent recipe 3 : ['olive oil' 'grated parmesan cheese' 'dry white wine' 'fresh parsley'\n",
      " 'dried oregano' 'fresh basil' 'red bell pepper'] [0.24430163 0.02028997 0.01391733 0.01383501 0.01297349 0.01255351\n",
      " 0.01093782]\n",
      "Latent recipe 4 : ['butter' 'milk' 'grated parmesan cheese' 'vanilla extract' 'flour'\n",
      " 'fresh parsley' 'heavy cream'] [0.26927718 0.03283831 0.01934487 0.01577199 0.0150308  0.01207541\n",
      " 0.01162025]\n",
      "Latent recipe 5 : ['water' 'carrots' 'corn starch' 'cinnamon sticks' 'chopped onion'\n",
      " 'bay leaves' 'fish sauce'] [0.3919173  0.01256336 0.01005724 0.00716606 0.00675759 0.00553461\n",
      " 0.00534453]\n",
      "Latent recipe 6 : ['soy sauce' 'sesame oil' 'green onions' 'corn starch' 'scallions'\n",
      " 'rice vinegar' 'ginger'] [0.08986274 0.05048376 0.04470746 0.02809827 0.02793142 0.02688967\n",
      " 0.02350066]\n",
      "Latent recipe 7 : ['vegetable oil' 'kosher salt' 'scallions' 'shallots'\n",
      " 'large garlic cloves' 'fresh ginger' 'corn tortillas'] [0.31471848 0.01471416 0.01042385 0.00984848 0.00883356 0.00874087\n",
      " 0.00858027]\n",
      "Latent recipe 8 : ['garlic cloves' 'onions' 'extra-virgin olive oil' 'cooking spray'\n",
      " 'carrots' 'chopped onion' 'tomatoes'] [0.23056557 0.03939883 0.02132517 0.01290323 0.01183981 0.01114574\n",
      " 0.01102418]\n",
      "Latent recipe 9 : ['ground cumin' 'chili powder' 'jalapeno chilies' 'tomatoes'\n",
      " 'chopped cilantro fresh' 'sour cream' 'avocado'] [0.06569554 0.04502882 0.02645039 0.02550063 0.02428438 0.02364529\n",
      " 0.02300405]\n",
      "Latent recipe 10 : ['salt' 'freshly ground pepper' 'extra-virgin olive oil' 'cucumber'\n",
      " 'cooking oil' 'fresh lemon juice' 'lemon'] [0.65322317 0.01724247 0.01409275 0.00815564 0.00711089 0.00646143\n",
      " 0.00582565]\n",
      "Latent recipe 11 : ['pepper' 'salt' 'garlic powder' 'chicken broth' 'grated parmesan cheese'\n",
      " 'cumin' 'fresh parsley'] [0.33059543 0.01494566 0.01396827 0.01270345 0.01204543 0.00994972\n",
      " 0.00973097]\n",
      "Latent recipe 12 : ['eggs' 'oil' 'onions' 'flour' 'milk' 'salt' 'potatoes'] [0.12541782 0.06787371 0.04890172 0.04014398 0.03584415 0.02500993\n",
      " 0.01842354]\n",
      "Latent recipe 13 : ['black pepper' 'paprika' 'extra-virgin olive oil' 'garlic powder'\n",
      " 'cooking spray' 'kosher salt' 'cayenne pepper'] [0.24595379 0.02004128 0.01859277 0.01847516 0.01839496 0.01566946\n",
      " 0.01354122]\n",
      "Latent recipe 14 : ['ground black pepper' 'kosher salt' 'extra-virgin olive oil'\n",
      " 'fresh lemon juice' 'flat leaf parsley' 'dried oregano' 'cayenne pepper'] [0.19465448 0.05859181 0.03896946 0.01210515 0.01190158 0.01032005\n",
      " 0.00945871]\n",
      "Latent recipe 15 : ['large eggs' 'unsalted butter' 'vanilla extract' 'whole milk'\n",
      " 'granulated sugar' 'heavy cream' 'large egg yolks'] [0.2084274  0.0899049  0.02012862 0.01983688 0.01839164 0.01635066\n",
      " 0.0117781 ]\n",
      "Latent recipe 16 : ['salt' 'cooking spray' 'tomatoes' 'ground red pepper' 'jalapeno chilies'\n",
      " 'chopped onion' 'dried oregano'] [0.56521326 0.02495584 0.01802271 0.01373995 0.01237601 0.01035627\n",
      " 0.00749706]\n",
      "Latent recipe 17 : ['all-purpose flour' 'baking powder' 'baking soda' 'unsalted butter'\n",
      " 'milk' 'buttermilk' 'eggs'] [0.24433151 0.07235019 0.03436661 0.03434245 0.03137158 0.02760331\n",
      " 0.02320462]\n",
      "\n",
      "N component = 18\n"
     ]
    },
    {
     "data": {
      "image/png": "[encoded data removed]",
      "text/plain": [
       "<Figure size 432x288 with 1 Axes>"
      ]
     },
     "metadata": {
      "needs_background": "light"
     },
     "output_type": "display_data"
    },
    {
     "name": "stdout",
     "output_type": "stream",
     "text": [
      "Top ingredients for each \"latent recipe\":\n",
      "Latent recipe 1 : ['sugar' 'vanilla extract' 'corn starch' 'baking powder' 'kosher salt'\n",
      " 'fish sauce' 'large egg yolks'] [0.27273983 0.01802207 0.01211363 0.01206986 0.01033623 0.00993022\n",
      " 0.00950046]\n",
      "Latent recipe 2 : ['garlic' 'ginger' 'onions' 'yellow onion' 'fish sauce' 'kosher salt'\n",
      " 'cilantro'] [0.26284628 0.01789662 0.01239139 0.01220208 0.0106718  0.00922932\n",
      " 0.008528  ]\n",
      "Latent recipe 3 : ['olive oil' 'grated parmesan cheese' 'fresh parsley' 'dry white wine'\n",
      " 'dried oregano' 'fresh basil' 'red bell pepper'] [0.24478634 0.02154804 0.01491296 0.01427658 0.01379972 0.01288175\n",
      " 0.0115279 ]\n",
      "Latent recipe 4 : ['butter' 'milk' 'eggs' 'flour' 'grated parmesan cheese' 'vanilla extract'\n",
      " 'fresh parsley'] [0.25062681 0.03996626 0.03069504 0.0196568  0.01954139 0.01503914\n",
      " 0.0116305 ]\n",
      "Latent recipe 5 : ['garlic cloves' 'extra-virgin olive oil' 'cooking spray'\n",
      " 'fresh lemon juice' 'chopped onion' 'crushed red pepper' 'fresh basil'] [0.22122034 0.02881402 0.01413097 0.01302647 0.01229017 0.01074521\n",
      " 0.01055164]\n",
      "Latent recipe 6 : ['soy sauce' 'sesame oil' 'green onions' 'corn starch' 'scallions'\n",
      " 'rice vinegar' 'ginger'] [0.09076271 0.05116818 0.04754377 0.02881493 0.02795624 0.02708706\n",
      " 0.02284168]\n",
      "Latent recipe 7 : ['vegetable oil' 'kosher salt' 'scallions' 'shallots' 'fresh ginger'\n",
      " 'corn tortillas' 'large garlic cloves'] [0.31390077 0.01479254 0.0105014  0.0092474  0.00906173 0.00844181\n",
      " 0.00815126]\n",
      "Latent recipe 8 : ['onions' 'carrots' 'tomatoes' 'green bell pepper' 'potatoes'\n",
      " 'chicken broth' 'celery'] [0.28364975 0.03177911 0.02343704 0.01977712 0.01478612 0.0147246\n",
      " 0.01383398]\n",
      "Latent recipe 9 : ['ground cumin' 'chili powder' 'tomatoes' 'jalapeno chilies' 'sour cream'\n",
      " 'chopped cilantro fresh' 'avocado'] [0.06460733 0.04591352 0.02808898 0.02572441 0.0236739  0.02362621\n",
      " 0.02265271]\n",
      "Latent recipe 10 : ['salt' 'freshly ground pepper' 'extra-virgin olive oil' 'cucumber'\n",
      " 'cooking oil' 'lemon' 'large egg whites'] [0.64555981 0.01732216 0.01018659 0.00805217 0.00767742 0.00648648\n",
      " 0.00610099]\n",
      "Latent recipe 11 : ['pepper' 'salt' 'garlic powder' 'chicken broth' 'grated parmesan cheese'\n",
      " 'cumin' 'fresh parsley'] [0.33817974 0.01785653 0.01498993 0.01270742 0.01127993 0.01024753\n",
      " 0.00958892]\n",
      "Latent recipe 12 : ['salt' 'oil' 'eggs' 'flour' 'lemon juice' 'potatoes' 'milk'] [0.15017091 0.07423865 0.05247623 0.04047139 0.03046189 0.01844652\n",
      " 0.01818603]\n",
      "Latent recipe 13 : ['black pepper' 'paprika' 'cooking spray' 'garlic powder' 'cayenne pepper'\n",
      " 'dried thyme' 'onion powder'] [0.26525659 0.02279821 0.0209576  0.02000938 0.01582038 0.0154904\n",
      " 0.01392725]\n",
      "Latent recipe 14 : ['ground black pepper' 'kosher salt' 'extra-virgin olive oil'\n",
      " 'fresh lemon juice' 'flat leaf parsley' 'dried oregano' 'cayenne pepper'] [0.19860219 0.06227599 0.03912313 0.01225888 0.01211508 0.01044745\n",
      " 0.01030681]\n",
      "Latent recipe 15 : ['large eggs' 'unsalted butter' 'whole milk' 'granulated sugar'\n",
      " 'vanilla extract' 'heavy cream' 'large egg yolks'] [0.20146306 0.10118805 0.02093111 0.01876781 0.01858218 0.01812692\n",
      " 0.012776  ]\n",
      "Latent recipe 16 : ['salt' 'cooking spray' 'tomatoes' 'chopped onion' 'jalapeno chilies'\n",
      " 'dried oregano' 'freshly ground pepper'] [0.57713211 0.02688983 0.01550293 0.01041029 0.00932343 0.00770877\n",
      " 0.00730234]\n",
      "Latent recipe 17 : ['all-purpose flour' 'baking powder' 'eggs' 'milk' 'baking soda'\n",
      " 'unsalted butter' 'buttermilk'] [0.22922417 0.07472938 0.04744488 0.03668926 0.03516788 0.03036178\n",
      " 0.02796685]\n",
      "Latent recipe 18 : ['water' 'corn starch' 'carrots' 'cinnamon sticks' 'chopped onion'\n",
      " 'white sugar' 'oil'] [0.40824511 0.01014859 0.00879939 0.00764839 0.00651427 0.00610402\n",
      " 0.00595514]\n",
      "\n",
      "N component = 19\n"
     ]
    },
    {
     "data": {
      "image/png": "[encoded data removed]",
      "text/plain": [
       "<Figure size 432x288 with 1 Axes>"
      ]
     },
     "metadata": {
      "needs_background": "light"
     },
     "output_type": "display_data"
    },
    {
     "name": "stdout",
     "output_type": "stream",
     "text": [
      "Top ingredients for each \"latent recipe\":\n",
      "Latent recipe 1 : ['sugar' 'vanilla extract' 'corn starch' 'baking powder' 'fish sauce'\n",
      " 'large egg yolks' 'kosher salt'] [0.27064364 0.01781293 0.01214658 0.01203927 0.00987645 0.00945633\n",
      " 0.00882718]\n",
      "Latent recipe 2 : ['garlic' 'ginger' 'onions' 'yellow onion' 'fish sauce' 'kosher salt'\n",
      " 'cilantro'] [0.26666973 0.01813066 0.01390615 0.01251795 0.01088068 0.00892478\n",
      " 0.00875877]\n",
      "Latent recipe 3 : ['olive oil' 'grated parmesan cheese' 'dry white wine' 'dried oregano'\n",
      " 'fresh parsley' 'fresh basil' 'red bell pepper'] [0.23327243 0.02023534 0.01445401 0.01430194 0.01426728 0.01313014\n",
      " 0.01204306]\n",
      "Latent recipe 4 : ['butter' 'milk' 'eggs' 'flour' 'grated parmesan cheese' 'vanilla extract'\n",
      " 'heavy cream'] [0.24384183 0.04098263 0.03494226 0.02117237 0.01889225 0.01483228\n",
      " 0.01137991]\n",
      "Latent recipe 5 : ['garlic cloves' 'cooking spray' 'chopped onion' 'crushed red pepper'\n",
      " 'chopped cilantro fresh' 'fresh lime juice' 'peeled fresh ginger'] [0.26366581 0.01729631 0.01492995 0.01067574 0.01059901 0.01025991\n",
      " 0.00956858]\n",
      "Latent recipe 6 : ['soy sauce' 'sesame oil' 'green onions' 'corn starch' 'scallions'\n",
      " 'rice vinegar' 'ginger'] [0.08979074 0.05058746 0.0472725  0.02855446 0.02773646 0.02678455\n",
      " 0.02265102]\n",
      "Latent recipe 7 : ['vegetable oil' 'kosher salt' 'scallions' 'shallots' 'fresh ginger'\n",
      " 'corn tortillas' 'eggs'] [0.30526093 0.02046419 0.01034386 0.01002986 0.00857942 0.00820449\n",
      " 0.00805562]\n",
      "Latent recipe 8 : ['onions' 'carrots' 'tomatoes' 'green bell pepper' 'potatoes'\n",
      " 'chicken broth' 'celery'] [0.28172458 0.03154161 0.02397411 0.01980021 0.0152632  0.01477199\n",
      " 0.01368355]\n",
      "Latent recipe 9 : ['ground cumin' 'chili powder' 'tomatoes' 'jalapeno chilies' 'sour cream'\n",
      " 'chopped cilantro fresh' 'avocado'] [0.06480389 0.04621998 0.02620264 0.02516893 0.02338843 0.02324516\n",
      " 0.02216143]\n",
      "Latent recipe 10 : ['salt' 'freshly ground pepper' 'cooking oil' 'cucumber'\n",
      " 'large egg whites' 'fresh lemon juice' 'lemon'] [0.65053953 0.01406117 0.00804701 0.00724988 0.00604563 0.00491965\n",
      " 0.00463606]\n",
      "Latent recipe 11 : ['pepper' 'salt' 'garlic powder' 'chicken broth' 'grated parmesan cheese'\n",
      " 'cumin' 'fresh parsley'] [0.34463962 0.01676897 0.01461987 0.01301487 0.01220637 0.01048606\n",
      " 0.01045521]\n",
      "Latent recipe 12 : ['salt' 'oil' 'flour' 'eggs' 'lemon juice' 'potatoes' 'cumin seed'] [0.2184306  0.05931432 0.03783788 0.03314313 0.03054047 0.01776559\n",
      " 0.01554514]\n",
      "Latent recipe 13 : ['black pepper' 'paprika' 'cooking spray' 'garlic powder' 'dried thyme'\n",
      " 'cayenne pepper' 'onion powder'] [0.29791958 0.02479599 0.02388422 0.02096563 0.01765786 0.01648934\n",
      " 0.0151015 ]\n",
      "Latent recipe 14 : ['extra-virgin olive oil' 'kosher salt' 'fresh lemon juice'\n",
      " 'flat leaf parsley' 'purple onion' 'freshly ground pepper' 'tomatoes'] [0.13719018 0.05345257 0.03036567 0.02277742 0.02086103 0.01517056\n",
      " 0.01484621]\n",
      "Latent recipe 15 : ['large eggs' 'unsalted butter' 'whole milk' 'vanilla extract'\n",
      " 'granulated sugar' 'heavy cream' 'large egg yolks'] [0.21273719 0.09855402 0.02134712 0.02008957 0.01966994 0.01771845\n",
      " 0.01281324]\n",
      "Latent recipe 16 : ['salt' 'cooking spray' 'tomatoes' 'chopped onion' 'jalapeno chilies'\n",
      " 'dried oregano' 'freshly ground pepper'] [0.58821667 0.02509192 0.01181793 0.00901983 0.00806396 0.00791912\n",
      " 0.00684276]\n",
      "Latent recipe 17 : ['all-purpose flour' 'baking powder' 'eggs' 'milk' 'baking soda'\n",
      " 'unsalted butter' 'buttermilk'] [0.22818601 0.07422393 0.04974219 0.03702803 0.03474955 0.03191712\n",
      " 0.02776112]\n",
      "Latent recipe 18 : ['water' 'carrots' 'corn starch' 'oil' 'cinnamon sticks' 'cumin seed'\n",
      " 'ground turmeric'] [0.39991717 0.01101711 0.00978206 0.00951672 0.00775039 0.00677004\n",
      " 0.00629036]\n",
      "Latent recipe 19 : ['ground black pepper' 'kosher salt' 'dried thyme' 'cayenne pepper'\n",
      " 'grated parmesan cheese' 'cooking spray' 'fresh parsley'] [0.32512002 0.04068867 0.01439952 0.0137542  0.01287882 0.0126391\n",
      " 0.01257728]\n",
      "\n",
      "N component = 20\n"
     ]
    },
    {
     "data": {
      "image/png": "[encoded data removed]",
      "text/plain": [
       "<Figure size 432x288 with 1 Axes>"
      ]
     },
     "metadata": {
      "needs_background": "light"
     },
     "output_type": "display_data"
    },
    {
     "name": "stdout",
     "output_type": "stream",
     "text": [
      "Top ingredients for each \"latent recipe\":\n",
      "Latent recipe 1 : ['sugar' 'vanilla extract' 'baking powder' 'corn starch' 'fish sauce'\n",
      " 'large egg yolks' 'unsalted butter'] [0.26903438 0.01788699 0.01219424 0.01207251 0.00981213 0.00947605\n",
      " 0.00906029]\n",
      "Latent recipe 2 : ['garlic' 'ginger' 'onions' 'yellow onion' 'fish sauce' 'kosher salt'\n",
      " 'diced tomatoes'] [0.27476368 0.01877626 0.01459934 0.0128438  0.01132873 0.00966522\n",
      " 0.0086798 ]\n",
      "Latent recipe 3 : ['olive oil' 'grated parmesan cheese' 'dry white wine' 'fresh parsley'\n",
      " 'dried oregano' 'fresh basil' 'red bell pepper'] [0.23639285 0.02050344 0.01459174 0.01446203 0.01433025 0.01330317\n",
      " 0.01211896]\n",
      "Latent recipe 4 : ['butter' 'milk' 'eggs' 'flour' 'grated parmesan cheese' 'vanilla extract'\n",
      " 'heavy cream'] [0.23799019 0.04259402 0.0397179  0.02150809 0.01864259 0.01510457\n",
      " 0.01123741]\n",
      "Latent recipe 5 : ['garlic cloves' 'cooking spray' 'chopped onion' 'crushed red pepper'\n",
      " 'chopped cilantro fresh' 'fresh lime juice' 'peeled fresh ginger'] [0.26715377 0.01746395 0.01507564 0.01080014 0.01073073 0.01041505\n",
      " 0.00971794]\n",
      "Latent recipe 6 : ['soy sauce' 'sesame oil' 'green onions' 'corn starch' 'scallions'\n",
      " 'rice vinegar' 'ginger'] [0.09016298 0.05080592 0.0475154  0.02868736 0.02778812 0.0269062\n",
      " 0.02264886]\n",
      "Latent recipe 7 : ['vegetable oil' 'kosher salt' 'scallions' 'eggs' 'fresh ginger'\n",
      " 'shallots' 'corn tortillas'] [0.30716403 0.02013798 0.01043345 0.00998707 0.00863483 0.00843575\n",
      " 0.00830447]\n",
      "Latent recipe 8 : ['onions' 'carrots' 'tomatoes' 'green bell pepper' 'chicken broth'\n",
      " 'potatoes' 'celery'] [0.28739723 0.03255418 0.02453928 0.02040005 0.0148777  0.01417931\n",
      " 0.01406434]\n",
      "Latent recipe 9 : ['ground cumin' 'chili powder' 'tomatoes' 'jalapeno chilies' 'sour cream'\n",
      " 'chopped cilantro fresh' 'avocado'] [0.06547162 0.04650609 0.02635183 0.024411   0.02346439 0.02329792\n",
      " 0.0220463 ]\n",
      "Latent recipe 10 : ['salt' 'freshly ground pepper' 'cucumber' 'large egg whites'\n",
      " 'fresh lemon juice' 'pinenuts' 'red wine vinegar'] [0.69410528 0.01401291 0.00779732 0.00730716 0.00584097 0.00375281\n",
      " 0.00359017]\n",
      "Latent recipe 11 : ['pepper' 'garlic powder' 'salt' 'grated parmesan cheese' 'chicken broth'\n",
      " 'fresh parsley' 'tomato sauce'] [0.354558   0.01551439 0.01343889 0.01265643 0.01256369 0.01100208\n",
      " 0.00849631]\n",
      "Latent recipe 12 : ['salt' 'oil' 'flour' 'eggs' 'lemon juice' 'ground turmeric'\n",
      " 'minced garlic'] [0.25790068 0.06890409 0.04221277 0.03687082 0.03437911 0.01526974\n",
      " 0.01458941]\n",
      "Latent recipe 13 : ['black pepper' 'paprika' 'cooking spray' 'garlic powder' 'dried thyme'\n",
      " 'cayenne pepper' 'onion powder'] [0.29666863 0.02507809 0.02377807 0.02144601 0.01788669 0.01674304\n",
      " 0.01523928]\n",
      "Latent recipe 14 : ['extra-virgin olive oil' 'kosher salt' 'fresh lemon juice'\n",
      " 'flat leaf parsley' 'purple onion' 'freshly ground pepper' 'tomatoes'] [0.13466838 0.05735855 0.03024705 0.02271979 0.02066965 0.01522076\n",
      " 0.01444298]\n",
      "Latent recipe 15 : ['large eggs' 'unsalted butter' 'whole milk' 'vanilla extract'\n",
      " 'granulated sugar' 'heavy cream' 'large egg yolks'] [0.21823083 0.0945632  0.02120415 0.02024079 0.01973147 0.01709074\n",
      " 0.01253569]\n",
      "Latent recipe 16 : ['salt' 'cooking spray' 'tomatoes' 'chopped onion' 'dried oregano'\n",
      " 'ground red pepper' 'freshly ground pepper'] [0.61470489 0.02514836 0.01375161 0.0091838  0.00837888 0.0077306\n",
      " 0.00701438]\n",
      "Latent recipe 17 : ['all-purpose flour' 'baking powder' 'eggs' 'milk' 'baking soda'\n",
      " 'unsalted butter' 'buttermilk'] [0.23189231 0.07394209 0.0442748  0.03497553 0.03495936 0.03427254\n",
      " 0.0279302 ]\n",
      "Latent recipe 18 : ['water' 'carrots' 'oil' 'corn starch' 'cinnamon sticks' 'ground turmeric'\n",
      " 'chopped onion'] [0.40926496 0.01118738 0.01022883 0.01000126 0.0076705  0.00653598\n",
      " 0.00640908]\n",
      "Latent recipe 19 : ['ground black pepper' 'kosher salt' 'dried thyme' 'cayenne pepper'\n",
      " 'grated parmesan cheese' 'fresh parsley' 'garlic powder'] [0.33307019 0.03818255 0.01477786 0.01434465 0.01334872 0.01305684\n",
      " 0.01303506]\n",
      "Latent recipe 20 : ['salt' 'potatoes' 'shallots' 'cumin seed' 'jalapeno chilies' 'garlic'\n",
      " 'cumin'] [0.10069268 0.03341903 0.03179057 0.02666135 0.02437715 0.02343597\n",
      " 0.02182713]\n",
      "\n"
     ]
    }
   ],
   "source": [
    "for NComponents in np.arange(1,20)+1:\n",
    "\n",
    "    print('N component =', NComponents)\n",
    "\n",
    "    # load in BMF results\n",
    "    W = pd.read_csv('BMFresults/NComponents'+str(NComponents)+'_W.csv', header=None, index_col=False).values\n",
    "    W = W/np.sum(W,axis=1)[:,np.newaxis]\n",
    "#     H = pd.read_csv('BMFresults/NComponents'+str(NComponents)+'_H.csv', header=None, index_col=False).values\n",
    "\n",
    "    # histogram of feature weights for each \"latent recipe\"\n",
    "    for i in range(NComponents):\n",
    "        sns.distplot(W[i,:], bins=np.linspace(0,1,101), label=i, kde=False)\n",
    "    plt.show()\n",
    "\n",
    "    # top ingredients for each \"latent recipe\"\n",
    "    print('Top ingredients for each \"latent recipe\":')\n",
    "    for i in range(NComponents):\n",
    "        topIndices = np.where((W[i,:] > np.percentile(W[i,:], 99.9)))[0] #&(W[i,:] > 0.1)\n",
    "        topIndices = topIndices[np.argsort(-W[i, topIndices])]\n",
    "        print('Latent recipe', i+1, ':', dataBinaryIngredients.columns.values[topIndices], W[i, topIndices]) #, W[i, topIndices]\n",
    "    \n",
    "    print('')"
   ]
  },
  {
   "cell_type": "code",
   "execution_count": null,
   "metadata": {},
   "outputs": [],
   "source": []
  }
 ],
 "metadata": {
  "kernelspec": {
   "display_name": "Python 3",
   "language": "python",
   "name": "python3"
  },
  "language_info": {
   "codemirror_mode": {
    "name": "ipython",
    "version": 3
   },
   "file_extension": ".py",
   "mimetype": "text/x-python",
   "name": "python",
   "nbconvert_exporter": "python",
   "pygments_lexer": "ipython3",
   "version": "3.7.2"
  }
 },
 "nbformat": 4,
 "nbformat_minor": 2
}
