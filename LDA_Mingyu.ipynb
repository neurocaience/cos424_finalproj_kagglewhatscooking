{
 "cells": [
  {
   "cell_type": "code",
   "execution_count": 18,
   "metadata": {},
   "outputs": [],
   "source": [
    "import numpy as np\n",
    "import pandas as pd\n",
    "import matplotlib.pyplot as plt\n",
    "import seaborn as sns\n",
    "from sklearn.decomposition import LatentDirichletAllocation\n",
    "from collections import Counter"
   ]
  },
  {
   "cell_type": "markdown",
   "metadata": {},
   "source": [
    "### Load the data"
   ]
  },
  {
   "cell_type": "code",
   "execution_count": 2,
   "metadata": {},
   "outputs": [
    {
     "data": {
      "text/html": [
       "<div>\n",
       "<style scoped>\n",
       "    .dataframe tbody tr th:only-of-type {\n",
       "        vertical-align: middle;\n",
       "    }\n",
       "\n",
       "    .dataframe tbody tr th {\n",
       "        vertical-align: top;\n",
       "    }\n",
       "\n",
       "    .dataframe thead th {\n",
       "        text-align: right;\n",
       "    }\n",
       "</style>\n",
       "<table border=\"1\" class=\"dataframe\">\n",
       "  <thead>\n",
       "    <tr style=\"text-align: right;\">\n",
       "      <th></th>\n",
       "      <th>cuisine</th>\n",
       "      <th>id</th>\n",
       "      <th>ingredients</th>\n",
       "    </tr>\n",
       "  </thead>\n",
       "  <tbody>\n",
       "    <tr>\n",
       "      <th>0</th>\n",
       "      <td>greek</td>\n",
       "      <td>10259</td>\n",
       "      <td>[romaine lettuce, black olives, grape tomatoes...</td>\n",
       "    </tr>\n",
       "    <tr>\n",
       "      <th>1</th>\n",
       "      <td>southern_us</td>\n",
       "      <td>25693</td>\n",
       "      <td>[plain flour, ground pepper, salt, tomatoes, g...</td>\n",
       "    </tr>\n",
       "    <tr>\n",
       "      <th>2</th>\n",
       "      <td>filipino</td>\n",
       "      <td>20130</td>\n",
       "      <td>[eggs, pepper, salt, mayonaise, cooking oil, g...</td>\n",
       "    </tr>\n",
       "    <tr>\n",
       "      <th>3</th>\n",
       "      <td>indian</td>\n",
       "      <td>22213</td>\n",
       "      <td>[water, vegetable oil, wheat, salt]</td>\n",
       "    </tr>\n",
       "    <tr>\n",
       "      <th>4</th>\n",
       "      <td>indian</td>\n",
       "      <td>13162</td>\n",
       "      <td>[black pepper, shallots, cornflour, cayenne pe...</td>\n",
       "    </tr>\n",
       "  </tbody>\n",
       "</table>\n",
       "</div>"
      ],
      "text/plain": [
       "       cuisine     id                                        ingredients\n",
       "0        greek  10259  [romaine lettuce, black olives, grape tomatoes...\n",
       "1  southern_us  25693  [plain flour, ground pepper, salt, tomatoes, g...\n",
       "2     filipino  20130  [eggs, pepper, salt, mayonaise, cooking oil, g...\n",
       "3       indian  22213                [water, vegetable oil, wheat, salt]\n",
       "4       indian  13162  [black pepper, shallots, cornflour, cayenne pe..."
      ]
     },
     "execution_count": 2,
     "metadata": {},
     "output_type": "execute_result"
    }
   ],
   "source": [
    "data = pd.read_json('train.json')\n",
    "data.head()"
   ]
  },
  {
   "cell_type": "markdown",
   "metadata": {},
   "source": [
    "### Create a binary matrix indicating whether or not an ingredient is in a recipe"
   ]
  },
  {
   "cell_type": "code",
   "execution_count": 3,
   "metadata": {},
   "outputs": [
    {
     "data": {
      "text/html": [
       "<div>\n",
       "<style scoped>\n",
       "    .dataframe tbody tr th:only-of-type {\n",
       "        vertical-align: middle;\n",
       "    }\n",
       "\n",
       "    .dataframe tbody tr th {\n",
       "        vertical-align: top;\n",
       "    }\n",
       "\n",
       "    .dataframe thead th {\n",
       "        text-align: right;\n",
       "    }\n",
       "</style>\n",
       "<table border=\"1\" class=\"dataframe\">\n",
       "  <thead>\n",
       "    <tr style=\"text-align: right;\">\n",
       "      <th></th>\n",
       "      <th>(    oz.) tomato sauce</th>\n",
       "      <th>(   oz.) tomato paste</th>\n",
       "      <th>(10 oz.) frozen chopped spinach</th>\n",
       "      <th>(10 oz.) frozen chopped spinach, thawed and squeezed dry</th>\n",
       "      <th>(14 oz.) sweetened condensed milk</th>\n",
       "      <th>(14.5 oz.) diced tomatoes</th>\n",
       "      <th>(15 oz.) refried beans</th>\n",
       "      <th>1% low-fat buttermilk</th>\n",
       "      <th>1% low-fat chocolate milk</th>\n",
       "      <th>1% low-fat cottage cheese</th>\n",
       "      <th>...</th>\n",
       "      <th>yukon gold potatoes</th>\n",
       "      <th>yuzu</th>\n",
       "      <th>yuzu juice</th>\n",
       "      <th>za'atar</th>\n",
       "      <th>zest</th>\n",
       "      <th>zesty italian dressing</th>\n",
       "      <th>zinfandel</th>\n",
       "      <th>ziti</th>\n",
       "      <th>zucchini</th>\n",
       "      <th>zucchini blossoms</th>\n",
       "    </tr>\n",
       "  </thead>\n",
       "  <tbody>\n",
       "    <tr>\n",
       "      <th>0</th>\n",
       "      <td>0.0</td>\n",
       "      <td>0.0</td>\n",
       "      <td>0.0</td>\n",
       "      <td>0.0</td>\n",
       "      <td>0.0</td>\n",
       "      <td>0.0</td>\n",
       "      <td>0.0</td>\n",
       "      <td>0.0</td>\n",
       "      <td>0.0</td>\n",
       "      <td>0.0</td>\n",
       "      <td>...</td>\n",
       "      <td>0.0</td>\n",
       "      <td>0.0</td>\n",
       "      <td>0.0</td>\n",
       "      <td>0.0</td>\n",
       "      <td>0.0</td>\n",
       "      <td>0.0</td>\n",
       "      <td>0.0</td>\n",
       "      <td>0.0</td>\n",
       "      <td>0.0</td>\n",
       "      <td>0.0</td>\n",
       "    </tr>\n",
       "    <tr>\n",
       "      <th>1</th>\n",
       "      <td>0.0</td>\n",
       "      <td>0.0</td>\n",
       "      <td>0.0</td>\n",
       "      <td>0.0</td>\n",
       "      <td>0.0</td>\n",
       "      <td>0.0</td>\n",
       "      <td>0.0</td>\n",
       "      <td>0.0</td>\n",
       "      <td>0.0</td>\n",
       "      <td>0.0</td>\n",
       "      <td>...</td>\n",
       "      <td>0.0</td>\n",
       "      <td>0.0</td>\n",
       "      <td>0.0</td>\n",
       "      <td>0.0</td>\n",
       "      <td>0.0</td>\n",
       "      <td>0.0</td>\n",
       "      <td>0.0</td>\n",
       "      <td>0.0</td>\n",
       "      <td>0.0</td>\n",
       "      <td>0.0</td>\n",
       "    </tr>\n",
       "    <tr>\n",
       "      <th>2</th>\n",
       "      <td>0.0</td>\n",
       "      <td>0.0</td>\n",
       "      <td>0.0</td>\n",
       "      <td>0.0</td>\n",
       "      <td>0.0</td>\n",
       "      <td>0.0</td>\n",
       "      <td>0.0</td>\n",
       "      <td>0.0</td>\n",
       "      <td>0.0</td>\n",
       "      <td>0.0</td>\n",
       "      <td>...</td>\n",
       "      <td>0.0</td>\n",
       "      <td>0.0</td>\n",
       "      <td>0.0</td>\n",
       "      <td>0.0</td>\n",
       "      <td>0.0</td>\n",
       "      <td>0.0</td>\n",
       "      <td>0.0</td>\n",
       "      <td>0.0</td>\n",
       "      <td>0.0</td>\n",
       "      <td>0.0</td>\n",
       "    </tr>\n",
       "    <tr>\n",
       "      <th>3</th>\n",
       "      <td>0.0</td>\n",
       "      <td>0.0</td>\n",
       "      <td>0.0</td>\n",
       "      <td>0.0</td>\n",
       "      <td>0.0</td>\n",
       "      <td>0.0</td>\n",
       "      <td>0.0</td>\n",
       "      <td>0.0</td>\n",
       "      <td>0.0</td>\n",
       "      <td>0.0</td>\n",
       "      <td>...</td>\n",
       "      <td>0.0</td>\n",
       "      <td>0.0</td>\n",
       "      <td>0.0</td>\n",
       "      <td>0.0</td>\n",
       "      <td>0.0</td>\n",
       "      <td>0.0</td>\n",
       "      <td>0.0</td>\n",
       "      <td>0.0</td>\n",
       "      <td>0.0</td>\n",
       "      <td>0.0</td>\n",
       "    </tr>\n",
       "    <tr>\n",
       "      <th>4</th>\n",
       "      <td>0.0</td>\n",
       "      <td>0.0</td>\n",
       "      <td>0.0</td>\n",
       "      <td>0.0</td>\n",
       "      <td>0.0</td>\n",
       "      <td>0.0</td>\n",
       "      <td>0.0</td>\n",
       "      <td>0.0</td>\n",
       "      <td>0.0</td>\n",
       "      <td>0.0</td>\n",
       "      <td>...</td>\n",
       "      <td>0.0</td>\n",
       "      <td>0.0</td>\n",
       "      <td>0.0</td>\n",
       "      <td>0.0</td>\n",
       "      <td>0.0</td>\n",
       "      <td>0.0</td>\n",
       "      <td>0.0</td>\n",
       "      <td>0.0</td>\n",
       "      <td>0.0</td>\n",
       "      <td>0.0</td>\n",
       "    </tr>\n",
       "  </tbody>\n",
       "</table>\n",
       "<p>5 rows × 6714 columns</p>\n",
       "</div>"
      ],
      "text/plain": [
       "   (    oz.) tomato sauce  (   oz.) tomato paste  \\\n",
       "0                     0.0                    0.0   \n",
       "1                     0.0                    0.0   \n",
       "2                     0.0                    0.0   \n",
       "3                     0.0                    0.0   \n",
       "4                     0.0                    0.0   \n",
       "\n",
       "   (10 oz.) frozen chopped spinach  \\\n",
       "0                              0.0   \n",
       "1                              0.0   \n",
       "2                              0.0   \n",
       "3                              0.0   \n",
       "4                              0.0   \n",
       "\n",
       "   (10 oz.) frozen chopped spinach, thawed and squeezed dry  \\\n",
       "0                                                0.0          \n",
       "1                                                0.0          \n",
       "2                                                0.0          \n",
       "3                                                0.0          \n",
       "4                                                0.0          \n",
       "\n",
       "   (14 oz.) sweetened condensed milk  (14.5 oz.) diced tomatoes  \\\n",
       "0                                0.0                        0.0   \n",
       "1                                0.0                        0.0   \n",
       "2                                0.0                        0.0   \n",
       "3                                0.0                        0.0   \n",
       "4                                0.0                        0.0   \n",
       "\n",
       "   (15 oz.) refried beans  1% low-fat buttermilk  1% low-fat chocolate milk  \\\n",
       "0                     0.0                    0.0                        0.0   \n",
       "1                     0.0                    0.0                        0.0   \n",
       "2                     0.0                    0.0                        0.0   \n",
       "3                     0.0                    0.0                        0.0   \n",
       "4                     0.0                    0.0                        0.0   \n",
       "\n",
       "   1% low-fat cottage cheese  ...  yukon gold potatoes  yuzu  yuzu juice  \\\n",
       "0                        0.0  ...                  0.0   0.0         0.0   \n",
       "1                        0.0  ...                  0.0   0.0         0.0   \n",
       "2                        0.0  ...                  0.0   0.0         0.0   \n",
       "3                        0.0  ...                  0.0   0.0         0.0   \n",
       "4                        0.0  ...                  0.0   0.0         0.0   \n",
       "\n",
       "   za'atar  zest  zesty italian dressing  zinfandel  ziti  zucchini  \\\n",
       "0      0.0   0.0                     0.0        0.0   0.0       0.0   \n",
       "1      0.0   0.0                     0.0        0.0   0.0       0.0   \n",
       "2      0.0   0.0                     0.0        0.0   0.0       0.0   \n",
       "3      0.0   0.0                     0.0        0.0   0.0       0.0   \n",
       "4      0.0   0.0                     0.0        0.0   0.0       0.0   \n",
       "\n",
       "   zucchini blossoms  \n",
       "0                0.0  \n",
       "1                0.0  \n",
       "2                0.0  \n",
       "3                0.0  \n",
       "4                0.0  \n",
       "\n",
       "[5 rows x 6714 columns]"
      ]
     },
     "execution_count": 3,
     "metadata": {},
     "output_type": "execute_result"
    }
   ],
   "source": [
    "# get the list of ingredients\n",
    "ingredientList = sorted(list(set([ingredient for i in range(data.shape[0]) for ingredient in data.loc[i,'ingredients']])))\n",
    "# the mapping between ingredient and its index\n",
    "ingredient2index = dict(zip(ingredientList, range(len(ingredientList))))\n",
    "# create a binary matrix indicating whether or not an ingredient is in a recipe\n",
    "binaryIngredientsMat = np.zeros((data.shape[0], len(ingredientList)))\n",
    "for iRecipe in range(data.shape[0]):\n",
    "    binaryIngredientsMat[iRecipe, [ingredient2index[ingredient] for ingredient in data.loc[iRecipe, 'ingredients']]] = 1\n",
    "dataBinaryIngredients = pd.DataFrame(binaryIngredientsMat, columns=ingredientList)\n",
    "dataBinaryIngredients.head()"
   ]
  },
  {
   "cell_type": "markdown",
   "metadata": {},
   "source": [
    "### LDA"
   ]
  },
  {
   "cell_type": "markdown",
   "metadata": {},
   "source": [
    "#### Try NComponents = 6"
   ]
  },
  {
   "cell_type": "code",
   "execution_count": null,
   "metadata": {},
   "outputs": [],
   "source": [
    "NComponents = 6"
   ]
  },
  {
   "cell_type": "code",
   "execution_count": 7,
   "metadata": {},
   "outputs": [
    {
     "name": "stdout",
     "output_type": "stream",
     "text": [
      "CPU times: user 2min 5s, sys: 1.39 s, total: 2min 6s\n",
      "Wall time: 2min 7s\n"
     ]
    }
   ],
   "source": [
    "%%time\n",
    "lda = LatentDirichletAllocation(n_components = NComponents)\n",
    "lda.fit(dataBinaryIngredients.values)"
   ]
  },
  {
   "cell_type": "code",
   "execution_count": 15,
   "metadata": {},
   "outputs": [
    {
     "data": {
      "image/png": "[encoded data removed]",
      "text/plain": [
       "<Figure size 1440x216 with 6 Axes>"
      ]
     },
     "metadata": {
      "needs_background": "light"
     },
     "output_type": "display_data"
    }
   ],
   "source": [
    "recipeProportionsfromLatentRecipes = lda.transform(dataBinaryIngredients.values)\n",
    "\n",
    "fig, axes = plt.subplots(1, NComponents, figsize=(20,3), sharey=True)\n",
    "for i in range(NComponents):\n",
    "    ax = axes[i]\n",
    "    ax.hist(recipeProportionsfromLatentRecipes[:, i], alpha=0.3, range=(0,1), bins=20)\n",
    "    ax.set_xlabel('Recipe Proportion from Latent Recipe '+str(i+1))\n",
    "    ax.set_ylabel('Count')\n",
    "plt.show()"
   ]
  },
  {
   "cell_type": "code",
   "execution_count": 23,
   "metadata": {},
   "outputs": [
    {
     "name": "stdout",
     "output_type": "stream",
     "text": [
      "N component = 6\n"
     ]
    },
    {
     "data": {
      "image/png": "[encoded data removed]",
      "text/plain": [
       "<Figure size 432x288 with 1 Axes>"
      ]
     },
     "metadata": {
      "needs_background": "light"
     },
     "output_type": "display_data"
    },
    {
     "name": "stdout",
     "output_type": "stream",
     "text": [
      "Top ingredients for each \"latent recipe\":\n",
      "Latent recipe 1 : ['salt' 'jalapeno chilies' 'ground cumin' 'sour cream' 'chili powder'\n",
      " 'avocado' 'chopped cilantro fresh']\n",
      "Latent recipe 2 : ['salt' 'onions' 'water' 'garlic' 'fish sauce' 'vegetable oil'\n",
      " 'garlic cloves']\n",
      "Latent recipe 3 : ['olive oil' 'salt' 'garlic cloves' 'extra-virgin olive oil'\n",
      " 'ground black pepper' 'fresh lemon juice' 'dry white wine']\n",
      "Latent recipe 4 : ['salt' 'onions' 'garlic' 'olive oil' 'pepper' 'water'\n",
      " 'ground black pepper']\n",
      "Latent recipe 5 : ['soy sauce' 'sugar' 'corn starch' 'sesame oil' 'water' 'salt'\n",
      " 'green onions']\n",
      "Latent recipe 6 : ['salt' 'all-purpose flour' 'sugar' 'butter' 'milk' 'large eggs' 'eggs']\n"
     ]
    }
   ],
   "source": [
    "latentRecipes = lda.components_\n",
    "\n",
    "print('N component =', NComponents)\n",
    "\n",
    "# top ingredients for each \"latent recipe\"\n",
    "print('Top ingredients for each \"latent recipe\":')\n",
    "for i in range(NComponents):\n",
    "    topIndices = np.where((latentRecipes[i,:] > np.percentile(latentRecipes[i,:], 99.9))&(latentRecipes[i,:] > 0.1))[0]\n",
    "    topIndices = topIndices[np.argsort(-latentRecipes[i, topIndices])]\n",
    "    print('Latent recipe', i+1, ':', dataBinaryIngredients.columns.values[topIndices]) #, latentRecipes[i, topIndices]\n"
   ]
  },
  {
   "cell_type": "markdown",
   "metadata": {},
   "source": [
    "### Similarity matrix between latent recipes and cuisines"
   ]
  },
  {
   "cell_type": "code",
   "execution_count": 19,
   "metadata": {},
   "outputs": [],
   "source": [
    "cuisineList = data['cuisine'].unique()\n",
    "ingredientBag = [ingredient for i in range(data.shape[0]) for ingredient in data.loc[i,'ingredients']]\n",
    "\n",
    "# ingredient count (in total and in each cuisine)\n",
    "count = []\n",
    "count.append(dict(Counter(ingredientBag)))\n",
    "for cuisine in cuisineList:\n",
    "    dataCuisine = data[data['cuisine']==cuisine].copy().reset_index()\n",
    "    count.append(dict(Counter([ingredient for i in range(dataCuisine.shape[0]) for ingredient in dataCuisine.loc[i,'ingredients']])))\n",
    "ingredientCount = pd.DataFrame(count).T\n",
    "ingredientCount.columns = ['total'] + [cuisine for cuisine in cuisineList]\n",
    "ingredientCount = ingredientCount.fillna(0)\n",
    "\n",
    "# the frequency of an ingredient in each cuisine (proportion of recipes with this ingredient for a cuisine)\n",
    "ingredientFrequency = ingredientCount[[cuisine for cuisine in cuisineList]].div(data['cuisine'].value_counts()[cuisine], axis=1)\n",
    "\n",
    "# transpose to be consistent with W\n",
    "cuisineIngredientFrequency = ingredientFrequency.T[ingredientList]"
   ]
  },
  {
   "cell_type": "code",
   "execution_count": 20,
   "metadata": {},
   "outputs": [
    {
     "data": {
      "image/png": "[encoded data removed]",
      "text/plain": [
       "<Figure size 288x72 with 1 Axes>"
      ]
     },
     "metadata": {
      "needs_background": "light"
     },
     "output_type": "display_data"
    },
    {
     "data": {
      "image/png": "[encoded data removed]",
      "text/plain": [
       "<Figure size 288x108 with 1 Axes>"
      ]
     },
     "metadata": {
      "needs_background": "light"
     },
     "output_type": "display_data"
    },
    {
     "data": {
      "image/png": "[encoded data removed]",
      "text/plain": [
       "<Figure size 288x144 with 1 Axes>"
      ]
     },
     "metadata": {
      "needs_background": "light"
     },
     "output_type": "display_data"
    },
    {
     "data": {
      "image/png": "[encoded data removed]",
      "text/plain": [
       "<Figure size 288x180 with 1 Axes>"
      ]
     },
     "metadata": {
      "needs_background": "light"
     },
     "output_type": "display_data"
    },
    {
     "data": {
      "image/png": "[encoded data removed]",
      "text/plain": [
       "<Figure size 288x216 with 1 Axes>"
      ]
     },
     "metadata": {
      "needs_background": "light"
     },
     "output_type": "display_data"
    },
    {
     "data": {
      "image/png": "[encoded data removed]",
      "text/plain": [
       "<Figure size 288x252 with 1 Axes>"
      ]
     },
     "metadata": {
      "needs_background": "light"
     },
     "output_type": "display_data"
    },
    {
     "data": {
      "image/png": "[encoded data removed]",
      "text/plain": [
       "<Figure size 288x288 with 1 Axes>"
      ]
     },
     "metadata": {
      "needs_background": "light"
     },
     "output_type": "display_data"
    },
    {
     "data": {
      "image/png": "[encoded data removed]",
      "text/plain": [
       "<Figure size 288x324 with 1 Axes>"
      ]
     },
     "metadata": {
      "needs_background": "light"
     },
     "output_type": "display_data"
    },
    {
     "data": {
      "image/png": "[encoded data removed]",
      "text/plain": [
       "<Figure size 288x360 with 1 Axes>"
      ]
     },
     "metadata": {
      "needs_background": "light"
     },
     "output_type": "display_data"
    },
    {
     "data": {
      "image/png": "[encoded data removed]",
      "text/plain": [
       "<Figure size 288x396 with 1 Axes>"
      ]
     },
     "metadata": {
      "needs_background": "light"
     },
     "output_type": "display_data"
    },
    {
     "data": {
      "image/png": "[encoded data removed]",
      "text/plain": [
       "<Figure size 288x432 with 1 Axes>"
      ]
     },
     "metadata": {
      "needs_background": "light"
     },
     "output_type": "display_data"
    },
    {
     "data": {
      "image/png": "[encoded data removed]",
      "text/plain": [
       "<Figure size 288x468 with 1 Axes>"
      ]
     },
     "metadata": {
      "needs_background": "light"
     },
     "output_type": "display_data"
    },
    {
     "data": {
      "image/png": "[encoded data removed]",
      "text/plain": [
       "<Figure size 288x504 with 1 Axes>"
      ]
     },
     "metadata": {
      "needs_background": "light"
     },
     "output_type": "display_data"
    },
    {
     "data": {
      "image/png": "[encoded data removed]",
      "text/plain": [
       "<Figure size 288x540 with 1 Axes>"
      ]
     },
     "metadata": {
      "needs_background": "light"
     },
     "output_type": "display_data"
    },
    {
     "data": {
      "image/png": "[encoded data removed]",
      "text/plain": [
       "<Figure size 288x576 with 1 Axes>"
      ]
     },
     "metadata": {
      "needs_background": "light"
     },
     "output_type": "display_data"
    },
    {
     "data": {
      "image/png": "[encoded data removed]",
      "text/plain": [
       "<Figure size 288x612 with 1 Axes>"
      ]
     },
     "metadata": {
      "needs_background": "light"
     },
     "output_type": "display_data"
    },
    {
     "data": {
      "image/png": "[encoded data removed]",
      "text/plain": [
       "<Figure size 288x648 with 1 Axes>"
      ]
     },
     "metadata": {
      "needs_background": "light"
     },
     "output_type": "display_data"
    },
    {
     "data": {
      "image/png": "[encoded data removed]",
      "text/plain": [
       "<Figure size 288x684 with 1 Axes>"
      ]
     },
     "metadata": {
      "needs_background": "light"
     },
     "output_type": "display_data"
    },
    {
     "data": {
      "image/png": "[encoded data removed]",
      "text/plain": [
       "<Figure size 288x720 with 1 Axes>"
      ]
     },
     "metadata": {
      "needs_background": "light"
     },
     "output_type": "display_data"
    }
   ],
   "source": [
    "NComponentsMax = 20\n",
    "corrmatList = []\n",
    "\n",
    "for NComponents in np.arange(1,NComponentsMax)+1:\n",
    "\n",
    "    # load in LDA results\n",
    "    latentRecipes = pd.read_csv('LDAresults/NComponents'+str(NComponents)+'_latentRecipes.csv', header=None, index_col=False).values # pseudo counts\n",
    "    \n",
    "    # calculate correlations between cuisines and latent recipes\n",
    "    NCuisine = len(cuisineList)\n",
    "    corrmatList.append(np.zeros((NComponents, NCuisine)))\n",
    "    for iLatentRecipe in range(NComponents):\n",
    "        for iCuisine in range(NCuisine):\n",
    "            corrmatList[-1][iLatentRecipe, iCuisine] = np.corrcoef(cuisineIngredientFrequency.values[iCuisine,:],latentRecipes[iLatentRecipe,:])[0,1]\n",
    "    \n",
    "    # plot the correlations\n",
    "    fig, ax = plt.subplots(figsize=(4,NComponents/2))\n",
    "    p = ax.matshow(corrmatList[-1], vmin=0, vmax=1)\n",
    "    ax.set(xticks=range(NCuisine), yticks=range(NComponents), xticklabels=[], yticklabels=[])\n",
    "\n",
    "ax.set_xticks(range(NCuisine))\n",
    "ax.set_xticklabels(labels=cuisineList, rotation=90, fontsize=14)\n",
    "ax.xaxis.tick_bottom()\n",
    "plt.show()"
   ]
  },
  {
   "cell_type": "code",
   "execution_count": 24,
   "metadata": {},
   "outputs": [
    {
     "data": {
      "image/png": "[encoded data removed]",
      "text/plain": [
       "<Figure size 36x36 with 1 Axes>"
      ]
     },
     "metadata": {
      "needs_background": "light"
     },
     "output_type": "display_data"
    },
    {
     "data": {
      "image/png": "[encoded data removed]",
      "text/plain": [
       "<Figure size 54x54 with 1 Axes>"
      ]
     },
     "metadata": {
      "needs_background": "light"
     },
     "output_type": "display_data"
    },
    {
     "data": {
      "image/png": "[encoded data removed]",
      "text/plain": [
       "<Figure size 72x72 with 1 Axes>"
      ]
     },
     "metadata": {
      "needs_background": "light"
     },
     "output_type": "display_data"
    },
    {
     "data": {
      "image/png": "[encoded data removed]",
      "text/plain": [
       "<Figure size 90x90 with 1 Axes>"
      ]
     },
     "metadata": {
      "needs_background": "light"
     },
     "output_type": "display_data"
    },
    {
     "data": {
      "image/png": "[encoded data removed]",
      "text/plain": [
       "<Figure size 108x108 with 1 Axes>"
      ]
     },
     "metadata": {
      "needs_background": "light"
     },
     "output_type": "display_data"
    },
    {
     "data": {
      "image/png": "[encoded data removed]",
      "text/plain": [
       "<Figure size 126x126 with 1 Axes>"
      ]
     },
     "metadata": {
      "needs_background": "light"
     },
     "output_type": "display_data"
    },
    {
     "data": {
      "image/png": "[encoded data removed]",
      "text/plain": [
       "<Figure size 144x144 with 1 Axes>"
      ]
     },
     "metadata": {
      "needs_background": "light"
     },
     "output_type": "display_data"
    },
    {
     "data": {
      "image/png": "[encoded data removed]",
      "text/plain": [
       "<Figure size 162x162 with 1 Axes>"
      ]
     },
     "metadata": {
      "needs_background": "light"
     },
     "output_type": "display_data"
    },
    {
     "data": {
      "image/png": "[encoded data removed]",
      "text/plain": [
       "<Figure size 180x180 with 1 Axes>"
      ]
     },
     "metadata": {
      "needs_background": "light"
     },
     "output_type": "display_data"
    },
    {
     "data": {
      "image/png": "[encoded data removed]",
      "text/plain": [
       "<Figure size 198x198 with 1 Axes>"
      ]
     },
     "metadata": {
      "needs_background": "light"
     },
     "output_type": "display_data"
    },
    {
     "data": {
      "image/png": "[encoded data removed]",
      "text/plain": [
       "<Figure size 216x216 with 1 Axes>"
      ]
     },
     "metadata": {
      "needs_background": "light"
     },
     "output_type": "display_data"
    },
    {
     "data": {
      "image/png": "[encoded data removed]",
      "text/plain": [
       "<Figure size 234x234 with 1 Axes>"
      ]
     },
     "metadata": {
      "needs_background": "light"
     },
     "output_type": "display_data"
    },
    {
     "data": {
      "image/png": "[encoded data removed]",
      "text/plain": [
       "<Figure size 252x252 with 1 Axes>"
      ]
     },
     "metadata": {
      "needs_background": "light"
     },
     "output_type": "display_data"
    },
    {
     "data": {
      "image/png": "[encoded data removed]",
      "text/plain": [
       "<Figure size 270x270 with 1 Axes>"
      ]
     },
     "metadata": {
      "needs_background": "light"
     },
     "output_type": "display_data"
    },
    {
     "data": {
      "image/png": "[encoded data removed]",
      "text/plain": [
       "<Figure size 288x288 with 1 Axes>"
      ]
     },
     "metadata": {
      "needs_background": "light"
     },
     "output_type": "display_data"
    },
    {
     "data": {
      "image/png": "[encoded data removed]",
      "text/plain": [
       "<Figure size 306x306 with 1 Axes>"
      ]
     },
     "metadata": {
      "needs_background": "light"
     },
     "output_type": "display_data"
    },
    {
     "data": {
      "image/png": "[encoded data removed]",
      "text/plain": [
       "<Figure size 324x324 with 1 Axes>"
      ]
     },
     "metadata": {
      "needs_background": "light"
     },
     "output_type": "display_data"
    },
    {
     "data": {
      "image/png": "[encoded data removed]",
      "text/plain": [
       "<Figure size 342x342 with 1 Axes>"
      ]
     },
     "metadata": {
      "needs_background": "light"
     },
     "output_type": "display_data"
    },
    {
     "data": {
      "image/png": "[encoded data removed]",
      "text/plain": [
       "<Figure size 360x360 with 1 Axes>"
      ]
     },
     "metadata": {
      "needs_background": "light"
     },
     "output_type": "display_data"
    }
   ],
   "source": [
    "# similarity between latent recipes\n",
    "NComponentsMax = 20\n",
    "corrmatList = []\n",
    "\n",
    "for NComponents in np.arange(1,NComponentsMax)+1:\n",
    "\n",
    "    # load in LDA results\n",
    "    latentRecipes = pd.read_csv('LDAresults/NComponents'+str(NComponents)+'_latentRecipes.csv', header=None, index_col=False).values # pseudo counts\n",
    "    \n",
    "    # plot the correlations\n",
    "    fig, ax = plt.subplots(figsize=(NComponents/4,NComponents/4))\n",
    "    p = ax.matshow(np.corrcoef(latentRecipes), vmin=0, vmax=1)\n",
    "    ax.set(xticks=range(NComponents), yticks=range(NComponents), xticklabels=[], yticklabels=[])\n",
    "\n",
    "plt.show()"
   ]
  },
  {
   "cell_type": "markdown",
   "metadata": {},
   "source": [
    "### Supplementary: LDA with various number of \"latent recipes\""
   ]
  },
  {
   "cell_type": "code",
   "execution_count": null,
   "metadata": {},
   "outputs": [],
   "source": [
    "# run LDA with different values of NComponents\n",
    "for NComponents in np.arange(1,20)+1:\n",
    "    lda = LatentDirichletAllocation(n_components=NComponents, max_iter=100)\n",
    "    lda.fit(dataBinaryIngredients.values)\n",
    "    latentRecipes = lda.components_\n",
    "    recipeProportionsfromLatentRecipes = lda.transform(dataBinaryIngredients.values)\n",
    "    pd.DataFrame(latentRecipes).to_csv('LDAresults/NComponents'+str(NComponents)+'_latentRecipes.csv', header=False, index=False) # beta\n",
    "    pd.DataFrame(recipeProportionsfromLatentRecipes).to_csv('LDAresults/NComponents'+str(NComponents)+'_recipeProportionsfromLatentRecipes.csv', header=False, index=False) # theta"
   ]
  },
  {
   "cell_type": "code",
   "execution_count": 15,
   "metadata": {},
   "outputs": [
    {
     "name": "stdout",
     "output_type": "stream",
     "text": [
      "N component = 2\n"
     ]
    },
    {
     "data": {
      "image/png": "[encoded data removed]",
      "text/plain": [
       "<Figure size 432x288 with 1 Axes>"
      ]
     },
     "metadata": {
      "needs_background": "light"
     },
     "output_type": "display_data"
    },
    {
     "name": "stdout",
     "output_type": "stream",
     "text": [
      "Top ingredients for each \"latent recipe\":\n",
      "Latent recipe 1 : ['salt' 'sugar' 'water' 'all-purpose flour' 'soy sauce' 'vegetable oil'\n",
      " 'eggs'] [0.03566515 0.03369401 0.02071176 0.01745363 0.01726221 0.01516591\n",
      " 0.01347453]\n",
      "Latent recipe 2 : ['salt' 'olive oil' 'onions' 'garlic cloves' 'garlic'\n",
      " 'ground black pepper' 'pepper'] [0.04605851 0.0326695  0.03266441 0.02145702 0.02047677 0.01960648\n",
      " 0.01632819]\n",
      "\n",
      "N component = 3\n"
     ]
    },
    {
     "data": {
      "image/png": "[encoded data removed]",
      "text/plain": [
       "<Figure size 432x288 with 1 Axes>"
      ]
     },
     "metadata": {
      "needs_background": "light"
     },
     "output_type": "display_data"
    },
    {
     "name": "stdout",
     "output_type": "stream",
     "text": [
      "Top ingredients for each \"latent recipe\":\n",
      "Latent recipe 1 : ['olive oil' 'salt' 'garlic cloves' 'onions' 'ground black pepper'\n",
      " 'garlic' 'extra-virgin olive oil'] [0.04563608 0.04318419 0.0260938  0.02549495 0.02428072 0.01937673\n",
      " 0.01820988]\n",
      "Latent recipe 2 : ['salt' 'all-purpose flour' 'sugar' 'butter' 'eggs' 'large eggs' 'milk'] [0.05551387 0.0488424  0.0427772  0.0359097  0.02936759 0.02932858\n",
      " 0.02386409]\n",
      "Latent recipe 3 : ['salt' 'garlic' 'onions' 'water' 'soy sauce' 'vegetable oil'\n",
      " 'ground cumin'] [0.03312423 0.02355206 0.02180277 0.01982015 0.01741747 0.01649387\n",
      " 0.01451627]\n",
      "\n",
      "N component = 4\n"
     ]
    },
    {
     "data": {
      "image/png": "[encoded data removed]",
      "text/plain": [
       "<Figure size 432x288 with 1 Axes>"
      ]
     },
     "metadata": {
      "needs_background": "light"
     },
     "output_type": "display_data"
    },
    {
     "name": "stdout",
     "output_type": "stream",
     "text": [
      "Top ingredients for each \"latent recipe\":\n",
      "Latent recipe 1 : ['sugar' 'salt' 'soy sauce' 'all-purpose flour' 'water' 'eggs'\n",
      " 'large eggs'] [0.04914367 0.04202084 0.02918195 0.02849588 0.02317649 0.01945274\n",
      " 0.01785436]\n",
      "Latent recipe 2 : ['salt' 'olive oil' 'garlic cloves' 'ground black pepper' 'onions'\n",
      " 'extra-virgin olive oil' 'garlic'] [0.04488237 0.04307185 0.0291334  0.025137   0.02254376 0.01989428\n",
      " 0.01840038]\n",
      "Latent recipe 3 : ['salt' 'onions' 'pepper' 'sour cream' 'garlic powder' 'chili powder'\n",
      " 'avocado'] [0.03674035 0.0213831  0.02125375 0.01964686 0.01842071 0.01644789\n",
      " 0.01568737]\n",
      "Latent recipe 4 : ['salt' 'onions' 'garlic' 'water' 'garlic cloves' 'ground cumin'\n",
      " 'chopped cilantro fresh'] [0.04003043 0.0301588  0.02642139 0.02097142 0.01886572 0.01666038\n",
      " 0.01607776]\n",
      "\n",
      "N component = 5\n"
     ]
    },
    {
     "data": {
      "image/png": "[encoded data removed]",
      "text/plain": [
       "<Figure size 432x288 with 1 Axes>"
      ]
     },
     "metadata": {
      "needs_background": "light"
     },
     "output_type": "display_data"
    },
    {
     "name": "stdout",
     "output_type": "stream",
     "text": [
      "Top ingredients for each \"latent recipe\":\n",
      "Latent recipe 1 : ['sugar' 'salt' 'all-purpose flour' 'large eggs' 'butter'\n",
      " 'unsalted butter' 'baking powder'] [0.0582447  0.05369325 0.04854595 0.03042768 0.03009714 0.02724148\n",
      " 0.02502616]\n",
      "Latent recipe 2 : ['salt' 'soy sauce' 'water' 'garlic' 'sugar' 'vegetable oil' 'onions'] [0.0305608  0.02901552 0.02422881 0.02381059 0.02102966 0.01789695\n",
      " 0.01771934]\n",
      "Latent recipe 3 : ['salt' 'onions' 'pepper' 'garlic' 'butter' 'olive oil' 'water'] [0.05330778 0.04109583 0.02945266 0.02760295 0.02397493 0.02016671\n",
      " 0.01930138]\n",
      "Latent recipe 4 : ['salt' 'ground cumin' 'jalapeno chilies' 'chili powder'\n",
      " 'chopped cilantro fresh' 'olive oil' 'sour cream'] [0.03462916 0.03355842 0.02520126 0.0229412  0.01947403 0.01858993\n",
      " 0.0183637 ]\n",
      "Latent recipe 5 : ['olive oil' 'salt' 'garlic cloves' 'extra-virgin olive oil'\n",
      " 'ground black pepper' 'fresh lemon juice' 'kosher salt'] [0.0519462  0.03955424 0.03529916 0.02910417 0.0246711  0.0145737\n",
      " 0.0138798 ]\n",
      "\n",
      "N component = 6\n"
     ]
    },
    {
     "data": {
      "image/png": "[encoded data removed]",
      "text/plain": [
       "<Figure size 432x288 with 1 Axes>"
      ]
     },
     "metadata": {
      "needs_background": "light"
     },
     "output_type": "display_data"
    },
    {
     "name": "stdout",
     "output_type": "stream",
     "text": [
      "Top ingredients for each \"latent recipe\":\n",
      "Latent recipe 1 : ['salt' 'jalapeno chilies' 'ground cumin' 'chili powder' 'avocado'\n",
      " 'sour cream' 'onions'] [0.03496704 0.0261417  0.0237236  0.02272675 0.01954554 0.0193654\n",
      " 0.01901491]\n",
      "Latent recipe 2 : ['olive oil' 'salt' 'garlic cloves' 'extra-virgin olive oil'\n",
      " 'ground black pepper' 'fresh lemon juice' 'dry white wine'] [0.05610339 0.04010127 0.03471363 0.03127193 0.02506747 0.0142286\n",
      " 0.01386679]\n",
      "Latent recipe 3 : ['salt' 'onions' 'water' 'ground cumin' 'garlic' 'ground turmeric'\n",
      " 'cumin seed'] [0.04670196 0.03572404 0.02199247 0.02123604 0.0204349  0.0160401\n",
      " 0.0158035 ]\n",
      "Latent recipe 4 : ['soy sauce' 'sugar' 'garlic' 'water' 'sesame oil' 'salt' 'green onions'] [0.04205827 0.02870283 0.02471027 0.02327469 0.02262517 0.02165638\n",
      " 0.02015821]\n",
      "Latent recipe 5 : ['salt' 'onions' 'pepper' 'butter' 'garlic' 'water' 'ground black pepper'] [0.05296355 0.0383505  0.02841298 0.02348484 0.02288048 0.02046726\n",
      " 0.01739586]\n",
      "Latent recipe 6 : ['sugar' 'salt' 'all-purpose flour' 'butter' 'unsalted butter'\n",
      " 'large eggs' 'baking powder'] [0.05996944 0.05442214 0.04985498 0.03046657 0.02900766 0.02900303\n",
      " 0.02622341]\n",
      "\n",
      "N component = 7\n"
     ]
    },
    {
     "data": {
      "image/png": "[encoded data removed]",
      "text/plain": [
       "<Figure size 432x288 with 1 Axes>"
      ]
     },
     "metadata": {
      "needs_background": "light"
     },
     "output_type": "display_data"
    },
    {
     "name": "stdout",
     "output_type": "stream",
     "text": [
      "Top ingredients for each \"latent recipe\":\n",
      "Latent recipe 1 : ['all-purpose flour' 'salt' 'butter' 'sugar' 'milk' 'large eggs'\n",
      " 'unsalted butter'] [0.08531045 0.07917325 0.05535508 0.05025662 0.05018039 0.04997683\n",
      " 0.04699372]\n",
      "Latent recipe 2 : ['salt' 'onions' 'garlic' 'water' 'oil' 'ground cumin' 'ground turmeric'] [0.04809885 0.04196562 0.02523162 0.02457532 0.02369228 0.01794211\n",
      " 0.01654131]\n",
      "Latent recipe 3 : ['salt' 'onions' 'pepper' 'garlic' 'water' 'ground black pepper' 'butter'] [0.05080301 0.04627996 0.02939136 0.0225179  0.02165929 0.02024235\n",
      " 0.01942685]\n",
      "Latent recipe 4 : ['salt' 'garlic cloves' 'olive oil' 'chopped cilantro fresh'\n",
      " 'purple onion' 'ground cumin' 'fresh lime juice'] [0.04471381 0.03175336 0.02714285 0.02381081 0.02338935 0.02205069\n",
      " 0.02080238]\n",
      "Latent recipe 5 : ['sugar' 'soy sauce' 'water' 'sesame oil' 'salt' 'corn starch' 'scallions'] [0.04332621 0.04274197 0.02583344 0.02299282 0.0217827  0.02085463\n",
      " 0.01701413]\n",
      "Latent recipe 6 : ['lime' 'garlic' 'fish sauce' 'sour cream' 'salt' 'chili powder' 'onions'] [0.02518337 0.02404379 0.02182359 0.02110731 0.02044403 0.01940806\n",
      " 0.01911324]\n",
      "Latent recipe 7 : ['olive oil' 'salt' 'garlic cloves' 'extra-virgin olive oil'\n",
      " 'ground black pepper' 'grated parmesan cheese' 'garlic'] [0.05631648 0.03927973 0.03062502 0.02919875 0.02407335 0.02333865\n",
      " 0.01851055]\n",
      "\n",
      "N component = 8\n"
     ]
    },
    {
     "data": {
      "image/png": "[encoded data removed]",
      "text/plain": [
       "<Figure size 432x288 with 1 Axes>"
      ]
     },
     "metadata": {
      "needs_background": "light"
     },
     "output_type": "display_data"
    },
    {
     "name": "stdout",
     "output_type": "stream",
     "text": [
      "Top ingredients for each \"latent recipe\":\n",
      "Latent recipe 1 : ['olive oil' 'grated parmesan cheese' 'salt' 'garlic' 'pepper' 'onions'\n",
      " 'dried oregano'] [0.05622274 0.04295428 0.04187872 0.04163889 0.02638499 0.02445953\n",
      " 0.01926356]\n",
      "Latent recipe 2 : ['salt' 'onions' 'butter' 'pepper' 'all-purpose flour' 'eggs'\n",
      " 'ground black pepper'] [0.0600508  0.03406605 0.0317822  0.03066979 0.02113836 0.01985844\n",
      " 0.01950831]\n",
      "Latent recipe 3 : ['extra-virgin olive oil' 'salt' 'olive oil' 'garlic cloves'\n",
      " 'fresh lemon juice' 'ground black pepper' 'cooking spray'] [0.0520514  0.04524631 0.04113407 0.03883535 0.02944717 0.02795091\n",
      " 0.02015159]\n",
      "Latent recipe 4 : ['sugar' 'salt' 'soy sauce' 'all-purpose flour' 'water' 'large eggs'\n",
      " 'sesame oil'] [0.05208485 0.04191444 0.03089046 0.02727914 0.02409433 0.01860448\n",
      " 0.01814154]\n",
      "Latent recipe 5 : ['olive oil' 'garlic cloves' 'salt' 'dry white wine' 'onions'\n",
      " 'unsalted butter' 'ground black pepper'] [0.04546771 0.03528099 0.03269677 0.02609606 0.02503035 0.02444283\n",
      " 0.02206138]\n",
      "Latent recipe 6 : ['salt' 'fresh lime juice' 'jalapeno chilies' 'chopped cilantro fresh'\n",
      " 'garlic cloves' 'ground cumin' 'sugar'] [0.03947702 0.02987951 0.02968866 0.02903029 0.02317072 0.021697\n",
      " 0.01977708]\n",
      "Latent recipe 7 : ['salt' 'onions' 'garlic' 'water' 'oil' 'ground cumin' 'ginger'] [0.04736557 0.04340578 0.02780739 0.02736226 0.01885483 0.01841662\n",
      " 0.01723119]\n",
      "Latent recipe 8 : ['chili powder' 'onions' 'fish sauce' 'garlic' 'sour cream' 'salt' 'salsa'] [0.02299395 0.02278736 0.02254706 0.02163132 0.02060036 0.01976436\n",
      " 0.01741256]\n",
      "\n",
      "N component = 9\n"
     ]
    },
    {
     "data": {
      "image/png": "[encoded data removed]",
      "text/plain": [
       "<Figure size 432x288 with 1 Axes>"
      ]
     },
     "metadata": {
      "needs_background": "light"
     },
     "output_type": "display_data"
    },
    {
     "name": "stdout",
     "output_type": "stream",
     "text": [
      "Top ingredients for each \"latent recipe\":\n",
      "Latent recipe 1 : ['salt' 'jalapeno chilies' 'ground cumin' 'chili powder' 'olive oil'\n",
      " 'garlic' 'chopped cilantro fresh'] [0.04604476 0.03403838 0.03258833 0.0285088  0.02720416 0.02462195\n",
      " 0.02372851]\n",
      "Latent recipe 2 : ['onions' 'salt' 'water' 'carrots' 'garlic' 'pepper' 'bay leaves'] [0.07078117 0.04890687 0.03864583 0.03688541 0.03080131 0.02527991\n",
      " 0.0198365 ]\n",
      "Latent recipe 3 : ['sugar' 'salt' 'all-purpose flour' 'baking powder' 'butter'\n",
      " 'unsalted butter' 'large eggs'] [0.06272601 0.05419664 0.04430464 0.02947451 0.02883961 0.02745909\n",
      " 0.02444742]\n",
      "Latent recipe 4 : ['salt' 'onions' 'ground cumin' 'water' 'ground turmeric' 'garlic'\n",
      " 'cumin seed'] [0.04795166 0.03695525 0.02274748 0.02074259 0.01979244 0.01968656\n",
      " 0.01950049]\n",
      "Latent recipe 5 : ['soy sauce' 'sugar' 'garlic' 'sesame oil' 'water' 'green onions' 'salt'] [0.04736344 0.03007023 0.02578318 0.02547871 0.02191764 0.02146784\n",
      " 0.01973877]\n",
      "Latent recipe 6 : ['olive oil' 'salt' 'garlic' 'grated parmesan cheese' 'pepper' 'onions'\n",
      " 'dried oregano'] [0.07028554 0.04518256 0.03971542 0.03375119 0.02540544 0.02453446\n",
      " 0.02086372]\n",
      "Latent recipe 7 : ['sour cream' 'shredded cheddar cheese' 'salsa' 'flour tortillas' 'onions'\n",
      " 'ground beef' 'green onions'] [0.06263095 0.03849502 0.03696429 0.03132296 0.02499993 0.02342765\n",
      " 0.02202023]\n",
      "Latent recipe 8 : ['salt' 'all-purpose flour' 'butter' 'milk' 'large eggs'\n",
      " 'ground black pepper' 'pepper'] [0.06262102 0.04899818 0.04367369 0.0240849  0.02385647 0.02353052\n",
      " 0.02029763]\n",
      "Latent recipe 9 : ['extra-virgin olive oil' 'olive oil' 'garlic cloves' 'salt'\n",
      " 'ground black pepper' 'fresh lemon juice' 'dry white wine'] [0.0539404  0.0520281  0.04867652 0.03486847 0.02789993 0.02763032\n",
      " 0.02111899]\n",
      "\n",
      "N component = 10\n"
     ]
    },
    {
     "data": {
      "image/png": "[encoded data removed]",
      "text/plain": [
       "<Figure size 432x288 with 1 Axes>"
      ]
     },
     "metadata": {
      "needs_background": "light"
     },
     "output_type": "display_data"
    },
    {
     "name": "stdout",
     "output_type": "stream",
     "text": [
      "Top ingredients for each \"latent recipe\":\n",
      "Latent recipe 1 : ['fish sauce' 'sugar' 'lime' 'coconut milk' 'garlic' 'vegetable oil'\n",
      " 'water'] [0.03859042 0.02253492 0.02195236 0.0209932  0.01991358 0.01768975\n",
      " 0.0168615 ]\n",
      "Latent recipe 2 : ['salt' 'ground cumin' 'jalapeno chilies' 'chili powder' 'sour cream'\n",
      " 'avocado' 'onions'] [0.03572291 0.02595354 0.02524321 0.02523549 0.02080281 0.0206325\n",
      " 0.02057923]\n",
      "Latent recipe 3 : ['olive oil' 'garlic cloves' 'salt' 'onions' 'ground black pepper'\n",
      " 'carrots' 'kosher salt'] [0.04316916 0.03739283 0.02956887 0.028373   0.02526079 0.02521549\n",
      " 0.01948085]\n",
      "Latent recipe 4 : ['sugar' 'salt' 'all-purpose flour' 'butter' 'unsalted butter'\n",
      " 'vanilla extract' 'large eggs'] [0.05846758 0.04536412 0.03767924 0.03339037 0.02963502 0.02874652\n",
      " 0.02505984]\n",
      "Latent recipe 5 : ['salt' 'onions' 'ground cumin' 'ground turmeric' 'cumin seed'\n",
      " 'garam masala' 'water'] [0.0548381  0.04053525 0.03474649 0.02742724 0.02702266 0.02673368\n",
      " 0.02256571]\n",
      "Latent recipe 6 : ['sugar' 'garlic cloves' 'cooking spray' 'peeled fresh ginger'\n",
      " 'chopped cilantro fresh' 'fresh lime juice' 'fresh lemon juice'] [0.03191095 0.02930696 0.02764236 0.02753107 0.02640057 0.02477033\n",
      " 0.02293633]\n",
      "Latent recipe 7 : ['olive oil' 'salt' 'extra-virgin olive oil' 'garlic cloves'\n",
      " 'grated parmesan cheese' 'ground black pepper' 'garlic'] [0.05715778 0.0437842  0.02864947 0.02819584 0.02693021 0.02241612\n",
      " 0.02195875]\n",
      "Latent recipe 8 : ['salt' 'onions' 'pepper' 'garlic' 'butter' 'water' 'garlic powder'] [0.05602162 0.04786697 0.03272071 0.02688918 0.02502462 0.02343403\n",
      " 0.02264562]\n",
      "Latent recipe 9 : ['soy sauce' 'sesame oil' 'garlic' 'sugar' 'corn starch' 'salt' 'water'] [0.06225726 0.03520718 0.03051397 0.02896513 0.02794705 0.0278391\n",
      " 0.02635859]\n",
      "Latent recipe 10 : ['salt' 'all-purpose flour' 'milk' 'large eggs' 'eggs' 'butter' 'water'] [0.09153936 0.07339802 0.0511968  0.04646179 0.0407082  0.0346398\n",
      " 0.02389654]\n",
      "\n",
      "N component = 11\n"
     ]
    },
    {
     "data": {
      "image/png": "[encoded data removed]",
      "text/plain": [
       "<Figure size 432x288 with 1 Axes>"
      ]
     },
     "metadata": {
      "needs_background": "light"
     },
     "output_type": "display_data"
    },
    {
     "name": "stdout",
     "output_type": "stream",
     "text": [
      "Top ingredients for each \"latent recipe\":\n",
      "Latent recipe 1 : ['salt' 'chili powder' 'sour cream' 'ground cumin' 'onions' 'salsa'\n",
      " 'garlic'] [0.03153724 0.03077508 0.02848218 0.0263752  0.02363897 0.02068425\n",
      " 0.0196772 ]\n",
      "Latent recipe 2 : ['olive oil' 'salt' 'garlic' 'grated parmesan cheese' 'onions' 'pepper'\n",
      " 'dried oregano'] [0.04910262 0.04632918 0.0405223  0.03895555 0.03241682 0.03190586\n",
      " 0.01741185]\n",
      "Latent recipe 3 : ['salt' 'onions' 'ground cumin' 'garlic' 'ground turmeric' 'water'\n",
      " 'garam masala'] [0.04845298 0.04080242 0.02393153 0.02246565 0.02158308 0.02143772\n",
      " 0.0210373 ]\n",
      "Latent recipe 4 : ['salt' 'olive oil' 'garlic cloves' 'cooking spray' 'ground black pepper'\n",
      " 'purple onion' 'fresh lemon juice'] [0.06463317 0.0559286  0.03921562 0.03742962 0.02411551 0.02320975\n",
      " 0.02226331]\n",
      "Latent recipe 5 : ['onions' 'salt' 'water' 'carrots' 'garlic' 'pepper' 'ground black pepper'] [0.05498463 0.04564166 0.02873751 0.02634772 0.02532141 0.02009886\n",
      " 0.01807529]\n",
      "Latent recipe 6 : ['sugar' 'salt' 'vanilla extract' 'unsalted butter' 'all-purpose flour'\n",
      " 'butter' 'large eggs'] [0.06104831 0.03572684 0.03286773 0.02881069 0.02573178 0.02554463\n",
      " 0.02335229]\n",
      "Latent recipe 7 : ['fresh lime juice' 'garlic cloves' 'chopped cilantro fresh'\n",
      " 'jalapeno chilies' 'vegetable oil' 'salt' 'kosher salt'] [0.04226689 0.03258516 0.02999084 0.02682596 0.02519575 0.02449302\n",
      " 0.02116793]\n",
      "Latent recipe 8 : ['mayonaise' 'fish sauce' 'water' 'cucumber' 'sugar' 'peanuts' 'carrots'] [0.03957826 0.02777273 0.01621367 0.01561398 0.01463805 0.01463145\n",
      " 0.01445054]\n",
      "Latent recipe 9 : ['salt' 'all-purpose flour' 'eggs' 'milk' 'butter' 'baking powder'\n",
      " 'large eggs'] [0.08753964 0.08163029 0.05195867 0.04981788 0.0456711  0.03500582\n",
      " 0.03236803]\n",
      "Latent recipe 10 : ['extra-virgin olive oil' 'olive oil' 'garlic cloves' 'dry white wine'\n",
      " 'ground black pepper' 'salt' 'kosher salt'] [0.05249487 0.04703896 0.0369895  0.02904503 0.02896473 0.02709471\n",
      " 0.02445011]\n",
      "Latent recipe 11 : ['soy sauce' 'sesame oil' 'sugar' 'garlic' 'water' 'corn starch'\n",
      " 'green onions'] [0.06226704 0.03349578 0.03076924 0.02918307 0.02682532 0.02562308\n",
      " 0.02521463]\n",
      "\n",
      "N component = 12\n"
     ]
    },
    {
     "data": {
      "image/png": "[encoded data removed]",
      "text/plain": [
       "<Figure size 432x288 with 1 Axes>"
      ]
     },
     "metadata": {
      "needs_background": "light"
     },
     "output_type": "display_data"
    },
    {
     "name": "stdout",
     "output_type": "stream",
     "text": [
      "Top ingredients for each \"latent recipe\":\n",
      "Latent recipe 1 : ['salt' 'onions' 'green chilies' 'cumin seed' 'garam masala' 'oil'\n",
      " 'ground turmeric'] [0.05491767 0.0437082  0.03288911 0.0308902  0.0298577  0.02717738\n",
      " 0.02645736]\n",
      "Latent recipe 2 : ['sugar' 'vanilla extract' 'butter' 'water' 'ground cinnamon' 'salt'\n",
      " 'granulated sugar'] [0.06475524 0.04110896 0.0289538  0.02372737 0.02263532 0.02240807\n",
      " 0.0173194 ]\n",
      "Latent recipe 3 : ['salt' 'pepper' 'onions' 'oil' 'water' 'garlic' 'eggs'] [0.08529896 0.06918805 0.05479131 0.0383952  0.03673572 0.03497609\n",
      " 0.02872085]\n",
      "Latent recipe 4 : ['fish sauce' 'lime' 'coconut milk' 'sugar' 'shallots' 'fresh lime juice'\n",
      " 'lime juice'] [0.0559481  0.02997529 0.02737541 0.02484596 0.02433247 0.02279429\n",
      " 0.01948205]\n",
      "Latent recipe 5 : ['olive oil' 'extra-virgin olive oil' 'salt' 'garlic cloves'\n",
      " 'ground black pepper' 'garlic' 'fresh lemon juice'] [0.06368078 0.04520176 0.04315957 0.03419943 0.02710703 0.01899621\n",
      " 0.01893123]\n",
      "Latent recipe 6 : ['salt' 'ground cumin' 'onions' 'olive oil' 'ground coriander'\n",
      " 'cayenne pepper' 'garlic cloves'] [0.03435229 0.0336202  0.02703898 0.0269902  0.02201569 0.0202639\n",
      " 0.01995803]\n",
      "Latent recipe 7 : ['onions' 'carrots' 'garlic cloves' 'olive oil' 'salt' 'water'\n",
      " 'ground black pepper'] [0.04117086 0.03709112 0.03561475 0.0349374  0.02827277 0.02802678\n",
      " 0.02043066]\n",
      "Latent recipe 8 : ['salt' 'onions' 'butter' 'garlic' 'pepper' 'olive oil'\n",
      " 'ground black pepper'] [0.0449366  0.03243876 0.0264181  0.02597351 0.02288981 0.02095506\n",
      " 0.01957298]\n",
      "Latent recipe 9 : ['all-purpose flour' 'salt' 'large eggs' 'milk' 'baking powder'\n",
      " 'unsalted butter' 'butter'] [0.09851129 0.08545758 0.06431457 0.04477297 0.0442799  0.04171149\n",
      " 0.03706225]\n",
      "Latent recipe 10 : ['sour cream' 'chili powder' 'onions' 'salsa' 'salt' 'garlic'\n",
      " 'black beans'] [0.03600758 0.03314691 0.02580656 0.02527533 0.02487248 0.0230753\n",
      " 0.02101736]\n",
      "Latent recipe 11 : ['salt' 'chopped cilantro fresh' 'jalapeno chilies' 'garlic cloves'\n",
      " 'fresh lime juice' 'purple onion' 'avocado'] [0.05048294 0.03469127 0.03305324 0.02854596 0.02721599 0.02596906\n",
      " 0.02120177]\n",
      "Latent recipe 12 : ['soy sauce' 'sesame oil' 'sugar' 'corn starch' 'garlic' 'green onions'\n",
      " 'scallions'] [0.05835321 0.03407544 0.02958555 0.02694251 0.02630813 0.02581067\n",
      " 0.02525981]\n",
      "\n",
      "N component = 13\n"
     ]
    },
    {
     "data": {
      "image/png": "[encoded data removed]",
      "text/plain": [
       "<Figure size 432x288 with 1 Axes>"
      ]
     },
     "metadata": {
      "needs_background": "light"
     },
     "output_type": "display_data"
    },
    {
     "name": "stdout",
     "output_type": "stream",
     "text": [
      "Top ingredients for each \"latent recipe\":\n",
      "Latent recipe 1 : ['ground cumin' 'salt' 'garlic cloves' 'olive oil' 'onions' 'kosher salt'\n",
      " 'ground black pepper'] [0.03693866 0.0339546  0.03080856 0.02766504 0.02100285 0.02047612\n",
      " 0.02011996]\n",
      "Latent recipe 2 : ['onions' 'salt' 'carrots' 'water' 'garlic' 'pepper' 'olive oil'] [0.06035998 0.04823395 0.03141851 0.02849334 0.02792449 0.02450109\n",
      " 0.02255081]\n",
      "Latent recipe 3 : ['soy sauce' 'sugar' 'garlic' 'sesame oil' 'water' 'green onions' 'salt'] [0.04644854 0.028839   0.02782852 0.02498632 0.02246183 0.02146197\n",
      " 0.02088936]\n",
      "Latent recipe 4 : ['ground beef' 'sour cream' 'shredded cheddar cheese' 'mayonaise'\n",
      " 'green onions' 'worcestershire sauce' 'onions'] [0.03627417 0.03575383 0.03153011 0.0288903  0.02818495 0.02246142\n",
      " 0.0217994 ]\n",
      "Latent recipe 5 : ['lemon' 'orange' 'sugar' 'orange juice' 'fine sea salt' 'water'\n",
      " 'sea salt'] [0.10350179 0.03387996 0.032319   0.03225789 0.02720086 0.02069983\n",
      " 0.02019216]\n",
      "Latent recipe 6 : ['large eggs' 'unsalted butter' 'all-purpose flour' 'salt' 'sugar'\n",
      " 'baking powder' 'butter'] [0.09998731 0.0896458  0.08351578 0.07339698 0.03490486 0.03230592\n",
      " 0.02903651]\n",
      "Latent recipe 7 : ['sugar' 'vanilla extract' 'butter' 'water' 'egg yolks' 'powdered sugar'\n",
      " 'confectioners sugar'] [0.07592466 0.04711538 0.03808726 0.02298135 0.02020823 0.01858521\n",
      " 0.01788023]\n",
      "Latent recipe 8 : ['salt' 'onions' 'oil' 'garam masala' 'ginger' 'cumin seed' 'water'] [0.05714361 0.04431196 0.03293675 0.02613    0.02417444 0.02412179\n",
      " 0.02365133]\n",
      "Latent recipe 9 : ['salt' 'garlic cloves' 'olive oil' 'extra-virgin olive oil'\n",
      " 'ground black pepper' 'cooking spray' 'fresh lemon juice'] [0.05095803 0.04629933 0.04556446 0.04435492 0.02991849 0.02922186\n",
      " 0.02916482]\n",
      "Latent recipe 10 : ['salt' 'eggs' 'all-purpose flour' 'milk' 'flour' 'butter' 'vegetable oil'] [0.09601977 0.08344018 0.06103292 0.05440378 0.04267845 0.04015126\n",
      " 0.0285891 ]\n",
      "Latent recipe 11 : ['water' 'vegetable oil cooking spray' 'coconut milk' 'salt' 'mango'\n",
      " 'cucumber' 'coconut oil'] [0.05252629 0.03387884 0.03309275 0.03196823 0.02655548 0.02334924\n",
      " 0.02152423]\n",
      "Latent recipe 12 : ['olive oil' 'salt' 'grated parmesan cheese' 'garlic' 'onions'\n",
      " 'ground black pepper' 'garlic cloves'] [0.0577283  0.03865713 0.03844847 0.03315082 0.0214173  0.02072476\n",
      " 0.01839022]\n",
      "Latent recipe 13 : ['salt' 'jalapeno chilies' 'chili powder' 'garlic' 'ground cumin'\n",
      " 'olive oil' 'avocado'] [0.04319355 0.03196564 0.02790287 0.0261831  0.02543842 0.02421444\n",
      " 0.02394473]\n",
      "\n",
      "N component = 14\n"
     ]
    },
    {
     "data": {
      "image/png": "[encoded data removed]",
      "text/plain": [
       "<Figure size 432x288 with 1 Axes>"
      ]
     },
     "metadata": {
      "needs_background": "light"
     },
     "output_type": "display_data"
    },
    {
     "name": "stdout",
     "output_type": "stream",
     "text": [
      "Top ingredients for each \"latent recipe\":\n",
      "Latent recipe 1 : ['olive oil' 'garlic' 'salt' 'onions' 'ground black pepper'\n",
      " 'dried oregano' 'tomato paste'] [0.0698225  0.05433102 0.05051927 0.04436304 0.03232487 0.02888305\n",
      " 0.0225099 ]\n",
      "Latent recipe 2 : ['butter' 'sugar' 'ground cinnamon' 'brown sugar' 'eggs' 'vanilla extract'\n",
      " 'white sugar'] [0.06229698 0.03978653 0.03787917 0.02752482 0.02634452 0.02540737\n",
      " 0.02477574]\n",
      "Latent recipe 3 : ['soy sauce' 'sesame oil' 'sugar' 'garlic' 'water' 'corn starch'\n",
      " 'green onions'] [0.06237601 0.03572133 0.03020598 0.0281401  0.02639607 0.02615945\n",
      " 0.02595481]\n",
      "Latent recipe 4 : ['butter' 'olive oil' 'dry white wine' 'salt' 'shallots' 'unsalted butter'\n",
      " 'garlic cloves'] [0.05080618 0.04549656 0.04416204 0.04336328 0.02631812 0.02402219\n",
      " 0.02228859]\n",
      "Latent recipe 5 : ['fish sauce' 'sugar' 'fresh lime juice' 'coconut milk' 'garlic' 'lime'\n",
      " 'water'] [0.04292119 0.02494049 0.02384969 0.02095359 0.02059512 0.0203348\n",
      " 0.01759152]\n",
      "Latent recipe 6 : ['onions' 'salt' 'water' 'pepper' 'carrots' 'garlic' 'butter'] [0.06632411 0.05622366 0.03344792 0.03126616 0.02718532 0.02704986\n",
      " 0.02047764]\n",
      "Latent recipe 7 : ['salt' 'cooking spray' 'garlic cloves' 'olive oil' 'chopped onion'\n",
      " 'black pepper' 'ground red pepper'] [0.06525701 0.05482488 0.04592451 0.03085721 0.02822588 0.02092349\n",
      " 0.02092129]\n",
      "Latent recipe 8 : ['salt' 'eggs' 'milk' 'all-purpose flour' 'flour' 'baking powder' 'sugar'] [0.11372574 0.08755974 0.08224135 0.07992194 0.04972251 0.0438089\n",
      " 0.03660419]\n",
      "Latent recipe 9 : ['extra-virgin olive oil' 'garlic cloves' 'olive oil' 'salt'\n",
      " 'ground black pepper' 'fresh lemon juice' 'kosher salt'] [0.08684551 0.04689307 0.04684264 0.0337048  0.03048591 0.0251362\n",
      " 0.02339275]\n",
      "Latent recipe 10 : ['salt' 'chili powder' 'ground cumin' 'jalapeno chilies' 'avocado'\n",
      " 'sour cream' 'garlic'] [0.03515606 0.02847577 0.02746482 0.02651827 0.02416214 0.02408211\n",
      " 0.02089995]\n",
      "Latent recipe 11 : ['kosher salt' 'garlic powder' 'ground black pepper' 'mayonaise'\n",
      " 'cayenne pepper' 'paprika' 'onion powder'] [0.05896551 0.05448784 0.04344107 0.04040207 0.03814563 0.03688463\n",
      " 0.02917257]\n",
      "Latent recipe 12 : ['large eggs' 'unsalted butter' 'sugar' 'all-purpose flour' 'salt'\n",
      " 'vanilla extract' 'whole milk'] [0.07798032 0.06746317 0.06704041 0.0572231  0.05501358 0.02605499\n",
      " 0.025783  ]\n",
      "Latent recipe 13 : ['salt' 'onions' 'ground cumin' 'ground turmeric' 'water' 'cumin seed'\n",
      " 'garam masala'] [0.04814995 0.03753035 0.02674842 0.02201708 0.02185523 0.0216923\n",
      " 0.02146031]\n",
      "Latent recipe 14 : ['grated parmesan cheese' 'olive oil' 'shredded mozzarella cheese'\n",
      " 'pepper' 'mozzarella cheese' 'salt' 'fresh basil'] [0.05474405 0.03312865 0.02578088 0.0254934  0.02540021 0.02415675\n",
      " 0.02247759]\n",
      "\n",
      "N component = 15\n"
     ]
    },
    {
     "data": {
      "image/png": "[encoded data removed]",
      "text/plain": [
       "<Figure size 432x288 with 1 Axes>"
      ]
     },
     "metadata": {
      "needs_background": "light"
     },
     "output_type": "display_data"
    },
    {
     "name": "stdout",
     "output_type": "stream",
     "text": [
      "Top ingredients for each \"latent recipe\":\n",
      "Latent recipe 1 : ['fish sauce' 'sugar' 'garlic' 'coconut milk' 'fresh lime juice'\n",
      " 'shallots' 'vegetable oil'] [0.04384512 0.02536049 0.02137916 0.01988719 0.01931549 0.01875952\n",
      " 0.01777995]\n",
      "Latent recipe 2 : ['salt' 'cayenne pepper' 'paprika' 'garlic powder' 'onions'\n",
      " 'worcestershire sauce' 'green bell pepper'] [0.03498292 0.03483038 0.03318052 0.02975336 0.02548264 0.02498361\n",
      " 0.02450401]\n",
      "Latent recipe 3 : ['salt' 'onions' 'water' 'pepper' 'garlic' 'potatoes' 'carrots'] [0.09208356 0.09181725 0.06597459 0.06264623 0.03386475 0.03310963\n",
      " 0.02653267]\n",
      "Latent recipe 4 : ['sugar' 'cucumber' 'water' 'salt' 'lemon juice' 'lemon' 'fresh mint'] [0.05082741 0.03457919 0.03387263 0.02578703 0.02442665 0.02175433\n",
      " 0.01729453]\n",
      "Latent recipe 5 : ['unsalted butter' 'salt' 'ground black pepper' 'olive oil' 'butter'\n",
      " 'garlic cloves' 'dry white wine'] [0.04823365 0.0346638  0.02779016 0.02775443 0.02735112 0.02545089\n",
      " 0.02478838]\n",
      "Latent recipe 6 : ['soy sauce' 'sesame oil' 'corn starch' 'green onions' 'garlic' 'sugar'\n",
      " 'scallions'] [0.06883731 0.04026519 0.03269154 0.02950421 0.02948181 0.02853381\n",
      " 0.02478157]\n",
      "Latent recipe 7 : ['olive oil' 'garlic' 'onions' 'salt' 'ground black pepper' 'carrots'\n",
      " 'pepper'] [0.07727933 0.05994977 0.04934979 0.04226078 0.0261269  0.02564258\n",
      " 0.01904178]\n",
      "Latent recipe 8 : ['salt' 'chili powder' 'ground cumin' 'jalapeno chilies' 'sour cream'\n",
      " 'avocado' 'garlic'] [0.03493244 0.02849486 0.02846019 0.02811406 0.02511417 0.02239788\n",
      " 0.02090277]\n",
      "Latent recipe 9 : ['sugar' 'salt' 'unsalted butter' 'large eggs' 'vanilla extract'\n",
      " 'all-purpose flour' 'butter'] [0.0627096  0.04406246 0.04181719 0.03930216 0.03827215 0.0362725\n",
      " 0.02566733]\n",
      "Latent recipe 10 : ['grated parmesan cheese' 'salt' 'olive oil' 'pepper' 'dried basil'\n",
      " 'dried oregano' 'garlic'] [0.04018898 0.0384933  0.02778388 0.02435769 0.02104502 0.02059782\n",
      " 0.01816723]\n",
      "Latent recipe 11 : ['salt' 'onions' 'ground cumin' 'ground turmeric' 'cumin seed'\n",
      " 'garam masala' 'water'] [0.04801665 0.03700257 0.02804952 0.02414599 0.02378981 0.02353539\n",
      " 0.02088941]\n",
      "Latent recipe 12 : ['ground allspice' 'orange juice' 'white vinegar' 'ground cinnamon'\n",
      " 'orange' 'apple cider vinegar' 'sugar'] [0.03369983 0.03129314 0.0269621  0.02661224 0.02629216 0.02481359\n",
      " 0.02480336]\n",
      "Latent recipe 13 : ['salt' 'eggs' 'all-purpose flour' 'milk' 'butter' 'baking powder' 'flour'] [0.09140152 0.08804113 0.07848929 0.06997577 0.05435498 0.04143465\n",
      " 0.03924496]\n",
      "Latent recipe 14 : ['olive oil' 'salt' 'garlic cloves' 'fresh lemon juice'\n",
      " 'extra-virgin olive oil' 'ground black pepper' 'cooking spray'] [0.07017535 0.05790109 0.05482977 0.02557281 0.02494113 0.02477826\n",
      " 0.02437903]\n",
      "Latent recipe 15 : ['extra-virgin olive oil' 'sea salt' 'freshly ground pepper' 'coarse salt'\n",
      " 'dijon mustard' 'red wine vinegar' 'kosher salt'] [0.08969485 0.0774328  0.05222496 0.04761505 0.03446498 0.03206881\n",
      " 0.02918031]\n",
      "\n",
      "N component = 16\n"
     ]
    },
    {
     "data": {
      "image/png": "[encoded data removed]",
      "text/plain": [
       "<Figure size 432x288 with 1 Axes>"
      ]
     },
     "metadata": {
      "needs_background": "light"
     },
     "output_type": "display_data"
    },
    {
     "name": "stdout",
     "output_type": "stream",
     "text": [
      "Top ingredients for each \"latent recipe\":\n",
      "Latent recipe 1 : ['salt' 'onions' 'pepper' 'carrots' 'eggs' 'water' 'potatoes'] [0.07453963 0.07425155 0.05242858 0.04948413 0.04859026 0.0335476\n",
      " 0.02800432]\n",
      "Latent recipe 2 : ['water' 'cumin seed' 'salt' 'onions' 'black peppercorns' 'vegetable oil'\n",
      " 'clove'] [0.03838619 0.0347258  0.0287956  0.02820892 0.02777585 0.02467858\n",
      " 0.02128746]\n",
      "Latent recipe 3 : ['soy sauce' 'sesame oil' 'garlic' 'corn starch' 'green onions' 'sugar'\n",
      " 'water'] [0.06504883 0.03735272 0.03627477 0.03467863 0.02743344 0.02641467\n",
      " 0.02624813]\n",
      "Latent recipe 4 : ['scallions' 'soy sauce' 'mirin' 'rice vinegar' 'sugar' 'sesame seeds'\n",
      " 'sake'] [0.05276091 0.04844686 0.03775367 0.03535412 0.03418834 0.02692371\n",
      " 0.02589613]\n",
      "Latent recipe 5 : ['salt' 'onions' 'green bell pepper' 'garlic' 'cayenne pepper'\n",
      " 'garlic powder' 'dried thyme'] [0.04547802 0.03559158 0.02595176 0.02261624 0.02256228 0.02246499\n",
      " 0.02071044]\n",
      "Latent recipe 6 : ['salt' 'sugar' 'all-purpose flour' 'baking powder' 'butter' 'large eggs'\n",
      " 'unsalted butter'] [0.06109525 0.06032982 0.05415017 0.0362999  0.03437981 0.02878257\n",
      " 0.02824189]\n",
      "Latent recipe 7 : ['salt' 'jalapeno chilies' 'ground cumin' 'olive oil' 'lime' 'garlic'\n",
      " 'avocado'] [0.05378382 0.04662606 0.03238373 0.03184405 0.03161939 0.03084483\n",
      " 0.02986933]\n",
      "Latent recipe 8 : ['olive oil' 'extra-virgin olive oil' 'garlic cloves' 'salt'\n",
      " 'ground black pepper' 'dry white wine' 'flat leaf parsley'] [0.05197892 0.05165634 0.05163933 0.03532479 0.02858588 0.02660725\n",
      " 0.02303935]\n",
      "Latent recipe 9 : ['sour cream' 'salsa' 'chili powder' 'flour tortillas'\n",
      " 'shredded cheddar cheese' 'black beans' 'onions'] [0.04364008 0.03605084 0.03039507 0.02886156 0.02878874 0.02623838\n",
      " 0.02370017]\n",
      "Latent recipe 10 : ['olive oil' 'grated parmesan cheese' 'garlic' 'salt' 'fresh basil'\n",
      " 'onions' 'pepper'] [0.06959237 0.04716382 0.04445626 0.03930351 0.02051937 0.01951273\n",
      " 0.01948711]\n",
      "Latent recipe 11 : ['salt' 'onions' 'ground cumin' 'oil' 'garam masala' 'garlic'\n",
      " 'ground turmeric'] [0.05468772 0.04417598 0.03246431 0.03021533 0.02878133 0.02423959\n",
      " 0.02174742]\n",
      "Latent recipe 12 : ['fish sauce' 'sugar' 'shallots' 'fresh lime juice' 'lime' 'coconut milk'\n",
      " 'vegetable oil'] [0.0528819  0.02564321 0.02298969 0.02210685 0.02181459 0.01987987\n",
      " 0.01958433]\n",
      "Latent recipe 13 : ['sugar' 'orange' 'water' 'lemon' 'apples' 'cold water'\n",
      " 'sweetened condensed milk'] [0.06505929 0.04009781 0.03937511 0.02445749 0.01864079 0.0175072\n",
      " 0.01746405]\n",
      "Latent recipe 14 : ['butter' 'salt' 'all-purpose flour' 'unsalted butter' 'large eggs' 'milk'\n",
      " 'ground black pepper'] [0.06370112 0.05680804 0.05605373 0.05452188 0.0434472  0.02941109\n",
      " 0.02138617]\n",
      "Latent recipe 15 : ['cooking spray' 'salt' 'garlic cloves' 'chopped onion'\n",
      " 'peeled fresh ginger' 'water' 'ground red pepper'] [0.06545404 0.05401746 0.04621121 0.03293363 0.03090592 0.02164655\n",
      " 0.0208114 ]\n",
      "Latent recipe 16 : ['olive oil' 'purple onion' 'salt' 'lemon juice' 'red wine vinegar'\n",
      " 'coarse salt' 'extra-virgin olive oil'] [0.0481368  0.0454903  0.04073111 0.03775308 0.02784797 0.02564857\n",
      " 0.02467659]\n",
      "\n",
      "N component = 17\n"
     ]
    },
    {
     "data": {
      "image/png": "[encoded data removed]",
      "text/plain": [
       "<Figure size 432x288 with 1 Axes>"
      ]
     },
     "metadata": {
      "needs_background": "light"
     },
     "output_type": "display_data"
    },
    {
     "name": "stdout",
     "output_type": "stream",
     "text": [
      "Top ingredients for each \"latent recipe\":\n",
      "Latent recipe 1 : ['salt' 'onions' 'oil' 'cumin seed' 'water' 'ground turmeric'\n",
      " 'garam masala'] [0.05799223 0.04350082 0.03611031 0.03549047 0.02653847 0.02604159\n",
      " 0.02598025]\n",
      "Latent recipe 2 : ['ground cumin' 'olive oil' 'salt' 'onions' 'ground coriander' 'garlic'\n",
      " 'cayenne pepper'] [0.0402633  0.03547641 0.03479094 0.0297167  0.0268411  0.02671347\n",
      " 0.0211099 ]\n",
      "Latent recipe 3 : ['extra-virgin olive oil' 'purple onion' 'fresh lemon juice' 'salt'\n",
      " 'olive oil' 'garlic cloves' 'red wine vinegar'] [0.05983237 0.05652779 0.04991208 0.0430393  0.04056221 0.03743919\n",
      " 0.0361161 ]\n",
      "Latent recipe 4 : ['salt' 'butter' 'garlic powder' 'pepper' 'paprika' 'ground black pepper'\n",
      " 'mayonaise'] [0.055842   0.04773372 0.04303858 0.03209129 0.02548053 0.02426734\n",
      " 0.02204274]\n",
      "Latent recipe 5 : ['salt' 'olive oil' 'potatoes' 'onions' 'carrots' 'pepper' 'butter'] [0.066515   0.04156443 0.03844854 0.03818783 0.0290829  0.02714705\n",
      " 0.02667902]\n",
      "Latent recipe 6 : ['soy sauce' 'garlic' 'salt' 'sesame oil' 'corn starch' 'water' 'sugar'] [0.06322914 0.04102161 0.03589459 0.03552013 0.03192223 0.03137799\n",
      " 0.02967189]\n",
      "Latent recipe 7 : ['soy sauce' 'scallions' 'rice vinegar' 'carrots' 'mirin' 'sugar'\n",
      " 'sesame oil'] [0.04638365 0.03669149 0.0349707  0.03388997 0.0254344  0.02421921\n",
      " 0.02208609]\n",
      "Latent recipe 8 : ['all-purpose flour' 'salt' 'baking powder' 'large eggs' 'unsalted butter'\n",
      " 'sugar' 'baking soda'] [0.13514148 0.09611441 0.07086786 0.05946168 0.0555502  0.04358368\n",
      " 0.03841164]\n",
      "Latent recipe 9 : ['warm water' 'low sodium soy sauce' 'peeled fresh ginger' 'sugar'\n",
      " 'brown sugar' 'cider vinegar' 'crushed red pepper'] [0.04821497 0.03551492 0.02997641 0.02964879 0.02693498 0.02538832\n",
      " 0.02334311]\n",
      "Latent recipe 10 : ['sour cream' 'onions' 'salsa' 'chili powder' 'shredded cheddar cheese'\n",
      " 'flour tortillas' 'black beans'] [0.04391958 0.03371551 0.03262865 0.03220486 0.02931232 0.02802389\n",
      " 0.02250851]\n",
      "Latent recipe 11 : ['fish sauce' 'coconut milk' 'shallots' 'fresh lime juice' 'lime' 'sugar'\n",
      " 'garlic'] [0.06175607 0.03373429 0.02844056 0.02796834 0.02734196 0.02519985\n",
      " 0.02129414]\n",
      "Latent recipe 12 : ['salt' 'jalapeno chilies' 'garlic' 'olive oil' 'avocado' 'lime'\n",
      " 'ground cumin'] [0.04876205 0.0423753  0.03208149 0.02796058 0.0271498  0.02419515\n",
      " 0.02336504]\n",
      "Latent recipe 13 : ['sugar' 'unsalted butter' 'large eggs' 'vanilla extract' 'salt'\n",
      " 'large egg yolks' 'water'] [0.07440221 0.03753477 0.02882787 0.02746506 0.02654801 0.02583916\n",
      " 0.02455006]\n",
      "Latent recipe 14 : ['olive oil' 'salt' 'grated parmesan cheese' 'garlic' 'garlic cloves'\n",
      " 'ground black pepper' 'extra-virgin olive oil'] [0.06046347 0.04052407 0.03732788 0.03319344 0.02261695 0.02185912\n",
      " 0.02055364]\n",
      "Latent recipe 15 : ['chopped onion' 'salt' 'cooking spray' 'garlic cloves' 'water'\n",
      " 'ground red pepper' 'fat free less sodium chicken broth'] [0.07685308 0.05911467 0.05146107 0.0434407  0.03451649 0.02697375\n",
      " 0.0248662 ]\n",
      "Latent recipe 16 : ['butter' 'eggs' 'white sugar' 'salt' 'milk' 'sugar' 'vanilla extract'] [0.07947847 0.06828333 0.04064476 0.04010719 0.03842351 0.0353039\n",
      " 0.03463083]\n",
      "Latent recipe 17 : ['onions' 'salt' 'olive oil' 'dry white wine' 'garlic cloves' 'garlic'\n",
      " 'water'] [0.05078246 0.03679405 0.0303741  0.02588253 0.02351225 0.0231102\n",
      " 0.02140185]\n",
      "\n",
      "N component = 18\n"
     ]
    },
    {
     "data": {
      "image/png": "[encoded data removed]",
      "text/plain": [
       "<Figure size 432x288 with 1 Axes>"
      ]
     },
     "metadata": {
      "needs_background": "light"
     },
     "output_type": "display_data"
    },
    {
     "name": "stdout",
     "output_type": "stream",
     "text": [
      "Top ingredients for each \"latent recipe\":\n",
      "Latent recipe 1 : ['butter' 'salt' 'fresh parsley' 'olive oil' 'pepper' 'garlic'\n",
      " 'grated parmesan cheese'] [0.07258716 0.05703098 0.03717569 0.03583905 0.03447252 0.03025794\n",
      " 0.02510192]\n",
      "Latent recipe 2 : ['garlic powder' 'mayonaise' 'cayenne pepper' 'paprika' 'salt'\n",
      " 'ground black pepper' 'worcestershire sauce'] [0.05404248 0.05048879 0.04616376 0.04081248 0.03712662 0.0364435\n",
      " 0.03130646]\n",
      "Latent recipe 3 : ['fish sauce' 'lime' 'coconut milk' 'shallots' 'lime juice' 'garlic'\n",
      " 'lemongrass'] [0.04951419 0.04235595 0.03737868 0.02907103 0.02782765 0.02304032\n",
      " 0.02032952]\n",
      "Latent recipe 4 : ['large eggs' 'all-purpose flour' 'salt' 'unsalted butter' 'baking powder'\n",
      " 'buttermilk' 'sugar'] [0.12814552 0.11913325 0.09024613 0.05838565 0.05672315 0.04506854\n",
      " 0.04218187]\n",
      "Latent recipe 5 : ['soy sauce' 'rice vinegar' 'carrots' 'sugar' 'scallions' 'green onions'\n",
      " 'water'] [0.03945195 0.03166699 0.03109434 0.03061805 0.02963935 0.02365683\n",
      " 0.02197871]\n",
      "Latent recipe 6 : ['extra-virgin olive oil' 'garlic cloves' 'fresh lemon juice' 'olive oil'\n",
      " 'salt' 'ground black pepper' 'flat leaf parsley'] [0.0883442  0.05185903 0.04454422 0.04160542 0.03603217 0.03109996\n",
      " 0.01999736]\n",
      "Latent recipe 7 : ['sugar' 'vanilla extract' 'unsalted butter' 'granulated sugar'\n",
      " 'heavy cream' 'large egg yolks' 'water'] [0.0734148  0.04276005 0.03463085 0.02799402 0.02596249 0.02439593\n",
      " 0.01946764]\n",
      "Latent recipe 8 : ['olive oil' 'salt' 'purple onion' 'garlic' 'pepper' 'lemon juice'\n",
      " 'zucchini'] [0.08544052 0.05314502 0.04213682 0.0407139  0.03445289 0.02924692\n",
      " 0.02698843]\n",
      "Latent recipe 9 : ['garlic cloves' 'salt' 'chopped cilantro fresh' 'ground cumin'\n",
      " 'fresh lime juice' 'olive oil' 'cooking spray'] [0.05304341 0.05261769 0.05153718 0.04151464 0.03600957 0.02602091\n",
      " 0.02571794]\n",
      "Latent recipe 10 : ['salt' 'onions' 'garam masala' 'cumin seed' 'ground turmeric' 'tumeric'\n",
      " 'ground cumin'] [0.05085512 0.04390248 0.02925254 0.02840328 0.02790222 0.02239426\n",
      " 0.02236651]\n",
      "Latent recipe 11 : ['olive oil' 'grated parmesan cheese' 'salt' 'onions' 'garlic'\n",
      " 'dried oregano' 'tomato sauce'] [0.04318177 0.04029346 0.03679388 0.03089963 0.03036358 0.02345167\n",
      " 0.01904413]\n",
      "Latent recipe 12 : ['sour cream' 'chili powder' 'salt' 'onions' 'salsa' 'jalapeno chilies'\n",
      " 'avocado'] [0.0364714  0.03305114 0.02863788 0.02657761 0.02472667 0.02425169\n",
      " 0.0241155 ]\n",
      "Latent recipe 13 : ['dry white wine' 'unsalted butter' 'olive oil' 'salt' 'garlic cloves'\n",
      " 'shallots' 'ground black pepper'] [0.04194882 0.03727605 0.03724976 0.03300535 0.03224548 0.02600251\n",
      " 0.02312303]\n",
      "Latent recipe 14 : ['onions' 'salt' 'carrots' 'garlic' 'water' 'olive oil' 'pepper'] [0.07139614 0.04879038 0.03489441 0.03376754 0.02814834 0.02796776\n",
      " 0.02489767]\n",
      "Latent recipe 15 : ['ground cinnamon' 'ground ginger' 'raisins' 'ground cloves'\n",
      " 'ground allspice' 'orange' 'ground nutmeg'] [0.07155161 0.03155721 0.02912715 0.02853445 0.02799614 0.02730403\n",
      " 0.02610993]\n",
      "Latent recipe 16 : ['soy sauce' 'corn starch' 'sesame oil' 'garlic' 'green onions' 'sugar'\n",
      " 'water'] [0.07321231 0.04857608 0.04376335 0.03750375 0.03017182 0.0262421\n",
      " 0.02471772]\n",
      "Latent recipe 17 : ['oil' 'salt' 'water' 'sugar' 'pepper' 'cooking oil' 'onions'] [0.09115833 0.08602585 0.06438391 0.03788688 0.0375658  0.03641114\n",
      " 0.03627283]\n",
      "Latent recipe 18 : ['milk' 'eggs' 'salt' 'butter' 'all-purpose flour' 'sugar' 'flour'] [0.09060492 0.08930083 0.08051058 0.06656523 0.05867596 0.03652305\n",
      " 0.03630915]\n",
      "\n",
      "N component = 19\n"
     ]
    },
    {
     "data": {
      "image/png": "[encoded data removed]",
      "text/plain": [
       "<Figure size 432x288 with 1 Axes>"
      ]
     },
     "metadata": {
      "needs_background": "light"
     },
     "output_type": "display_data"
    },
    {
     "name": "stdout",
     "output_type": "stream",
     "text": [
      "Top ingredients for each \"latent recipe\":\n",
      "Latent recipe 1 : ['garlic powder' 'salt' 'paprika' 'cayenne pepper' 'onion powder'\n",
      " 'black pepper' 'ground black pepper'] [0.12089531 0.06398569 0.060495   0.05397806 0.04426959 0.03014432\n",
      " 0.02836126]\n",
      "Latent recipe 2 : ['butter' 'pepper' 'salt' 'onions' 'eggs' 'chicken broth' 'olive oil'] [0.09850543 0.09495575 0.09438608 0.0458203  0.03170118 0.02984613\n",
      " 0.02953286]\n",
      "Latent recipe 3 : ['sour cream' 'salsa' 'shredded cheddar cheese' 'flour tortillas'\n",
      " 'chili powder' 'black beans' 'green onions'] [0.06317975 0.04363281 0.03484329 0.03379997 0.02647138 0.02561792\n",
      " 0.02250705]\n",
      "Latent recipe 4 : ['mayonaise' 'worcestershire sauce' 'cracked black pepper' 'dijon mustard'\n",
      " 'hot sauce' 'cider vinegar' 'lemon juice'] [0.07901674 0.04489874 0.03061512 0.02957088 0.02890553 0.02783429\n",
      " 0.02767597]\n",
      "Latent recipe 5 : ['garlic cloves' 'olive oil' 'extra-virgin olive oil' 'salt'\n",
      " 'ground black pepper' 'dry white wine' 'fresh lemon juice'] [0.04960216 0.04843158 0.04649436 0.04050284 0.03107909 0.02935035\n",
      " 0.02344504]\n",
      "Latent recipe 6 : ['sugar' 'water' 'orange' 'orange juice' 'honey' 'fresh orange juice'\n",
      " 'lemon'] [0.09047685 0.03911185 0.03450971 0.02897368 0.02108001 0.02031909\n",
      " 0.01888832]\n",
      "Latent recipe 7 : ['salt' 'onions' 'cumin seed' 'garam masala' 'ground turmeric' 'oil'\n",
      " 'green chilies'] [0.0547444  0.03967687 0.03880988 0.02933808 0.02816165 0.0264152\n",
      " 0.02566264]\n",
      "Latent recipe 8 : ['sugar' 'vanilla extract' 'salt' 'butter' 'ground cinnamon'\n",
      " 'unsalted butter' 'granulated sugar'] [0.05344518 0.04476663 0.03419343 0.03152548 0.02804275 0.02747427\n",
      " 0.02338655]\n",
      "Latent recipe 9 : ['large eggs' 'unsalted butter' 'all-purpose flour' 'salt' 'warm water'\n",
      " 'kosher salt' 'whole milk'] [0.11322996 0.08809719 0.07834218 0.05542412 0.03642591 0.03384155\n",
      " 0.03041398]\n",
      "Latent recipe 10 : ['onions' 'salt' 'garlic' 'water' 'dried oregano' 'olive oil'\n",
      " 'tomato paste'] [0.06256989 0.05929956 0.04845002 0.0474452  0.04065642 0.03574472\n",
      " 0.02986749]\n",
      "Latent recipe 11 : ['salt' 'jalapeno chilies' 'olive oil' 'avocado' 'chopped cilantro fresh'\n",
      " 'ground cumin' 'garlic'] [0.05456195 0.04413609 0.03309708 0.02915932 0.02848998 0.02786373\n",
      " 0.02673306]\n",
      "Latent recipe 12 : ['all-purpose flour' 'salt' 'baking powder' 'eggs' 'milk' 'butter' 'sugar'] [0.09951119 0.09438648 0.07370745 0.06540486 0.05348447 0.0525129\n",
      " 0.04310377]\n",
      "Latent recipe 13 : ['soy sauce' 'sesame oil' 'corn starch' 'sugar' 'green onions' 'scallions'\n",
      " 'water'] [0.06457698 0.04117372 0.0317102  0.03049058 0.02946362 0.02832937\n",
      " 0.02515206]\n",
      "Latent recipe 14 : ['salt' 'ground cumin' 'olive oil' 'garlic cloves' 'ground coriander'\n",
      " 'onions' 'curry powder'] [0.04251507 0.04018955 0.03282752 0.02734358 0.0259217  0.0246097\n",
      " 0.02125331]\n",
      "Latent recipe 15 : ['fish sauce' 'shallots' 'sugar' 'fresh lime juice' 'lime' 'coconut milk'\n",
      " 'vegetable oil'] [0.05278793 0.0266745  0.02473905 0.02439278 0.02356027 0.02059192\n",
      " 0.02049545]\n",
      "Latent recipe 16 : ['onions' 'green bell pepper' 'salt' 'shrimp' 'garlic' 'butter'\n",
      " 'dried thyme'] [0.03842815 0.03636934 0.03595589 0.02390124 0.02282973 0.02079022\n",
      " 0.0204564 ]\n",
      "Latent recipe 17 : ['oil' 'salt' 'garlic' 'onions' 'water' 'soy sauce' 'cooking oil'] [0.05378128 0.05302941 0.05268107 0.04218507 0.03200383 0.02855481\n",
      " 0.02475388]\n",
      "Latent recipe 18 : ['carrots' 'onions' 'celery' 'water' 'potatoes' 'celery ribs' 'bay leaf'] [0.14153505 0.06699821 0.03572179 0.03409474 0.03322178 0.02725356\n",
      " 0.02418431]\n",
      "Latent recipe 19 : ['olive oil' 'grated parmesan cheese' 'salt' 'garlic' 'fresh basil'\n",
      " 'pepper' 'garlic cloves'] [0.05794842 0.0449917  0.0396101  0.03076349 0.0220109  0.01896717\n",
      " 0.01754748]\n",
      "\n",
      "N component = 20\n"
     ]
    },
    {
     "data": {
      "image/png": "[encoded data removed]",
      "text/plain": [
       "<Figure size 432x288 with 1 Axes>"
      ]
     },
     "metadata": {
      "needs_background": "light"
     },
     "output_type": "display_data"
    },
    {
     "name": "stdout",
     "output_type": "stream",
     "text": [
      "Top ingredients for each \"latent recipe\":\n",
      "Latent recipe 1 : ['salt' 'oil' 'onions' 'cumin seed' 'green chilies' 'water' 'clove'] [0.06313248 0.05828833 0.04009039 0.03619277 0.0322043  0.02610341\n",
      " 0.02562842]\n",
      "Latent recipe 2 : ['sugar' 'water' 'cider vinegar' 'cold water' 'fresh lemon juice'\n",
      " 'orange juice' 'strawberries'] [0.18343974 0.05050823 0.01975311 0.01928139 0.01753385 0.01647755\n",
      " 0.01593126]\n",
      "Latent recipe 3 : ['peeled fresh ginger' 'garlic cloves' 'chopped cilantro fresh'\n",
      " 'sliced green onions' 'fresh lime juice' 'water' 'salt'] [0.05345174 0.03601122 0.03147586 0.0310976  0.02934729 0.02720698\n",
      " 0.02352116]\n",
      "Latent recipe 4 : ['extra-virgin olive oil' 'fresh lemon juice' 'olive oil' 'garlic cloves'\n",
      " 'dry white wine' 'flat leaf parsley' 'salt'] [0.06112424 0.05317643 0.04890004 0.04757052 0.04013306 0.03297338\n",
      " 0.03170348]\n",
      "Latent recipe 5 : ['salt' 'sugar' 'all-purpose flour' 'baking powder' 'butter'\n",
      " 'vanilla extract' 'large eggs'] [0.06158889 0.05761847 0.05289849 0.03944549 0.0362318  0.02945958\n",
      " 0.0267663 ]\n",
      "Latent recipe 6 : ['unsalted butter' 'large eggs' 'all-purpose flour' 'kosher salt' 'salt'\n",
      " 'heavy cream' 'whole milk'] [0.10630663 0.10014657 0.05158434 0.04024835 0.03485361 0.02999369\n",
      " 0.026295  ]\n",
      "Latent recipe 7 : ['olive oil' 'fresh basil' 'extra-virgin olive oil'\n",
      " 'grated parmesan cheese' 'salt' 'garlic cloves' 'garlic'] [0.06873287 0.04165378 0.03697039 0.03538574 0.03288364 0.03062409\n",
      " 0.02965483]\n",
      "Latent recipe 8 : ['garlic powder' 'paprika' 'salt' 'cayenne pepper' 'worcestershire sauce'\n",
      " 'ground black pepper' 'onion powder'] [0.0598136  0.05122554 0.04917742 0.0457695  0.03220627 0.03118566\n",
      " 0.02962659]\n",
      "Latent recipe 9 : ['onions' 'carrots' 'salt' 'water' 'bay leaves' 'garlic' 'olive oil'] [0.06537553 0.0612307  0.03795915 0.03040312 0.02580188 0.02449754\n",
      " 0.02411344]\n",
      "Latent recipe 10 : ['salt' 'jalapeno chilies' 'avocado' 'garlic' 'olive oil' 'ground cumin'\n",
      " 'chopped cilantro fresh'] [0.05025448 0.04104873 0.03028449 0.02994404 0.02990257 0.0267788\n",
      " 0.02515388]\n",
      "Latent recipe 11 : ['onions' 'salt' 'garlic' 'green bell pepper' 'water' 'olive oil' 'pepper'] [0.06986524 0.05139421 0.03945437 0.035164   0.03270452 0.02739696\n",
      " 0.0235165 ]\n",
      "Latent recipe 12 : ['soy sauce' 'sesame oil' 'garlic' 'sugar' 'corn starch' 'green onions'\n",
      " 'water'] [0.07088893 0.0381334  0.0322188  0.0308207  0.02915375 0.0272459\n",
      " 0.02674331]\n",
      "Latent recipe 13 : ['sour cream' 'salsa' 'shredded cheddar cheese' 'chili powder'\n",
      " 'flour tortillas' 'black beans' 'onions'] [0.05619488 0.03983434 0.03486247 0.03417483 0.03394672 0.02459915\n",
      " 0.02269436]\n",
      "Latent recipe 14 : ['sea salt' 'vinegar' 'spring onions' 'caster sugar' 'spices'\n",
      " 'plain flour' 'peppercorns'] [0.16243108 0.03397799 0.02536376 0.02247132 0.02069253 0.01688031\n",
      " 0.01681926]\n",
      "Latent recipe 15 : ['purple onion' 'salt' 'olive oil' 'lemon juice' 'red wine vinegar'\n",
      " 'pepper' 'cucumber'] [0.05696575 0.05615605 0.05142797 0.04633173 0.03461461 0.02771295\n",
      " 0.02758911]\n",
      "Latent recipe 16 : ['salt' 'eggs' 'butter' 'pepper' 'milk' 'grated parmesan cheese' 'onions'] [0.07718854 0.07236379 0.06129621 0.05477182 0.03779023 0.03569469\n",
      " 0.03167366]\n",
      "Latent recipe 17 : ['fish sauce' 'coconut milk' 'shallots' 'lime' 'sugar' 'garlic'\n",
      " 'vegetable oil'] [0.06110137 0.02730768 0.02451375 0.02421592 0.02333127 0.02260312\n",
      " 0.02191671]\n",
      "Latent recipe 18 : ['salt' 'cooking spray' 'olive oil' 'garlic cloves' 'chopped onion'\n",
      " 'warm water' 'butter'] [0.06653771 0.0571729  0.05063729 0.04603769 0.03304274 0.02892025\n",
      " 0.02476951]\n",
      "Latent recipe 19 : ['ground cumin' 'salt' 'onions' 'ground coriander' 'curry powder' 'garlic'\n",
      " 'olive oil'] [0.04949488 0.04051141 0.03645086 0.03103222 0.02804233 0.02766644\n",
      " 0.02220723]\n",
      "Latent recipe 20 : ['orange' 'pork' 'meat' 'fresh orange juice' 'vegetables'\n",
      " 'shredded cabbage' 'seasoning'] [0.06006077 0.02352014 0.02318358 0.0209717  0.01923454 0.01878538\n",
      " 0.01856045]\n",
      "\n"
     ]
    }
   ],
   "source": [
    "for NComponents in np.arange(1,20)+1:\n",
    "\n",
    "    print('N component =', NComponents)\n",
    "\n",
    "    # load in BMF results\n",
    "    latentRecipes = pd.read_csv('LDAresults/NComponents'+str(NComponents)+'_latentRecipes.csv', header=None, index_col=False).values # pseudo counts\n",
    "    latentRecipes = latentRecipes/np.sum(latentRecipes,axis=1)[:,np.newaxis] # feature weights\n",
    "    recipeProportionsfromLatentRecipes = pd.read_csv('LDAresults/NComponents'+str(NComponents)+'_recipeProportionsfromLatentRecipes.csv', header=None, index_col=False).values\n",
    "\n",
    "    # histogram of feature weights for each \"latent recipe\"\n",
    "    for i in range(NComponents):\n",
    "        sns.distplot(latentRecipes[i,:], bins=np.linspace(0,1,101), label=i, kde=False)\n",
    "    plt.show()\n",
    "\n",
    "    # top ingredients for each \"latent recipe\"\n",
    "    print('Top ingredients for each \"latent recipe\":')\n",
    "    for i in range(NComponents):\n",
    "        topIndices = np.where((latentRecipes[i,:] > np.percentile(latentRecipes[i,:], 99.9)))[0] #&(latentRecipes[i,:] > 0.1)\n",
    "        topIndices = topIndices[np.argsort(-latentRecipes[i, topIndices])]\n",
    "        print('Latent recipe', i+1, ':', dataBinaryIngredients.columns.values[topIndices], latentRecipes[i, topIndices]) #, latentRecipes[i, topIndices]\n",
    "    \n",
    "    print('')"
   ]
  },
  {
   "cell_type": "code",
   "execution_count": null,
   "metadata": {},
   "outputs": [],
   "source": [
    "for NComponents in np.arange(1,20)+1:\n",
    "\n",
    "    print('N component =', NComponents)\n",
    "\n",
    "    # load in BMF results\n",
    "    latentRecipes200 = pd.read_csv('LDAresults/NComponents'+str(NComponents)+'_latentRecipes_maxIter200.csv', header=None, index_col=False).values # pseudo counts\n",
    "    latentRecipes200 = latentRecipes200/np.sum(latentRecipes200,axis=1)[:,np.newaxis] # feature weights\n",
    "    recipeProportionsfromLatentRecipes200 = pd.read_csv('LDAresults/NComponents'+str(NComponents)+'_recipeProportionsfromLatentRecipes_maxIter200.csv', header=None, index_col=False).values\n",
    "\n",
    "    # histogram of feature weights for each \"latent recipe\"\n",
    "    for i in range(NComponents):\n",
    "        sns.distplot(latentRecipes200[i,:], bins=np.linspace(0,1,101), label=i, kde=False)\n",
    "    plt.show()\n",
    "\n",
    "    # top ingredients for each \"latent recipe\"\n",
    "    print('Top ingredients for each \"latent recipe\":')\n",
    "    for i in range(NComponents):\n",
    "        topIndices = np.where((latentRecipes200[i,:] > np.percentile(latentRecipes200[i,:], 99.9)))[0] #&(latentRecipes[i,:] > 0.1)\n",
    "        topIndices = topIndices[np.argsort(-latentRecipes200[i, topIndices])]\n",
    "        print('Latent recipe', i+1, ':', dataBinaryIngredients.columns.values[topIndices], latentRecipes200[i, topIndices]) #, latentRecipes[i, topIndices]\n",
    "    \n",
    "    print('')"
   ]
  }
 ],
 "metadata": {
  "kernelspec": {
   "display_name": "Python 3",
   "language": "python",
   "name": "python3"
  },
  "language_info": {
   "codemirror_mode": {
    "name": "ipython",
    "version": 3
   },
   "file_extension": ".py",
   "mimetype": "text/x-python",
   "name": "python",
   "nbconvert_exporter": "python",
   "pygments_lexer": "ipython3",
   "version": "3.7.2"
  }
 },
 "nbformat": 4,
 "nbformat_minor": 2
}
